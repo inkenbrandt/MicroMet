{
 "cells": [
  {
   "cell_type": "code",
   "execution_count": null,
   "id": "3f54ab3e",
   "metadata": {
    "ExecuteTime": {
     "end_time": "2022-04-12T17:24:18.302512Z",
     "start_time": "2022-04-12T17:24:17.885688Z"
    }
   },
   "outputs": [],
   "source": [
    "#import urllib2\n",
    "from io import StringIO\n",
    "import os\n",
    "import xmltodict\n",
    "import pandas as pd\n",
    "import geopandas as gpd\n",
    "import windrose\n",
    "\n",
    "from datetime import datetime \n",
    "import statsmodels.api as sm\n",
    "\n",
    "from scipy.stats import linregress\n",
    "import matplotlib.pyplot as plt\n",
    "import numpy as np\n",
    "import sys\n",
    "import requests\n",
    "import glob\n",
    "\n",
    "from pyproj import CRS\n",
    "from pyproj import Transformer\n",
    "from shapely.geometry import Point\n",
    "\n",
    "import rasterstats as rs\n",
    "import rasterio\n",
    "\n",
    "from rasterio.plot import show\n",
    "from rasterio.mask import mask\n",
    "from rasterio.plot import show_hist\n",
    "from shapely.geometry import box\n",
    "from rasterstats import zonal_stats\n",
    "from windrose import WindroseAxes\n",
    "#import pycrs\n",
    "#import earthpy as et\n",
    "#import earthpy.plot as ep\n",
    "\n",
    "from scipy.optimize import curve_fit\n",
    "\n",
    "from sklearn import mixture\n",
    "import itertools\n",
    "from scipy import linalg\n",
    "import matplotlib as mpl\n",
    "\n",
    "\n",
    "from plotly.offline import download_plotlyjs, init_notebook_mode, plot, iplot\n",
    "import plotly.graph_objs as go\n",
    "\n",
    "init_notebook_mode(connected=True)\n",
    "\n",
    "#import pymannkendall as mk\n",
    "from pylab import rcParams\n",
    "%matplotlib inline\n",
    "rcParams['figure.figsize'] = 15, 10"
   ]
  },
  {
   "cell_type": "markdown",
   "id": "c9aed21f",
   "metadata": {},
   "source": [
    "Replot the data to see how well the dumb filter worked."
   ]
  },
  {
   "cell_type": "code",
   "execution_count": null,
   "id": "5a640b38",
   "metadata": {
    "ExecuteTime": {
     "end_time": "2022-04-12T19:31:03.100757Z",
     "start_time": "2022-04-12T19:31:02.953041Z"
    }
   },
   "outputs": [],
   "source": [
    "\n"
   ]
  },
  {
   "cell_type": "code",
   "execution_count": null,
   "id": "a81f3eeb",
   "metadata": {
    "ExecuteTime": {
     "end_time": "2022-04-12T19:21:45.261852Z",
     "start_time": "2022-04-12T19:21:45.240938Z"
    },
    "code_folding": [
     0
    ]
   },
   "outputs": [],
   "source": [
    "def plotlystuff(datasets, colnames, chrttypes=None, datatitles=None, chrttitle = 'well', colors=None,\n",
    "                two_yaxes = False, axisdesig= None, axislabels=['Levels','Barometric Pressure'],opac=None):\n",
    "    \n",
    "    if chrttypes is None:\n",
    "        chrttypes = ['lines']*len(datasets)\n",
    "\n",
    "    if opac is None:\n",
    "        opac = [0.8]*len(datasets)\n",
    "        \n",
    "    if datatitles is None:\n",
    "        datatitles = colnames\n",
    "    \n",
    "    if axisdesig is None:\n",
    "        axisdesig = ['y1']*len(datasets)\n",
    "        \n",
    "    if colors is None:\n",
    "        if len(datasets) <= 5: \n",
    "            colors = ['#228B22','#F7DC6F','#FF1493','#663399','#FF0000']\n",
    "        else:\n",
    "            colors = []\n",
    "            for i in range(len(datasets)):\n",
    "                colors[i] = '#{:02x}{:02x}{:02x}'.format(r(), r(), r())\n",
    "        \n",
    "    r = lambda: random.randint(0,255)\n",
    "    \n",
    "    modetypes = ['markers','lines+markers','lines']\n",
    "    datum = {}\n",
    "    \n",
    "    for i in range(len(datasets)):\n",
    "        datum['d' + str(i)] = go.Scatter(\n",
    "            x=datasets[i].index,\n",
    "            y=datasets[i][colnames[i]],\n",
    "            name = datatitles[i],\n",
    "            line = dict(color = colors[i]),\n",
    "            mode = chrttypes[i],\n",
    "            opacity = opac[i],\n",
    "            yaxis = axisdesig[i])\n",
    "        \n",
    "    data = list(datum.values())\n",
    "\n",
    "    layout = dict(\n",
    "        title=chrttitle,\n",
    "        xaxis=dict(\n",
    "            rangeslider=dict(\n",
    "                visible = True\n",
    "            ),\n",
    "            type='date',\n",
    "            tickformat='%Y-%m-%d %H:%M'\n",
    "        ),\n",
    "        yaxis=dict(title=axislabels[0],\n",
    "                   titlefont=dict(color='#1f77b4'),\n",
    "                   tickfont=dict(color='#1f77b4')),\n",
    "    )\n",
    "    \n",
    "    \n",
    "    if two_yaxes:\n",
    "        layout['yaxis2'] = dict(title=axislabels[1], titlefont=dict(color='#ff7f0e'),\n",
    "                    tickfont=dict(color='#ff7f0e'),\n",
    "                    anchor='x',\n",
    "                    overlaying='y',\n",
    "                    side='right',\n",
    "                    position=0.15)\n",
    "\n",
    "    fig = dict(data=data, layout=layout)\n",
    "    iplot(fig, filename = 'well')\n",
    "    return "
   ]
  },
  {
   "cell_type": "markdown",
   "id": "3db42cb1",
   "metadata": {},
   "source": [
    "# Read in File"
   ]
  },
  {
   "cell_type": "code",
   "execution_count": null,
   "id": "c91009c2",
   "metadata": {
    "ExecuteTime": {
     "end_time": "2022-04-12T20:08:22.080488Z",
     "start_time": "2022-04-12T20:08:20.498676Z"
    }
   },
   "outputs": [],
   "source": [
    "data_directory = \"G:/Shared drives/UGS_Groundwater/Projects/Eddy_Covariance/Data_Downloads/Wellington/wellington_csv/\"\n",
    "file_name = \"CSV_23861_Time_Series_131.dat\"\n",
    "file_path = os.path.join(data_directory, file_name)\n",
    "\n",
    "# assign column names to the various columns in the dataset\n",
    "# these are the standard CS time-series table columns\n",
    "col_names = ['fileno', 'year', 'doy', 'hhmm', 'ss', 'Ux', 'Uy', 'Uz', 'T_SONIC', 'diag_sonic', 'CO2_density',\n",
    "         'CO2_density_fast_tmpr','H2O_density','diag_irga','T_SONIC_corr','TA_1_1_1',\n",
    "          'PA','CO2_sig_strgth','H2O_sig_strgth']\n",
    "\n",
    "# Specify datatypes of the unsigned integers, otherwise they are inferred as float64\n",
    "dtypes = {'year':np.ushort,'doy':np.ushort,'hhmm':np.ushort,\n",
    "          'diag_sonic':np.ubyte, 'diag_irga':np.ubyte}\n",
    "\n",
    "# Specify which columns to keep, this leaves out the first column\n",
    "uscol = ['year', 'doy', 'hhmm', 'ss', 'Ux', 'Uy', 'Uz', 'T_SONIC',\n",
    "       'diag_sonic', 'CO2_density', 'CO2_density_fast_tmpr', 'H2O_density',\n",
    "       'diag_irga', 'T_SONIC_corr', 'TA_1_1_1', 'PA', 'CO2_sig_strgth',\n",
    "       'H2O_sig_strgth']\n",
    "\n",
    "\n",
    "df = pd.read_csv(test_file,names=col_names,dtype=dtypes,usecols=uscol)"
   ]
  },
  {
   "cell_type": "markdown",
   "id": "e5d9f78e",
   "metadata": {},
   "source": [
    "# Create Datetime Index for the File"
   ]
  },
  {
   "cell_type": "code",
   "execution_count": null,
   "id": "0e303013",
   "metadata": {
    "ExecuteTime": {
     "end_time": "2022-04-12T20:25:19.796619Z",
     "start_time": "2022-04-12T20:25:19.789638Z"
    }
   },
   "outputs": [],
   "source": [
    "def dateconv(x):\n",
    "    \"\"\"This function take an array that includes year, day of year, hour minute (no colon), \n",
    "    and second and converts it into a datetime\n",
    "    \n",
    "    x = 4x1 array with year, day of year, hour minute (no colon), and decimal seconds\n",
    "    \n",
    "    returns datetime    \n",
    "    \"\"\"\n",
    "    \n",
    "    # see https://strftime.org/\n",
    "    fmt = \"%Y %j %H%M %S %f\"\n",
    "\n",
    "    day = x[1]\n",
    "    hhmm = x[2]\n",
    "    \n",
    "    # splits decimal and int into two numbers\n",
    "    ms, s = math.modf(x[3])\n",
    "    \n",
    "    # convert all numbers into a string\n",
    "    dtstr = f\"{x[0]:0.0f} {x[1]:0.0f} {hhmm:4.0f} {s:2.0f} {ms*1e6:6.0f}\"\n",
    "\n",
    "    # deals with error that happens when hours, minutes, and seconds are 0\n",
    "    if hhmm == 0:\n",
    "        dtstr = f\"{x[0]:0.0f} {x[1]:0.0f} {s:2.0f} {ms*1e6:6.0f}\"\n",
    "        fmt = \"%Y %j %S %f\"\n",
    "        \n",
    "    return datetime.strptime(dtstr,fmt)\n",
    "\n",
    "x = [1900,171,812,30.0]\n",
    "\n",
    "print(f\"Example 1: {dateconv(x)}\")\n",
    "\n",
    "x = [2019,1,0,30.0]\n",
    "\n",
    "print(f\"Example 2: {dateconv(x)}\")\n",
    "\n",
    "x = [2019,1,0,0.0]\n",
    "\n",
    "print(f\"Example 3: {dateconv(x)}\")"
   ]
  },
  {
   "cell_type": "code",
   "execution_count": null,
   "id": "d73e2144",
   "metadata": {
    "ExecuteTime": {
     "end_time": "2022-04-12T20:25:45.970765Z",
     "start_time": "2022-04-12T20:25:45.836139Z"
    }
   },
   "outputs": [],
   "source": [
    "# Get start and end dates of the dataset\n",
    "sdate = dateconv(df.loc[df.index[0],['year','doy','hhmm','ss']])\n",
    "s2date = dateconv(df.loc[df.index[1],['year','doy','hhmm','ss']])\n",
    "edate = dateconv(df.loc[df.index[-1],['year','doy','hhmm','ss']])\n",
    "dtrng = pd.date_range(start=sdate,end=edate,freq='0.05S')\n",
    "\n",
    "# Make sure the frequencies and the length of the data match up, if not convert all time data into a datetime index (slow)\n",
    "if len(dtrng) == len(df) and pd.to_timedelta(dtrng.freq)==(s2date-sdate):\n",
    "    df['datetime'] = dtrng\n",
    "else:\n",
    "    df['datetime'] = df[['year','doy','hhmm','ss']].apply(lambda x: dateconv(x),1)\n",
    "df = df.set_index('datetime')\n",
    "df = df.drop(['year','doy','hhmm','ss'],axis=1)"
   ]
  },
  {
   "cell_type": "markdown",
   "id": "709d8cbf",
   "metadata": {},
   "source": [
    "# Filter Data with Poor Signal Strength"
   ]
  },
  {
   "cell_type": "code",
   "execution_count": null,
   "id": "b2ff1415",
   "metadata": {
    "ExecuteTime": {
     "end_time": "2022-04-12T20:26:59.780001Z",
     "start_time": "2022-04-12T20:25:52.845966Z"
    }
   },
   "outputs": [],
   "source": [
    "df = df.where(df['H2O_sig_strgth']>0.7, np.nan)\n",
    "df['H2O_sig_strgth'].plot()"
   ]
  },
  {
   "cell_type": "markdown",
   "id": "e3ded568",
   "metadata": {},
   "source": [
    "Plot the raw wind data. Note: plotting is SLOW!"
   ]
  },
  {
   "cell_type": "code",
   "execution_count": null,
   "id": "7a16c854",
   "metadata": {
    "ExecuteTime": {
     "end_time": "2022-04-12T20:31:24.074521Z",
     "start_time": "2022-04-12T20:27:28.361002Z"
    }
   },
   "outputs": [],
   "source": [
    "fix, ax = plt.subplots(3,1,sharex=True)\n",
    "df['Ux'].plot(ax=ax[0],color='blue')\n",
    "df['Uy'].plot(ax=ax[1],color='red')\n",
    "df['Uz'].plot(ax=ax[2],color='purple')\n",
    "\n",
    "ax[0].set_ylabel('Ux (m/s)')\n",
    "ax[1].set_ylabel('Uy (m/s)')\n",
    "ax[2].set_ylabel('Uz (m/s)')"
   ]
  },
  {
   "cell_type": "markdown",
   "id": "08395b73",
   "metadata": {},
   "source": [
    "# Rough Filtering for Major Spikes"
   ]
  },
  {
   "cell_type": "markdown",
   "id": "a3b75583",
   "metadata": {},
   "source": [
    "Currently, this filter removes major spikes with a really dumb limit of 100.  This should be replaced with a smarter filter that has a moving window."
   ]
  },
  {
   "cell_type": "code",
   "execution_count": null,
   "id": "3ad33e86",
   "metadata": {
    "ExecuteTime": {
     "end_time": "2022-04-12T20:37:19.909565Z",
     "start_time": "2022-04-12T20:37:19.784894Z"
    }
   },
   "outputs": [],
   "source": [
    "cols = ['Ux','Uy','Uz']\n",
    "df_sub = df.loc[:, cols]\n",
    "\n",
    "lim = np.abs(df_sub) < 100\n",
    "\n",
    "# replace outliers with nan\n",
    "df.loc[:, cols] = df_sub.where(lim, np.nan)"
   ]
  },
  {
   "cell_type": "markdown",
   "id": "e71dc5e0",
   "metadata": {},
   "source": [
    "Replot the data to test how well the filter worked. Note: plotting is SLOW!"
   ]
  },
  {
   "cell_type": "code",
   "execution_count": null,
   "id": "b4a9ba20",
   "metadata": {
    "ExecuteTime": {
     "end_time": "2022-04-12T20:43:08.849528Z",
     "start_time": "2022-04-12T20:39:10.496763Z"
    }
   },
   "outputs": [],
   "source": [
    "fix, ax = plt.subplots(3,1,sharex=True)\n",
    "df['Ux'].plot(ax=ax[0],color='blue')\n",
    "df['Uy'].plot(ax=ax[1],color='red')\n",
    "df['Uz'].plot(ax=ax[2],color='purple')\n",
    "\n",
    "ax[0].set_ylabel('Ux (m/s)')\n",
    "ax[1].set_ylabel('Uy (m/s)')\n",
    "ax[2].set_ylabel('Uz (m/s)')"
   ]
  },
  {
   "cell_type": "markdown",
   "id": "e98a689c",
   "metadata": {
    "ExecuteTime": {
     "end_time": "2022-04-12T20:43:09.035864Z",
     "start_time": "2022-04-12T20:43:09.021216Z"
    }
   },
   "source": [
    "Replot the data in an interactive plot to test how well the filter worked. Note: plotting is SLOW!"
   ]
  },
  {
   "cell_type": "code",
   "execution_count": null,
   "id": "03334425",
   "metadata": {
    "ExecuteTime": {
     "end_time": "2022-04-12T20:52:42.449813Z",
     "start_time": "2022-04-12T20:52:15.502361Z"
    }
   },
   "outputs": [],
   "source": [
    "plotlystuff([df], ['Ux'], chrttypes=None, datatitles=None, chrttitle = 'Ux', \n",
    "            axislabels=['Ux m/s'],opac=None)"
   ]
  },
  {
   "cell_type": "markdown",
   "id": "7761bc3e",
   "metadata": {},
   "source": [
    "More dumb filters.  Do not run these unless you want to see why they are dumb."
   ]
  },
  {
   "cell_type": "code",
   "execution_count": null,
   "id": "73ae45ac",
   "metadata": {},
   "outputs": [],
   "source": [
    "#cols = df.select_dtypes('number').columns  # limits to a (float), b (int) and e (timedelta)\n",
    "#df_sub = df.loc[:, cols]\n",
    "\n",
    "#dumb_filters = {'z-score':np.abs((df_sub - df_sub.mean()) / df_sub.std(ddof=0)) < 2.8,\n",
    "#               'quantile':np.logical_or(df_sub < df_sub.quantile(0.99, numeric_only=False),\n",
    "#                                        df_sub > df_sub.quantile(0.01, numeric_only=False)),\n",
    "#                'iqr':np.abs((df_sub - df_sub.median()) / (df_sub.quantile(0.75, numeric_only=False) - df_sub.quantile(0.25, numeric_only=False))) < 2.22\n",
    "#               }\n",
    "## OPTION 1: z-score filter: z-score < 3\n",
    "## OPTION 2: quantile filter: discard 1% upper / lower values\n",
    "## OPTION 3: iqr filter: within 2.22 IQR (equiv. to z-score < 3)\n",
    "\n",
    "## replace outliers with nan\n",
    "#df.loc[:, cols] = df_sub.where(dumb_filters['z-score'], np.nan)"
   ]
  },
  {
   "cell_type": "markdown",
   "id": "492c4a77",
   "metadata": {},
   "source": [
    "Here is a moving window filter stolen from my [transducer processing library](https://github.com/utah-geological-survey/loggerloader/blob/master/loggerloader/loader.py#L646-L693)."
   ]
  },
  {
   "cell_type": "code",
   "execution_count": null,
   "id": "1510f514",
   "metadata": {
    "ExecuteTime": {
     "end_time": "2022-04-12T20:43:08.957911Z",
     "start_time": "2022-04-12T20:43:08.929315Z"
    }
   },
   "outputs": [],
   "source": [
    "def smoother(df, p, win=30, sd=3):\n",
    "    \"\"\"Remove outliers from a pandas dataframe column and fill with interpolated values.\n",
    "    warning: this will fill all NaN values in the DataFrame with the interpolate function\n",
    "    Args:\n",
    "        df (pandas.core.frame.DataFrame):\n",
    "            Pandas DataFrame of interest\n",
    "        p (string):\n",
    "            column in dataframe with outliers\n",
    "        win (int):\n",
    "            size of window in time steps (default 30)\n",
    "        sd (int):\n",
    "            number of standard deviations allowed (default 3)\n",
    "    Returns:\n",
    "        Pandas DataFrame with outliers removed\n",
    "    \"\"\"\n",
    "    df1 = df\n",
    "    df1.loc[:, 'dp' + p] = df1.loc[:, p].diff()\n",
    "    df1.loc[:, 'ma' + p] = df1.loc[:, 'dp' + p].rolling(window=win, center=True).mean()\n",
    "    df1.loc[:, 'mst' + p] = df1.loc[:, 'dp' + p].rolling(window=win, center=True).std()\n",
    "    for i in df.index:\n",
    "        try:\n",
    "            if abs(df1.loc[i, 'dp' + p] - df1.loc[i, 'ma' + p]) >= abs(df1.loc[i, 'mst' + p] * sd):\n",
    "                df.loc[i, p] = np.nan\n",
    "            else:\n",
    "                df.loc[i, p] = df.loc[i, p]\n",
    "        except ValueError:\n",
    "            try:\n",
    "                if abs(df1.loc[i, 'dp' + p] - df1.loc[i, 'ma' + p]) >= abs(df1.loc[:, 'dp' + p].std() * sd):\n",
    "                    df.loc[i, p] = np.nan\n",
    "                else:\n",
    "                    df.loc[i, p] = df.loc[i, p]\n",
    "            except ValueError:\n",
    "                df.loc[i, p] = df.loc[i, p]\n",
    "\n",
    "    try:\n",
    "        df1 = df1.drop(['dp' + p, 'ma' + p, 'mst' + p], axis=1)\n",
    "    except(NameError, ValueError):\n",
    "        pass\n",
    "    del df1\n",
    "    try:\n",
    "        df = df.drop(['dp' + p, 'ma' + p, 'mst' + p], axis=1)\n",
    "    except(NameError, ValueError):\n",
    "        pass\n",
    "    df = df.interpolate(method='time', limit=30)\n",
    "    df = df[1:-1]\n",
    "    return df"
   ]
  },
  {
   "cell_type": "code",
   "execution_count": null,
   "id": "d9fb346f",
   "metadata": {
    "ExecuteTime": {
     "end_time": "2022-04-12T21:01:10.395956Z",
     "start_time": "2022-04-12T20:56:46.131431Z"
    }
   },
   "outputs": [],
   "source": [
    "df1 = smoother(df, 'Ux')\n",
    "df1['Ux'].plot()"
   ]
  },
  {
   "cell_type": "code",
   "execution_count": null,
   "id": "69937681",
   "metadata": {
    "ExecuteTime": {
     "end_time": "2022-04-12T21:05:45.673885Z",
     "start_time": "2022-04-12T21:05:19.864580Z"
    }
   },
   "outputs": [],
   "source": [
    "plotlystuff([df1], ['Ux'], chrttypes=None, datatitles=None, chrttitle = 'Ux', \n",
    "            axislabels=['Ux m/s'],opac=None)"
   ]
  },
  {
   "cell_type": "markdown",
   "id": "d0e23ecb",
   "metadata": {},
   "source": [
    "# Gap Filling"
   ]
  },
  {
   "cell_type": "markdown",
   "id": "631770f1",
   "metadata": {},
   "source": [
    "Gap filling should be done with proxy values.  Martin uses [R-EddyProc](https://github.com/bgctw/REddyProc) for this. Evaporative fraction could be a good proxy."
   ]
  },
  {
   "cell_type": "code",
   "execution_count": null,
   "id": "dc44a35e",
   "metadata": {
    "ExecuteTime": {
     "end_time": "2022-04-12T21:20:00.482186Z",
     "start_time": "2022-04-12T21:19:59.784750Z"
    }
   },
   "outputs": [],
   "source": [
    "df = df.interpolate(method='time')"
   ]
  },
  {
   "cell_type": "code",
   "execution_count": null,
   "id": "73ec117e",
   "metadata": {},
   "outputs": [],
   "source": []
  }
 ],
 "metadata": {
  "kernelspec": {
   "display_name": "Python 3 (ipykernel)",
   "language": "python",
   "name": "python3"
  },
  "language_info": {
   "codemirror_mode": {
    "name": "ipython",
    "version": 3
   },
   "file_extension": ".py",
   "mimetype": "text/x-python",
   "name": "python",
   "nbconvert_exporter": "python",
   "pygments_lexer": "ipython3",
   "version": "3.9.12"
  },
  "latex_envs": {
   "LaTeX_envs_menu_present": true,
   "autoclose": false,
   "autocomplete": true,
   "bibliofile": "biblio.bib",
   "cite_by": "apalike",
   "current_citInitial": 1,
   "eqLabelWithNumbers": true,
   "eqNumInitial": 1,
   "hotkeys": {
    "equation": "Ctrl-E",
    "itemize": "Ctrl-I"
   },
   "labels_anchors": false,
   "latex_user_defs": false,
   "report_style_numbering": false,
   "user_envs_cfg": false
  },
  "toc": {
   "base_numbering": 1,
   "nav_menu": {},
   "number_sections": true,
   "sideBar": true,
   "skip_h1_title": false,
   "title_cell": "Table of Contents",
   "title_sidebar": "Contents",
   "toc_cell": false,
   "toc_position": {},
   "toc_section_display": true,
   "toc_window_display": false
  },
  "varInspector": {
   "cols": {
    "lenName": 16,
    "lenType": 16,
    "lenVar": 40
   },
   "kernels_config": {
    "python": {
     "delete_cmd_postfix": "",
     "delete_cmd_prefix": "del ",
     "library": "var_list.py",
     "varRefreshCmd": "print(var_dic_list())"
    },
    "r": {
     "delete_cmd_postfix": ") ",
     "delete_cmd_prefix": "rm(",
     "library": "var_list.r",
     "varRefreshCmd": "cat(var_dic_list()) "
    }
   },
   "types_to_exclude": [
    "module",
    "function",
    "builtin_function_or_method",
    "instance",
    "_Feature"
   ],
   "window_display": false
  }
 },
 "nbformat": 4,
 "nbformat_minor": 5
}
