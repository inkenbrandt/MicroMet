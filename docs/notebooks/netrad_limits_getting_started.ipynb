{
 "cells": [
  {
   "cell_type": "markdown",
   "id": "8ae2d9d5",
   "metadata": {},
   "source": [
    "\n",
    "# Getting Started: `netrad_limits.py`\n",
    "\n",
    "This notebook walks through the main functions in your module:\n",
    "- Quick net radiation range estimates (`estimate_net_radiation_range`, `add_buffer`)\n",
    "- Computing potential shortwave radiation at top-of-atmosphere (`sw_in_pot_noaa`)\n",
    "- Timestamp-alignment QA/QC analysis on an AmeriFlux-like file (`analyze_timestamp_alignment`, `flag_issues`, `plot_summary`)\n",
    "\n",
    "> Files expected in the same environment:\n",
    "> - Module: `/mnt/data/netrad_limits.py`\n",
    "> - Data: `/mnt/data/AMF_US-CRT_BASE_HH_3-5.csv`\n"
   ]
  },
  {
   "cell_type": "code",
   "execution_count": null,
   "id": "b2bd5411",
   "metadata": {},
   "outputs": [],
   "source": [
    "\n",
    "# Standard imports\n",
    "import sys, importlib, math\n",
    "from pathlib import Path\n",
    "import numpy as np\n",
    "import pandas as pd\n",
    "import matplotlib.pyplot as plt\n",
    "\n",
    "# Make plots display inline\n",
    "%matplotlib inline\n",
    "\n",
    "# Paths\n",
    "MOD_PATH = Path(\"/mnt/data/netrad_limits.py\")\n",
    "DATA_PATH = Path(\"/mnt/data/AMF_US-CRT_BASE_HH_3-5.csv\")\n",
    "\n",
    "# Import the module directly from /mnt/data\n",
    "sys.path.insert(0, str(MOD_PATH.parent))\n",
    "import netrad_limits as nl\n",
    "importlib.reload(nl)\n",
    "\n",
    "print(\"Loaded module:\", nl.__name__, \"from\", nl.__file__)\n",
    "print(\"Pandas:\", pd.__version__, \"| NumPy:\", np.__version__)\n"
   ]
  },
  {
   "cell_type": "markdown",
   "id": "fa6c1f42",
   "metadata": {},
   "source": [
    "\n",
    "## 1) Quick net radiation range estimates\n",
    "\n",
    "Use `estimate_net_radiation_range(doy, hour)` to get a plausible range of **net radiation** (W m⁻²) for a given day-of-year and hour, assuming clear sky and typical temperature bounds. \n"
   ]
  },
  {
   "cell_type": "code",
   "execution_count": null,
   "id": "e4b913f3",
   "metadata": {},
   "outputs": [],
   "source": [
    "\n",
    "# Example: Summer solstice (~June 21 ≈ DOY 172), 14:00 local\n",
    "doy = 172\n",
    "hour = 14\n",
    "rn_min, rn_max = nl.estimate_net_radiation_range(doy, hour)\n",
    "print(f\"DOY={doy}, hour={hour}: Net radiation ~ {rn_min:.1f} to {rn_max:.1f} W/m²\")\n",
    "\n",
    "# Add a ±100 W/m² buffer (floors at -200 W/m²)\n",
    "print(\"Buffered:\", nl.add_buffer((rn_min, rn_max), buffer=100))\n",
    "\n",
    "# Diurnal range across 24 hours for the same DOY\n",
    "hours = np.arange(24)\n",
    "mins, maxs = zip(*[nl.estimate_net_radiation_range(doy, h) for h in hours])\n",
    "mins = np.array(mins); maxs = np.array(maxs)\n",
    "\n",
    "plt.figure(figsize=(8,4))\n",
    "plt.fill_between(hours, mins, maxs, alpha=0.3, label=\"Estimated Range\")\n",
    "plt.plot(hours, (mins+maxs)/2.0, label=\"Midpoint\")\n",
    "plt.xlabel(\"Hour (local)\"); plt.ylabel(\"Net radiation (W m$^{-2}$)\")\n",
    "plt.title(\"Estimated Net Radiation Range — DOY 172\")\n",
    "plt.legend()\n",
    "plt.show()\n"
   ]
  },
  {
   "cell_type": "markdown",
   "id": "f7be6d09",
   "metadata": {},
   "source": [
    "\n",
    "## 2) Potential shortwave radiation at TOA (NOAA formulation)\n",
    "\n",
    "`sw_in_pot_noaa` computes top-of-atmosphere potential shortwave irradiance (W m⁻²).  \n",
    "**Input timestamps must be in *local standard time* (fixed UTC offset, no DST).**\n"
   ]
  },
  {
   "cell_type": "code",
   "execution_count": null,
   "id": "029c00cc",
   "metadata": {},
   "outputs": [],
   "source": [
    "\n",
    "# Build a half-hourly local-standard-time index for a sample day\n",
    "step_minutes = 30\n",
    "date = \"2024-06-21\"\n",
    "dt = pd.date_range(f\"{date} 00:00\", f\"{date} 23:59\", freq=f\"{step_minutes}min\", inclusive=\"both\")\n",
    "\n",
    "# Convert to fixed-offset tz (e.g., Mountain Standard Time = UTC-7)\n",
    "dt_lst = nl._to_local_standard_time(dt, std_utc_offset_hours=-7, assume_naive_is_local=True)\n",
    "\n",
    "# Compute potential irradiance for a Utah-like location\n",
    "lat_deg = 39.5\n",
    "lon_deg = -111.9\n",
    "i0 = nl.sw_in_pot_noaa(dt_lst, lat_deg=lat_deg, lon_deg=lon_deg, std_utc_offset_hours=-7)\n",
    "\n",
    "# Plot\n",
    "plt.figure(figsize=(8,4))\n",
    "plt.plot(i0.index.tz_convert(None).hour + i0.index.tz_convert(None).minute/60.0, i0.values)\n",
    "plt.xlabel(\"Local standard time (hours)\")\n",
    "plt.ylabel(\"SW_IN_POT (W m$^{-2}$)\")\n",
    "plt.title(\"Top-of-Atmosphere Potential Shortwave — {date}\")\n",
    "plt.show()\n"
   ]
  },
  {
   "cell_type": "markdown",
   "id": "912ca40d",
   "metadata": {},
   "source": [
    "\n",
    "## 3) Timestamp-alignment QA/QC on an AmeriFlux-like file\n",
    "\n",
    "`analyze_timestamp_alignment` builds 15-day **maximum diurnal composites**, compares observed radiation to potential, and uses cross-correlation to estimate time lag.  \n",
    "You can then summarize likely issues with `flag_issues` and visualize with `plot_summary`.\n"
   ]
  },
  {
   "cell_type": "code",
   "execution_count": null,
   "id": "450d307c",
   "metadata": {},
   "outputs": [],
   "source": [
    "\n",
    "# Read the CSV (AmeriFlux BASE_HH-style)\n",
    "df = pd.read_csv(DATA_PATH)\n",
    "\n",
    "print(\"Rows x Cols:\", df.shape)\n",
    "print(\"First 5 columns:\", list(df.columns[:5]))\n",
    "display(df.head(3))\n",
    "\n",
    "# Helper to find expected columns with fallbacks\n",
    "def find_col(df, primary, contains=None):\n",
    "    if primary in df.columns:\n",
    "        return primary\n",
    "    if contains is not None:\n",
    "        # find the first column containing the substring (case-insensitive)\n",
    "        for c in df.columns:\n",
    "            if contains.lower() in c.lower():\n",
    "                return c\n",
    "    return None\n",
    "\n",
    "start_col = find_col(df, \"TIMESTAMP_START\", contains=\"TIMESTAMP_START\")\n",
    "end_col   = find_col(df, \"TIMESTAMP_END\",   contains=\"TIMESTAMP_END\")\n",
    "sw_col    = find_col(df, \"SW_IN\",           contains=\"SW_IN\")\n",
    "ppfd_col  = find_col(df, \"PPFD_IN\",         contains=\"PPFD\")\n",
    "\n",
    "print(\"Using columns -> START:\", start_col, \"| END:\", end_col, \"| SW_IN:\", sw_col, \"| PPFD:\", ppfd_col)\n",
    "\n",
    "# Run analysis (assumes timestamps are UTC if naive; converted to fixed local standard time internally)\n",
    "summary, composites = nl.analyze_timestamp_alignment(\n",
    "    df,\n",
    "    lat=39.5, lon=-111.9,\n",
    "    std_utc_offset_hours=-7,   # Mountain Standard Time\n",
    "    time_from=\"CENTER\",\n",
    "    start_col=start_col or \"TIMESTAMP_START\",\n",
    "    end_col=end_col or \"TIMESTAMP_END\",\n",
    "    sw_col=sw_col or \"SW_IN\",\n",
    "    ppfd_col=ppfd_col or \"PPFD_IN\",\n",
    "    assume_naive_is_local=False,\n",
    "    max_lag_steps=6,\n",
    ")\n",
    "\n",
    "print(\"Summary shape:\", summary.shape)\n",
    "display(summary.head(10))\n",
    "\n",
    "# Heuristic flags\n",
    "flags = nl.flag_issues(summary)\n",
    "print(\"\\nHeuristic flags:\")\n",
    "for k, v in flags.items():\n",
    "    print(f\" - {k}: {v}\")\n",
    "\n",
    "# Plots (exceedance, lags, and worst-window overlay)\n",
    "figs = nl.plot_summary(summary, composites)\n"
   ]
  },
  {
   "cell_type": "markdown",
   "id": "718b7029",
   "metadata": {},
   "source": [
    "\n",
    "## 4) Save figures (optional)\n",
    "\n",
    "Re-run the summary plotting and save PNG files with an `outfile_prefix`.\n"
   ]
  },
  {
   "cell_type": "code",
   "execution_count": null,
   "id": "099f1458",
   "metadata": {},
   "outputs": [],
   "source": [
    "\n",
    "out_prefix = \"timestamp_alignment_demo\"\n",
    "_ = nl.plot_summary(summary, composites, outfile_prefix=out_prefix)\n",
    "\n",
    "from pathlib import Path\n",
    "list(Path(\".\").glob(out_prefix + \"*.png\"))\n"
   ]
  },
  {
   "cell_type": "markdown",
   "id": "3cf2d0bb",
   "metadata": {},
   "source": [
    "\n",
    "## Next steps\n",
    "- Swap in real site latitude/longitude and the correct UTC offset for **local standard time** (no DST).\n",
    "- Compare `lag_steps_sw`/`lag_steps_ppfd` across seasons; investigate large or systematic offsets.\n",
    "- Inspect windows with large `% exceed` values for instrument issues (leveling/shading/calibration) or timestamp mismatches.\n"
   ]
  }
 ],
 "metadata": {
  "kernelspec": {
   "display_name": "Python 3",
   "language": "python",
   "name": "python3"
  },
  "language_info": {
   "name": "python",
   "pygments_lexer": "ipython3"
  }
 },
 "nbformat": 4,
 "nbformat_minor": 5
}
