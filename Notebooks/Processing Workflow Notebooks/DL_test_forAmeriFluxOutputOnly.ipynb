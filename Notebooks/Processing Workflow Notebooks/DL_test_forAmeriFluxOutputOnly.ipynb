{
 "cells": [
  {
   "cell_type": "code",
   "id": "initial_id",
   "metadata": {
    "ExecuteTime": {
     "end_time": "2024-12-22T21:29:59.217742Z",
     "start_time": "2024-12-22T21:29:56.854065Z"
    }
   },
   "source": [
    "import pandas as pd\n",
    "\n",
    "import sys\n",
    "import pathlib\n",
    "\n",
    "import statsmodels.api as sm\n",
    "#import pingouin as pg\n",
    "import plotly.express as px\n",
    "\n",
    "import numpy as np\n",
    "import matplotlib.pyplot as plt\n",
    "from ipywidgets import widgets, HBox, Dropdown, IntSlider, interact\n",
    "from IPython.display import display\n",
    "\n",
    "%matplotlib inline"
   ],
   "outputs": [],
   "execution_count": 1
  },
  {
   "metadata": {
    "ExecuteTime": {
     "end_time": "2024-12-22T21:29:59.229414Z",
     "start_time": "2024-12-22T21:29:59.223774Z"
    }
   },
   "cell_type": "code",
   "source": [
    "import logging\n",
    "import os\n",
    "\n",
    "\n",
    "os.makedirs(\"../../logs\", exist_ok=True)\n",
    "# Ensure the file is created if it doesn't exist\n",
    "log_filename = \"../../logs/my_log_file.log\"\n",
    "if not os.path.exists(log_filename):\n",
    "    open(log_filename, \"w\").close()  # This just creates an empty file\n",
    "\n",
    "logging.basicConfig(\n",
    "    filename=log_filename,\n",
    "    level=logging.INFO,\n",
    "    filemode=\"w\",\n",
    "    format=\"%(asctime)s - %(levelname)s - %(message)s\",\n",
    ")"
   ],
   "id": "1c223cb46f502fa9",
   "outputs": [],
   "execution_count": 2
  },
  {
   "cell_type": "code",
   "id": "61e3a29165852b08",
   "metadata": {
    "ExecuteTime": {
     "end_time": "2024-12-22T21:29:59.961013Z",
     "start_time": "2024-12-22T21:29:59.590560Z"
    }
   },
   "source": [
    "#sys.path.append(\"G:/Shared drives/UGS_Flux/Data_Processing/Jupyter_Notebooks/MicroMet\")\n",
    "#sys.path.append(\"C:/Users/kladig/Documents/GitHub/MicroMet\")\n",
    "sys.path.append(\"../..\")\n",
    "import micromet"
   ],
   "outputs": [],
   "execution_count": 3
  },
  {
   "cell_type": "code",
   "id": "f55d5e4d-166c-496c-949b-9102e4217260",
   "metadata": {
    "ExecuteTime": {
     "end_time": "2024-12-22T21:30:30.193224Z",
     "start_time": "2024-12-22T21:30:08.324491Z"
    }
   },
   "source": [
    "# dictionary of station ids as keys and values as subdirectories\n",
    "site_folders = {#'US-UTD':'Dugout_Ranch',\n",
    "                #'US-UTB':'BSF',\n",
    "                #'US-UTJ':'Bluff',\n",
    "                #'US-UTW':'Wellington',\n",
    "                #'US-UTE':'Escalante',\n",
    "                'US-UTM':'Matheson',\n",
    "                #'US-UTP':'Phrag',\n",
    "                #'US-CdM':'Cedar_Mesa',\n",
    "                #'US-UTV':'Desert_View_Myton',\n",
    "                }\n",
    "\n",
    "compdf = {}\n",
    "am = micromet.AmerifluxDataProcessor()\n",
    "\n",
    "for key, value in site_folders.items():\n",
    "\n",
    "    print(key)\n",
    "    raw_fold = pathlib.Path('G:/Shared drives/UGS_Flux/Data_Downloads/')\n",
    "    amflux_out = 'G:/Shared drives/UGS_Flux/Data_Processing/Ameriflux/'\n",
    "    raw_data = am.raw_file_compile(raw_fold, value, search_str = \"*Flux_AmeriFluxFormat*.dat\")\n",
    "    if raw_data is not None:\n",
    "        am_data = micromet.Reformatter(raw_data)\n",
    "        am_df = am_data.et_data\n",
    "        compdf[key] = am_df\n",
    "        micromet.outfile(am_df, key, amflux_out)\n",
    "\n",
    "        \n",
    "cdf = pd.concat(compdf,axis=0)\n",
    "\n",
    "# make lists for selection dropdowns in the interactive parts of the code\n",
    "categories = cdf.index.get_level_values(0).unique()\n",
    "fields = list(cdf.columns)"
   ],
   "outputs": [
    {
     "name": "stdout",
     "output_type": "stream",
     "text": [
      "US-UTM\n",
      "Unknown header format for file: G:\\Shared drives\\UGS_Flux\\Data_Downloads\\Matheson\\8442_Flux_AmeriFluxFormat_0.dat\n",
      "Unknown header format for file: G:\\Shared drives\\UGS_Flux\\Data_Downloads\\Matheson\\d20211228\\8442_Flux_AmeriFluxFormat_0.dat\n",
      "Unknown header format for file: G:\\Shared drives\\UGS_Flux\\Data_Downloads\\Matheson\\d20220215\\8442_Flux_AmeriFluxFormat_0.dat\n",
      "Unknown header format for file: G:\\Shared drives\\UGS_Flux\\Data_Downloads\\Matheson\\d20220323\\8442_Flux_AmeriFluxFormat_0.dat\n"
     ]
    }
   ],
   "execution_count": 4
  },
  {
   "cell_type": "code",
   "id": "1fdc201b-4c08-493a-a54a-2b165c086cb3",
   "metadata": {
    "ExecuteTime": {
     "end_time": "2024-12-22T16:20:13.369674Z",
     "start_time": "2024-12-22T16:20:13.288149Z"
    }
   },
   "source": [
    "\n",
    "def filter_data(index_value):\n",
    "    #index_value = change['new']\n",
    "\n",
    "    # Check if input index exists in DataFrame\n",
    "    if index_value in cdf.index:\n",
    "        display(cdf.loc[index_value])\n",
    "    else:\n",
    "        print(f\"Index {index_value} does not exist in DataFrame.\")\n",
    "\n",
    "index_input = interact(filter_data,\n",
    "    index_value = widgets.Dropdown(\n",
    "        options=categories,\n",
    "        value=categories[0],\n",
    "        description='Categories',\n",
    "        disabled=False\n",
    "    ))"
   ],
   "outputs": [
    {
     "data": {
      "text/plain": [
       "interactive(children=(Dropdown(description='Categories', options=('US-UTM',), value='US-UTM'), Output()), _dom…"
      ],
      "application/vnd.jupyter.widget-view+json": {
       "version_major": 2,
       "version_minor": 0,
       "model_id": "e43e24a80a6b4ea8b514dabfe187565d"
      }
     },
     "metadata": {},
     "output_type": "display_data"
    }
   ],
   "execution_count": 4
  },
  {
   "cell_type": "markdown",
   "id": "fc740cef2ec09aca",
   "metadata": {},
   "source": [
    "# Interactive intital Plots"
   ]
  },
  {
   "cell_type": "code",
   "id": "459998a6-70d1-4bb9-9749-d40287a98b4b",
   "metadata": {
    "ExecuteTime": {
     "end_time": "2024-12-22T20:36:52.268573400Z",
     "start_time": "2024-12-21T03:49:18.993231Z"
    }
   },
   "source": [
    "# Create interactive widgets with date range\n",
    "interact(\n",
    "    micromet.plot_timeseries_daterange,\n",
    "    input_df = widgets.fixed(cdf),\n",
    "    selected_station=widgets.Dropdown(\n",
    "        options=categories,\n",
    "        value=categories[0],\n",
    "        description='Categories',\n",
    "        disabled=False\n",
    "    ),\n",
    "    selected_field=widgets.Dropdown(\n",
    "        options=fields,\n",
    "        value=fields[0],\n",
    "        description='Field',\n",
    "        disabled=False\n",
    "    ),\n",
    "    start_date=widgets.DatePicker(\n",
    "        description='Start Date',\n",
    "        value=pd.to_datetime('2020-01-01')\n",
    "    ),\n",
    "    end_date=widgets.DatePicker(\n",
    "        description='End Date',\n",
    "        value=pd.to_datetime('2024-12-31')\n",
    "    )\n",
    ")\n",
    "\n",
    "save_button = widgets.Button(description=\"Save Plot\")\n",
    "save_button.on_click(micromet.save_plot)\n",
    "display(save_button)\n"
   ],
   "outputs": [
    {
     "ename": "NameError",
     "evalue": "name 'cdf' is not defined",
     "output_type": "error",
     "traceback": [
      "\u001B[1;31m---------------------------------------------------------------------------\u001B[0m",
      "\u001B[1;31mNameError\u001B[0m                                 Traceback (most recent call last)",
      "Cell \u001B[1;32mIn[4], line 4\u001B[0m\n\u001B[0;32m      1\u001B[0m \u001B[38;5;66;03m# Create interactive widgets with date range\u001B[39;00m\n\u001B[0;32m      2\u001B[0m interact(\n\u001B[0;32m      3\u001B[0m     micromet\u001B[38;5;241m.\u001B[39mplot_timeseries_daterange,\n\u001B[1;32m----> 4\u001B[0m     input_df \u001B[38;5;241m=\u001B[39m widgets\u001B[38;5;241m.\u001B[39mfixed(\u001B[43mcdf\u001B[49m),\n\u001B[0;32m      5\u001B[0m     selected_station\u001B[38;5;241m=\u001B[39mwidgets\u001B[38;5;241m.\u001B[39mDropdown(\n\u001B[0;32m      6\u001B[0m         options\u001B[38;5;241m=\u001B[39mcategories,\n\u001B[0;32m      7\u001B[0m         value\u001B[38;5;241m=\u001B[39mcategories[\u001B[38;5;241m0\u001B[39m],\n\u001B[0;32m      8\u001B[0m         description\u001B[38;5;241m=\u001B[39m\u001B[38;5;124m'\u001B[39m\u001B[38;5;124mCategories\u001B[39m\u001B[38;5;124m'\u001B[39m,\n\u001B[0;32m      9\u001B[0m         disabled\u001B[38;5;241m=\u001B[39m\u001B[38;5;28;01mFalse\u001B[39;00m\n\u001B[0;32m     10\u001B[0m     ),\n\u001B[0;32m     11\u001B[0m     selected_field\u001B[38;5;241m=\u001B[39mwidgets\u001B[38;5;241m.\u001B[39mDropdown(\n\u001B[0;32m     12\u001B[0m         options\u001B[38;5;241m=\u001B[39mfields,\n\u001B[0;32m     13\u001B[0m         value\u001B[38;5;241m=\u001B[39mfields[\u001B[38;5;241m0\u001B[39m],\n\u001B[0;32m     14\u001B[0m         description\u001B[38;5;241m=\u001B[39m\u001B[38;5;124m'\u001B[39m\u001B[38;5;124mField\u001B[39m\u001B[38;5;124m'\u001B[39m,\n\u001B[0;32m     15\u001B[0m         disabled\u001B[38;5;241m=\u001B[39m\u001B[38;5;28;01mFalse\u001B[39;00m\n\u001B[0;32m     16\u001B[0m     ),\n\u001B[0;32m     17\u001B[0m     start_date\u001B[38;5;241m=\u001B[39mwidgets\u001B[38;5;241m.\u001B[39mDatePicker(\n\u001B[0;32m     18\u001B[0m         description\u001B[38;5;241m=\u001B[39m\u001B[38;5;124m'\u001B[39m\u001B[38;5;124mStart Date\u001B[39m\u001B[38;5;124m'\u001B[39m,\n\u001B[0;32m     19\u001B[0m         value\u001B[38;5;241m=\u001B[39mpd\u001B[38;5;241m.\u001B[39mto_datetime(\u001B[38;5;124m'\u001B[39m\u001B[38;5;124m2020-01-01\u001B[39m\u001B[38;5;124m'\u001B[39m)\n\u001B[0;32m     20\u001B[0m     ),\n\u001B[0;32m     21\u001B[0m     end_date\u001B[38;5;241m=\u001B[39mwidgets\u001B[38;5;241m.\u001B[39mDatePicker(\n\u001B[0;32m     22\u001B[0m         description\u001B[38;5;241m=\u001B[39m\u001B[38;5;124m'\u001B[39m\u001B[38;5;124mEnd Date\u001B[39m\u001B[38;5;124m'\u001B[39m,\n\u001B[0;32m     23\u001B[0m         value\u001B[38;5;241m=\u001B[39mpd\u001B[38;5;241m.\u001B[39mto_datetime(\u001B[38;5;124m'\u001B[39m\u001B[38;5;124m2024-12-31\u001B[39m\u001B[38;5;124m'\u001B[39m)\n\u001B[0;32m     24\u001B[0m     )\n\u001B[0;32m     25\u001B[0m )\n\u001B[0;32m     27\u001B[0m save_button \u001B[38;5;241m=\u001B[39m widgets\u001B[38;5;241m.\u001B[39mButton(description\u001B[38;5;241m=\u001B[39m\u001B[38;5;124m\"\u001B[39m\u001B[38;5;124mSave Plot\u001B[39m\u001B[38;5;124m\"\u001B[39m)\n\u001B[0;32m     28\u001B[0m save_button\u001B[38;5;241m.\u001B[39mon_click(micromet\u001B[38;5;241m.\u001B[39msave_plot)\n",
      "\u001B[1;31mNameError\u001B[0m: name 'cdf' is not defined"
     ]
    }
   ],
   "execution_count": 4
  },
  {
   "cell_type": "markdown",
   "id": "62ded5ac-315a-461b-8890-d0d20df768f2",
   "metadata": {},
   "source": []
  },
  {
   "cell_type": "code",
   "execution_count": null,
   "id": "6d3ce18f-5d8d-4e6d-817c-da3c4de9b5f8",
   "metadata": {},
   "outputs": [],
   "source": []
  },
  {
   "cell_type": "code",
   "execution_count": null,
   "id": "a07751bf-ee74-4e95-9871-1d29a28be1d6",
   "metadata": {},
   "outputs": [],
   "source": []
  },
  {
   "cell_type": "code",
   "execution_count": null,
   "id": "74d87f86-1203-45bb-b22d-85406cf7e024",
   "metadata": {},
   "outputs": [],
   "source": []
  }
 ],
 "metadata": {
  "kernelspec": {
   "display_name": "Python 3 (ipykernel)",
   "language": "python",
   "name": "python3"
  },
  "language_info": {
   "codemirror_mode": {
    "name": "ipython",
    "version": 3
   },
   "file_extension": ".py",
   "mimetype": "text/x-python",
   "name": "python",
   "nbconvert_exporter": "python",
   "pygments_lexer": "ipython3",
   "version": "3.12.6"
  }
 },
 "nbformat": 4,
 "nbformat_minor": 5
}
