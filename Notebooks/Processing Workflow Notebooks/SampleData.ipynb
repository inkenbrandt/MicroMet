{
 "cells": [
  {
   "cell_type": "code",
   "id": "initial_id",
   "metadata": {
    "collapsed": true,
    "ExecuteTime": {
     "end_time": "2025-01-11T19:53:55.076109Z",
     "start_time": "2025-01-11T19:53:53.822916Z"
    }
   },
   "source": "import pandas as pd",
   "outputs": [],
   "execution_count": 1
  },
  {
   "metadata": {
    "ExecuteTime": {
     "end_time": "2025-01-11T20:02:40.218750Z",
     "start_time": "2025-01-11T20:02:39.964202Z"
    }
   },
   "cell_type": "code",
   "source": [
    "df = pd.read_csv(\"AMF_US-CRT_BASE_HH_3-5.csv\",skiprows=2)#.loc[0:48*3]\n",
    "df.loc[0:48*3][['WD','WS','MO_LENGTH','USTAR','V_SIGMA','H2O','RH','TA']].to_csv(\"AMF_US-CRT_BASE_HH_3-5_abb.csv\")#.columns"
   ],
   "id": "bbe4b1a8d3e3db90",
   "outputs": [],
   "execution_count": 11
  }
 ],
 "metadata": {
  "kernelspec": {
   "display_name": "Python 3",
   "language": "python",
   "name": "python3"
  },
  "language_info": {
   "codemirror_mode": {
    "name": "ipython",
    "version": 2
   },
   "file_extension": ".py",
   "mimetype": "text/x-python",
   "name": "python",
   "nbconvert_exporter": "python",
   "pygments_lexer": "ipython2",
   "version": "2.7.6"
  }
 },
 "nbformat": 4,
 "nbformat_minor": 5
}
