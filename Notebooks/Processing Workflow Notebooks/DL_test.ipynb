{
 "cells": [
  {
   "cell_type": "markdown",
   "id": "8e6cb5d9c8ae57b4",
   "metadata": {},
   "source": [
    "This notebook was used to compile all of the available data from the Utah Flux Network stations.  It should only need to be used once, as other notebooks are used to comile the newer data."
   ]
  },
  {
   "cell_type": "code",
   "execution_count": 1,
   "id": "initial_id",
   "metadata": {
    "ExecuteTime": {
     "end_time": "2024-12-28T02:58:12.128541Z",
     "start_time": "2024-12-28T02:58:09.755762Z"
    },
    "execution": {
     "iopub.execute_input": "2024-10-01T20:04:24.166323Z",
     "iopub.status.busy": "2024-10-01T20:04:24.166323Z",
     "iopub.status.idle": "2024-10-01T20:04:27.390335Z",
     "shell.execute_reply": "2024-10-01T20:04:27.390335Z",
     "shell.execute_reply.started": "2024-10-01T20:04:24.166323Z"
    }
   },
   "outputs": [],
   "source": [
    "import pandas as pd\n",
    "import numpy as np\n",
    "import os\n",
    "import geopandas as gpd\n",
    "import sys\n",
    "import pathlib\n",
    "import glob\n",
    "import matplotlib.pyplot as plt\n",
    "from urllib.parse import quote\n",
    "from sqlalchemy import create_engine\n",
    "import configparser\n",
    "\n",
    "\n",
    "import statsmodels.api as sm\n",
    "#import pingouin as pg\n",
    "import plotly.express as px"
   ]
  },
  {
   "cell_type": "code",
   "execution_count": 2,
   "id": "61e3a29165852b08",
   "metadata": {
    "ExecuteTime": {
     "end_time": "2024-12-28T02:58:19.632874Z",
     "start_time": "2024-12-28T02:58:19.154832Z"
    },
    "execution": {
     "iopub.execute_input": "2024-10-01T20:04:27.394344Z",
     "iopub.status.busy": "2024-10-01T20:04:27.391341Z",
     "iopub.status.idle": "2024-10-01T20:04:28.485295Z",
     "shell.execute_reply": "2024-10-01T20:04:28.485295Z",
     "shell.execute_reply.started": "2024-10-01T20:04:27.394344Z"
    }
   },
   "outputs": [],
   "source": [
    "\n",
    "sys.path.append(\"../../../Micromet\")\n",
    "import micromet\n",
    "from micromet import AmerifluxDataProcessor\n",
    "%matplotlib inline"
   ]
  },
  {
   "cell_type": "code",
   "execution_count": 3,
   "id": "ad20f401f01ce92f",
   "metadata": {
    "ExecuteTime": {
     "end_time": "2024-12-28T02:59:46.257678Z",
     "start_time": "2024-12-28T02:58:44.070499Z"
    },
    "execution": {
     "iopub.execute_input": "2024-10-01T14:09:27.572520Z",
     "iopub.status.busy": "2024-10-01T14:09:27.572520Z",
     "iopub.status.idle": "2024-10-01T14:09:27.607540Z",
     "shell.execute_reply": "2024-10-01T14:09:27.607540Z",
     "shell.execute_reply.started": "2024-10-01T14:09:27.572520Z"
    }
   },
   "outputs": [
    {
     "name": "stdout",
     "output_type": "stream",
     "text": [
      "US-UTD\n",
      "US-UTB\n",
      "US-UTJ\n",
      "US-UTW\n",
      "US-UTE\n",
      "US-UTM\n"
     ]
    },
    {
     "name": "stderr",
     "output_type": "stream",
     "text": [
      "c:\\Users\\paulinkenbrandt\\Documents\\GitHub\\MicroMet\\Notebooks\\Processing Workflow Notebooks\\../../../Micromet\\micromet\\converter.py:740: PerformanceWarning: DataFrame is highly fragmented.  This is usually the result of calling `frame.insert` many times, which has poor performance.  Consider joining all columns at once using pd.concat(axis=1) instead. To get a de-fragmented frame, use `newframe = frame.copy()`\n",
      "  et_data[\"datetime_start\"] = pd.to_datetime(\n",
      "c:\\Users\\paulinkenbrandt\\Documents\\GitHub\\MicroMet\\Notebooks\\Processing Workflow Notebooks\\../../../Micromet\\micromet\\converter.py:700: PerformanceWarning: DataFrame is highly fragmented.  This is usually the result of calling `frame.insert` many times, which has poor performance.  Consider joining all columns at once using pd.concat(axis=1) instead. To get a de-fragmented frame, use `newframe = frame.copy()`\n",
      "  self.et_data.insert(0, col, ncol)\n",
      "c:\\Users\\paulinkenbrandt\\Documents\\GitHub\\MicroMet\\Notebooks\\Processing Workflow Notebooks\\../../../Micromet\\micromet\\converter.py:700: PerformanceWarning: DataFrame is highly fragmented.  This is usually the result of calling `frame.insert` many times, which has poor performance.  Consider joining all columns at once using pd.concat(axis=1) instead. To get a de-fragmented frame, use `newframe = frame.copy()`\n",
      "  self.et_data.insert(0, col, ncol)\n"
     ]
    },
    {
     "name": "stdout",
     "output_type": "stream",
     "text": [
      "US-UTP\n"
     ]
    },
    {
     "name": "stderr",
     "output_type": "stream",
     "text": [
      "c:\\Users\\paulinkenbrandt\\.conda\\envs\\py313\\Lib\\site-packages\\numpy\\lib\\_nanfunctions_impl.py:2019: RuntimeWarning: Degrees of freedom <= 0 for slice.\n",
      "  var = nanvar(a, axis=axis, dtype=dtype, out=out, ddof=ddof,\n",
      "c:\\Users\\paulinkenbrandt\\Documents\\GitHub\\MicroMet\\Notebooks\\Processing Workflow Notebooks\\../../../Micromet\\micromet\\converter.py:949: RuntimeWarning: Mean of empty slice\n",
      "  avg = np.nanmean(arr)\n",
      "c:\\Users\\paulinkenbrandt\\.conda\\envs\\py313\\Lib\\site-packages\\numpy\\lib\\_nanfunctions_impl.py:2019: RuntimeWarning: Degrees of freedom <= 0 for slice.\n",
      "  var = nanvar(a, axis=axis, dtype=dtype, out=out, ddof=ddof,\n",
      "c:\\Users\\paulinkenbrandt\\Documents\\GitHub\\MicroMet\\Notebooks\\Processing Workflow Notebooks\\../../../Micromet\\micromet\\converter.py:949: RuntimeWarning: Mean of empty slice\n",
      "  avg = np.nanmean(arr)\n",
      "c:\\Users\\paulinkenbrandt\\.conda\\envs\\py313\\Lib\\site-packages\\numpy\\lib\\_nanfunctions_impl.py:2019: RuntimeWarning: Degrees of freedom <= 0 for slice.\n",
      "  var = nanvar(a, axis=axis, dtype=dtype, out=out, ddof=ddof,\n",
      "c:\\Users\\paulinkenbrandt\\Documents\\GitHub\\MicroMet\\Notebooks\\Processing Workflow Notebooks\\../../../Micromet\\micromet\\converter.py:949: RuntimeWarning: Mean of empty slice\n",
      "  avg = np.nanmean(arr)\n"
     ]
    },
    {
     "name": "stdout",
     "output_type": "stream",
     "text": [
      "US-CdM\n",
      "US-UTV\n",
      "US-UTN\n"
     ]
    },
    {
     "name": "stderr",
     "output_type": "stream",
     "text": [
      "c:\\Users\\paulinkenbrandt\\.conda\\envs\\py313\\Lib\\site-packages\\numpy\\lib\\_nanfunctions_impl.py:2019: RuntimeWarning: Degrees of freedom <= 0 for slice.\n",
      "  var = nanvar(a, axis=axis, dtype=dtype, out=out, ddof=ddof,\n",
      "c:\\Users\\paulinkenbrandt\\Documents\\GitHub\\MicroMet\\Notebooks\\Processing Workflow Notebooks\\../../../Micromet\\micromet\\converter.py:949: RuntimeWarning: Mean of empty slice\n",
      "  avg = np.nanmean(arr)\n",
      "c:\\Users\\paulinkenbrandt\\.conda\\envs\\py313\\Lib\\site-packages\\numpy\\lib\\_nanfunctions_impl.py:2019: RuntimeWarning: Degrees of freedom <= 0 for slice.\n",
      "  var = nanvar(a, axis=axis, dtype=dtype, out=out, ddof=ddof,\n",
      "c:\\Users\\paulinkenbrandt\\Documents\\GitHub\\MicroMet\\Notebooks\\Processing Workflow Notebooks\\../../../Micromet\\micromet\\converter.py:949: RuntimeWarning: Mean of empty slice\n",
      "  avg = np.nanmean(arr)\n",
      "c:\\Users\\paulinkenbrandt\\.conda\\envs\\py313\\Lib\\site-packages\\numpy\\lib\\_nanfunctions_impl.py:2019: RuntimeWarning: Degrees of freedom <= 0 for slice.\n",
      "  var = nanvar(a, axis=axis, dtype=dtype, out=out, ddof=ddof,\n",
      "c:\\Users\\paulinkenbrandt\\Documents\\GitHub\\MicroMet\\Notebooks\\Processing Workflow Notebooks\\../../../Micromet\\micromet\\converter.py:949: RuntimeWarning: Mean of empty slice\n",
      "  avg = np.nanmean(arr)\n",
      "c:\\Users\\paulinkenbrandt\\.conda\\envs\\py313\\Lib\\site-packages\\numpy\\lib\\_nanfunctions_impl.py:2019: RuntimeWarning: Degrees of freedom <= 0 for slice.\n",
      "  var = nanvar(a, axis=axis, dtype=dtype, out=out, ddof=ddof,\n",
      "c:\\Users\\paulinkenbrandt\\Documents\\GitHub\\MicroMet\\Notebooks\\Processing Workflow Notebooks\\../../../Micromet\\micromet\\converter.py:949: RuntimeWarning: Mean of empty slice\n",
      "  avg = np.nanmean(arr)\n",
      "c:\\Users\\paulinkenbrandt\\.conda\\envs\\py313\\Lib\\site-packages\\numpy\\lib\\_nanfunctions_impl.py:2019: RuntimeWarning: Degrees of freedom <= 0 for slice.\n",
      "  var = nanvar(a, axis=axis, dtype=dtype, out=out, ddof=ddof,\n",
      "c:\\Users\\paulinkenbrandt\\Documents\\GitHub\\MicroMet\\Notebooks\\Processing Workflow Notebooks\\../../../Micromet\\micromet\\converter.py:949: RuntimeWarning: Mean of empty slice\n",
      "  avg = np.nanmean(arr)\n",
      "c:\\Users\\paulinkenbrandt\\.conda\\envs\\py313\\Lib\\site-packages\\numpy\\lib\\_nanfunctions_impl.py:2019: RuntimeWarning: Degrees of freedom <= 0 for slice.\n",
      "  var = nanvar(a, axis=axis, dtype=dtype, out=out, ddof=ddof,\n",
      "c:\\Users\\paulinkenbrandt\\Documents\\GitHub\\MicroMet\\Notebooks\\Processing Workflow Notebooks\\../../../Micromet\\micromet\\converter.py:949: RuntimeWarning: Mean of empty slice\n",
      "  avg = np.nanmean(arr)\n",
      "c:\\Users\\paulinkenbrandt\\.conda\\envs\\py313\\Lib\\site-packages\\numpy\\lib\\_nanfunctions_impl.py:2019: RuntimeWarning: Degrees of freedom <= 0 for slice.\n",
      "  var = nanvar(a, axis=axis, dtype=dtype, out=out, ddof=ddof,\n",
      "c:\\Users\\paulinkenbrandt\\Documents\\GitHub\\MicroMet\\Notebooks\\Processing Workflow Notebooks\\../../../Micromet\\micromet\\converter.py:949: RuntimeWarning: Mean of empty slice\n",
      "  avg = np.nanmean(arr)\n",
      "c:\\Users\\paulinkenbrandt\\.conda\\envs\\py313\\Lib\\site-packages\\numpy\\lib\\_nanfunctions_impl.py:2019: RuntimeWarning: Degrees of freedom <= 0 for slice.\n",
      "  var = nanvar(a, axis=axis, dtype=dtype, out=out, ddof=ddof,\n",
      "c:\\Users\\paulinkenbrandt\\Documents\\GitHub\\MicroMet\\Notebooks\\Processing Workflow Notebooks\\../../../Micromet\\micromet\\converter.py:949: RuntimeWarning: Mean of empty slice\n",
      "  avg = np.nanmean(arr)\n",
      "c:\\Users\\paulinkenbrandt\\.conda\\envs\\py313\\Lib\\site-packages\\numpy\\lib\\_nanfunctions_impl.py:2019: RuntimeWarning: Degrees of freedom <= 0 for slice.\n",
      "  var = nanvar(a, axis=axis, dtype=dtype, out=out, ddof=ddof,\n",
      "c:\\Users\\paulinkenbrandt\\Documents\\GitHub\\MicroMet\\Notebooks\\Processing Workflow Notebooks\\../../../Micromet\\micromet\\converter.py:949: RuntimeWarning: Mean of empty slice\n",
      "  avg = np.nanmean(arr)\n",
      "c:\\Users\\paulinkenbrandt\\.conda\\envs\\py313\\Lib\\site-packages\\numpy\\lib\\_nanfunctions_impl.py:2019: RuntimeWarning: Degrees of freedom <= 0 for slice.\n",
      "  var = nanvar(a, axis=axis, dtype=dtype, out=out, ddof=ddof,\n",
      "c:\\Users\\paulinkenbrandt\\Documents\\GitHub\\MicroMet\\Notebooks\\Processing Workflow Notebooks\\../../../Micromet\\micromet\\converter.py:949: RuntimeWarning: Mean of empty slice\n",
      "  avg = np.nanmean(arr)\n",
      "c:\\Users\\paulinkenbrandt\\.conda\\envs\\py313\\Lib\\site-packages\\numpy\\lib\\_nanfunctions_impl.py:2019: RuntimeWarning: Degrees of freedom <= 0 for slice.\n",
      "  var = nanvar(a, axis=axis, dtype=dtype, out=out, ddof=ddof,\n",
      "c:\\Users\\paulinkenbrandt\\Documents\\GitHub\\MicroMet\\Notebooks\\Processing Workflow Notebooks\\../../../Micromet\\micromet\\converter.py:949: RuntimeWarning: Mean of empty slice\n",
      "  avg = np.nanmean(arr)\n",
      "c:\\Users\\paulinkenbrandt\\.conda\\envs\\py313\\Lib\\site-packages\\numpy\\lib\\_nanfunctions_impl.py:2019: RuntimeWarning: Degrees of freedom <= 0 for slice.\n",
      "  var = nanvar(a, axis=axis, dtype=dtype, out=out, ddof=ddof,\n",
      "c:\\Users\\paulinkenbrandt\\Documents\\GitHub\\MicroMet\\Notebooks\\Processing Workflow Notebooks\\../../../Micromet\\micromet\\converter.py:949: RuntimeWarning: Mean of empty slice\n",
      "  avg = np.nanmean(arr)\n",
      "c:\\Users\\paulinkenbrandt\\.conda\\envs\\py313\\Lib\\site-packages\\numpy\\lib\\_nanfunctions_impl.py:2019: RuntimeWarning: Degrees of freedom <= 0 for slice.\n",
      "  var = nanvar(a, axis=axis, dtype=dtype, out=out, ddof=ddof,\n",
      "c:\\Users\\paulinkenbrandt\\Documents\\GitHub\\MicroMet\\Notebooks\\Processing Workflow Notebooks\\../../../Micromet\\micromet\\converter.py:949: RuntimeWarning: Mean of empty slice\n",
      "  avg = np.nanmean(arr)\n",
      "c:\\Users\\paulinkenbrandt\\.conda\\envs\\py313\\Lib\\site-packages\\numpy\\lib\\_nanfunctions_impl.py:2019: RuntimeWarning: Degrees of freedom <= 0 for slice.\n",
      "  var = nanvar(a, axis=axis, dtype=dtype, out=out, ddof=ddof,\n",
      "c:\\Users\\paulinkenbrandt\\Documents\\GitHub\\MicroMet\\Notebooks\\Processing Workflow Notebooks\\../../../Micromet\\micromet\\converter.py:949: RuntimeWarning: Mean of empty slice\n",
      "  avg = np.nanmean(arr)\n"
     ]
    }
   ],
   "source": [
    "site_folders = {'US-UTD':'Dugout_Ranch',\n",
    "                'US-UTB':'BSF',\n",
    "                'US-UTJ':'Bluff',\n",
    "                'US-UTW':'Wellington',\n",
    "                'US-UTE':'Escalante',\n",
    "                'US-UTM':'Matheson',\n",
    "                'US-UTP':'Phrag',\n",
    "                'US-CdM':'Cedar_mesa',\n",
    "                'US-UTV':'Desert_View_Myton',\n",
    "                'US-UTN':'Juab'\n",
    "                }\n",
    "\n",
    "\n",
    "compdf = {}\n",
    "\n",
    "am = micromet.AmerifluxDataProcessor()\n",
    "\n",
    "for key, value in site_folders.items():\n",
    "\n",
    "    print(key)\n",
    "    raw_fold = pathlib.Path('G:/Shared drives/UGS_Flux/Data_Downloads/')\n",
    "    raw_data = am.raw_file_compile(raw_fold, value, search_str = \"*Flux_AmeriFluxFormat*.dat\")\n",
    "    if raw_data is not None:\n",
    "        am_data = micromet.Reformatter(raw_data,\n",
    "                                       config_path=\"../../data/reformatter_vars.yml\", \n",
    "                                       drop_soil=False,)\n",
    "        am_df = am_data.et_data\n",
    "        compdf[key] = am_df\n",
    "\n",
    "        am_df.to_csv(f\"../../station_data/{key}_HH_{am_df['TIMESTAMP_START'].values[0]:}_{am_df['TIMESTAMP_END'].values[-1]:}.csv\")\n",
    "\n",
    "        \n",
    "cdf = pd.concat(compdf, axis=0)\n",
    "cdf.index.set_names(['stationid','datetime_start'],inplace=True)\n",
    "#cdf.rename(columns={'level_0':'stationid'},inplace=True)\n",
    "#cdf.to_parquet('../station_data/all_data.parquet')\n",
    "for col in cdf.columns:\n",
    "    cdf.rename(columns={col:col.lower()},inplace=True)\n"
   ]
  },
  {
   "cell_type": "code",
   "execution_count": 4,
   "id": "577962db",
   "metadata": {},
   "outputs": [
    {
     "name": "stdout",
     "output_type": "stream",
     "text": [
      "US-UTD\n",
      "US-UTB\n",
      "US-UTJ\n",
      "US-UTW\n",
      "US-UTE\n",
      "US-UTM\n"
     ]
    },
    {
     "name": "stderr",
     "output_type": "stream",
     "text": [
      "c:\\Users\\paulinkenbrandt\\Documents\\GitHub\\MicroMet\\Notebooks\\Processing Workflow Notebooks\\../../../Micromet\\micromet\\converter.py:740: PerformanceWarning: DataFrame is highly fragmented.  This is usually the result of calling `frame.insert` many times, which has poor performance.  Consider joining all columns at once using pd.concat(axis=1) instead. To get a de-fragmented frame, use `newframe = frame.copy()`\n",
      "  et_data[\"datetime_start\"] = pd.to_datetime(\n",
      "c:\\Users\\paulinkenbrandt\\Documents\\GitHub\\MicroMet\\Notebooks\\Processing Workflow Notebooks\\../../../Micromet\\micromet\\converter.py:700: PerformanceWarning: DataFrame is highly fragmented.  This is usually the result of calling `frame.insert` many times, which has poor performance.  Consider joining all columns at once using pd.concat(axis=1) instead. To get a de-fragmented frame, use `newframe = frame.copy()`\n",
      "  self.et_data.insert(0, col, ncol)\n",
      "c:\\Users\\paulinkenbrandt\\Documents\\GitHub\\MicroMet\\Notebooks\\Processing Workflow Notebooks\\../../../Micromet\\micromet\\converter.py:700: PerformanceWarning: DataFrame is highly fragmented.  This is usually the result of calling `frame.insert` many times, which has poor performance.  Consider joining all columns at once using pd.concat(axis=1) instead. To get a de-fragmented frame, use `newframe = frame.copy()`\n",
      "  self.et_data.insert(0, col, ncol)\n"
     ]
    },
    {
     "name": "stdout",
     "output_type": "stream",
     "text": [
      "US-UTP\n",
      "US-CdM\n",
      "US-UTV\n",
      "US-UTN\n"
     ]
    }
   ],
   "source": [
    "site_folders = {'US-UTD':'Dugout_Ranch',\n",
    "                'US-UTB':'BSF',\n",
    "                'US-UTJ':'Bluff',\n",
    "                'US-UTW':'Wellington',\n",
    "                'US-UTE':'Escalante',\n",
    "                'US-UTM':'Matheson',\n",
    "                'US-UTP':'Phrag',\n",
    "                'US-CdM':'Cedar_mesa',\n",
    "                'US-UTV':'Desert_View_Myton',\n",
    "                'US-UTN':'Juab'\n",
    "                }\n",
    "\n",
    "\n",
    "compdf = {}\n",
    "\n",
    "am = micromet.AmerifluxDataProcessor()\n",
    "\n",
    "for key, value in site_folders.items():\n",
    "\n",
    "    print(key)\n",
    "    raw_fold = pathlib.Path('G:/Shared drives/UGS_Flux/Data_Downloads/')\n",
    "    raw_data = am.raw_file_compile(raw_fold, value, search_str = \"*Statistics_AmeriFlux*.dat\")\n",
    "    if raw_data is not None:\n",
    "        am_data = micromet.Reformatter(raw_data,\n",
    "                                       config_path=\"../../data/reformatter_vars.yml\", \n",
    "                                       drop_soil=False,\n",
    "                                       data_type='met'\n",
    "                                       )\n",
    "        am_df = am_data.et_data\n",
    "        compdf[key] = am_df\n",
    "\n",
    "        #am_df.to_csv(f\"../../station_data/{key}_HH_{am_df['TIMESTAMP_START'].values[0]:}_{am_df['TIMESTAMP_END'].values[-1]:}.csv\")\n",
    "\n",
    "        \n",
    "ddf = pd.concat(compdf, axis=0)\n",
    "ddf.index.set_names(['stationid','datetime_start'],inplace=True)\n",
    "#cdf.rename(columns={'level_0':'stationid'},inplace=True)\n",
    "#cdf.to_parquet('../station_data/all_data.parquet')\n",
    "for col in ddf.columns:\n",
    "    ddf.rename(columns={col:col.lower()},inplace=True)\n"
   ]
  },
  {
   "cell_type": "code",
   "execution_count": null,
   "id": "37213b59",
   "metadata": {},
   "outputs": [],
   "source": []
  },
  {
   "cell_type": "code",
   "execution_count": 5,
   "id": "9f082e3c",
   "metadata": {},
   "outputs": [],
   "source": [
    "soilcols = [col.lower() for col in am_data.MATH_SOILS_V2]\n",
    "soildfs = pd.merge(ddf,cdf[soilcols],how='left',on=['stationid','datetime_start'],suffixes=(None,'_eddy'))\n",
    "soildfs\n",
    "\n",
    "for col in cdf.columns:\n",
    "    if col in soilcols:\n",
    "        cdf.drop(columns=col,inplace=True)  # drop the soil columns from the main dataframe\n",
    "\n",
    "cdf.to_parquet('../../station_data/all_eddy_data.parquet')\n",
    "\n",
    "soildfs.to_parquet('../../station_data/all_soil_data.parquet')\n",
    "\n",
    "ddf.to_parquet('../../station_data/all_met_data.parquet')"
   ]
  },
  {
   "cell_type": "code",
   "execution_count": null,
   "id": "49f9e436",
   "metadata": {},
   "outputs": [],
   "source": []
  },
  {
   "cell_type": "code",
   "execution_count": 30,
   "id": "54cc9ad7",
   "metadata": {},
   "outputs": [
    {
     "data": {
      "image/png": "[encoded data removed]",
      "text/plain": [
       "<Figure size 640x480 with 1 Axes>"
      ]
     },
     "metadata": {},
     "output_type": "display_data"
    }
   ],
   "source": [
    "utd_soilt = soildfs.loc['US-UTD'][['ts_3_1_1','ts_3_2_1','ts_3_3_1']].replace(-9999,np.nan)\n",
    "utd_soilt['ts_3_1_1'].plot()\n",
    "utd_soilt['ts_3_2_1'].shift(-1).plot()\n",
    "utd_soilt['ts_3_3_1'].shift(-5).plot()\n",
    "plt.axvline('2024-07-04 15:00',color='r')\n",
    "plt.xlim('2024-07-01','2024-07-08')\n",
    "plt.ylim(10,35)\n",
    "plt.grid(True, which='minor')"
   ]
  },
  {
   "cell_type": "code",
   "execution_count": 32,
   "id": "57ae960d",
   "metadata": {},
   "outputs": [
    {
     "data": {
      "text/plain": [
       "array([   31,    44,    78,   102,   126,   146,   148,   155,   174,\n",
       "         221,   223,   271,   286,   319,   332,   367,   415,   463,\n",
       "         486,   492,   511,   524,   536,   559,   577,   586,   606,\n",
       "         632,   654,   683,   685,   699,   704,   723,   726,   732,\n",
       "         747,   753,   796,   799,   844,   847,   892,   895,   940,\n",
       "         942,   965,   969,   973,   985,   989,   995,  1001,  1006,\n",
       "        1011,  1025,  1036,  1038,  1040,  1084,  1088,  1132,  1136,\n",
       "        1180,  1184,  1213,  1228,  1231,  1245,  1262,  1276,  1280,\n",
       "        1291,  1293,  1351,  1370,  1374,  1380,  1389,  1394,  1420,\n",
       "        1427,  1441,  1445,  1453,  1468,  1471,  1500,  1516,  1520,\n",
       "        1564,  1567,  1588,  1591,  1612,  1616,  1631,  1633,  1644,\n",
       "        1660,  1663,  1676,  1711,  1760,  1771,  1782,  1805,  1807,\n",
       "        1838,  1855,  1867,  1874,  1878,  1881,  1886,  1888,  1901,\n",
       "        1908,  1921,  1930,  1946,  1951,  1997,  1999,  2045,  2047,\n",
       "        2093,  2095,  2120,  2141,  2163,  2191,  2204,  2218,  2221,\n",
       "        2225,  2238,  2260,  2283,  2287,  2316,  2333,  2351,  2355,\n",
       "        2361,  2373,  2380,  2383,  2385,  2429,  2432,  2477,  2479,\n",
       "        2525,  2527,  2573,  2575,  2604,  2619,  2623,  2655,  2669,\n",
       "        2671,  2697,  2718,  2738,  2765,  2767,  2796,  2813,  2815,\n",
       "        2861,  2863,  2875,  2890,  2898,  2909,  2919,  2926,  2934,\n",
       "        2940,  2943,  2957,  2971,  2975,  2983,  2985,  2993,  3004,\n",
       "        3009,  3015,  3019,  3029,  3033,  3053,  3055,  3063,  3068,\n",
       "        3073,  3095,  3099,  3115,  3122,  3124,  3129,  3152,  3165,\n",
       "        3183,  3201,  3221,  3228,  3248,  3252,  3274,  3276,  3278,\n",
       "        3294,  3300,  3319,  3323,  3347,  3394,  3401,  3419,  3425,\n",
       "        3441,  3452,  3457,  3463,  3472,  3485,  3489,  3529,  3533,\n",
       "        3536,  3562,  3581,  3586,  3595,  3597,  3601,  3605,  3611,\n",
       "        3629,  3631,  3663,  3677,  3679,  3692,  3701,  3726,  3732,\n",
       "        3743,  3753,  3773,  3805,  3819,  3821,  3843,  3847,  3867,\n",
       "        3870,  3873,  3883,  3887,  3900,  3917,  3919,  3941,  3951,\n",
       "        3963,  3970,  3984,  3988,  4009,  4013,  4016,  4061,  4064,\n",
       "        4105,  4109,  4112,  4153,  4157,  4160,  4201,  4205,  4208,\n",
       "        4249,  4253,  4256,  4278,  4288,  4305,  4321,  4325,  4351,\n",
       "        4363,  4375,  4382,  4389,  4395,  4400,  4441,  4445,  4448,\n",
       "        4470,  4478,  4489,  4492,  4496,  4536,  4539,  4543,  4588,\n",
       "        4591,  4604,  4619,  4634,  4641,  4684,  4687,  4707,  4716,\n",
       "        4730,  4733,  4781,  4785,  4829,  4833,  4876,  4881,  4899,\n",
       "        4906,  4911,  4921,  4924,  4928,  4951,  4957,  4977,  4988,\n",
       "        4990,  4997,  5007,  5017,  5020,  5025,  5049,  5065,  5068,\n",
       "        5072,  5089,  5097,  5116,  5121,  5161,  5164,  5168,  5184,\n",
       "        5196,  5214,  5217,  5263,  5276,  5308,  5312,  5356,  5360,\n",
       "        5404,  5409,  5452,  5455,  5480,  5500,  5503,  5517,  5520,\n",
       "        5537,  5546,  5552,  5596,  5600,  5613,  5644,  5648,  5678,\n",
       "        5690,  5692,  5696,  5711,  5738,  5740,  5744,  5793,  5795,\n",
       "        5816,  5821,  5836,  5840,  5884,  5889,  5913,  5919,  5929,\n",
       "        5932,  5937,  5959,  5965,  5980,  5982,  5995,  6013,  6026,\n",
       "        6028,  6033,  6036,  6074,  6076,  6081,  6083,  6122,  6124,\n",
       "        6129,  6173,  6175,  6180,  6219,  6251,  6256,  6267,  6272,\n",
       "        6290,  6314,  6316,  6321,  6335,  6341,  6343,  6352,  6363,\n",
       "        6369,  6409,  6415,  6441,  6445,  6457,  6465,  6469,  6506,\n",
       "        6512,  6515,  6554,  6560,  6563,  6603,  6608,  6611,  6651,\n",
       "        6656,  6658,  6699,  6704,  6707,  6747,  6750,  6756,  6774,\n",
       "        6788,  6801,  6826,  6832,  6848,  6850,  6871,  6888,  6896,\n",
       "        6919,  6937,  6942,  6945,  6971,  6987,  6995,  7009,  7027,\n",
       "        7039,  7084,  7089,  7129,  7136,  7184,  7233,  7282,  7329,\n",
       "        7374,  7379,  7406,  7413,  7416,  7418,  7423,  7426,  7470,\n",
       "        7475,  7510,  7522,  7569,  7586,  7617,  7665,  7712,  7761,\n",
       "        7784,  7808,  7837,  7839,  7849,  7854,  7860,  7875,  7905,\n",
       "        7952,  7999,  8042,  8047,  8096,  8144,  8191,  8239,  8287,\n",
       "        8314,  8325,  8335,  8375,  8383,  8387,  8408,  8427,  8431,\n",
       "        8450,  8464,  8480,  8525,  8529,  8575,  8619,  8627,  8671,\n",
       "        8698,  8717,  8767,  8788,  8813,  8861,  8863,  8909,  8959,\n",
       "        9001,  9005,  9007,  9045,  9054,  9057,  9085,  9105,  9108,\n",
       "        9151,  9198,  9243,  9291,  9293,  9341,  9389,  9432,  9438,\n",
       "        9458,  9485,  9532,  9566,  9568,  9573,  9582,  9628,  9676,\n",
       "        9729,  9775,  9825,  9874,  9919,  9969, 10016, 10063, 10066,\n",
       "       10108, 10113, 10159, 10205, 11548, 11551, 11597, 11645, 11694,\n",
       "       11742, 11790, 11841, 11890, 11935, 11983, 12007, 12030, 12076,\n",
       "       12081, 12123, 12129, 12170, 12179, 12217, 12220, 12225, 12271,\n",
       "       12320, 12362, 12371, 12412, 12414, 12417, 12459, 12463, 12512,\n",
       "       12559, 12608, 12655, 12698, 12705, 12751, 12797, 12799, 12847,\n",
       "       12897, 12944, 12992, 13040, 13066, 13085, 13132, 13137, 13181,\n",
       "       13185, 13231, 13277, 13279, 13327, 13369, 13380, 13422, 13450,\n",
       "       13470, 13517, 13522, 13569, 13599, 13616, 13662, 13710, 13758,\n",
       "       13799, 13809, 13852, 13855, 13903, 13951, 13990, 13998, 14000,\n",
       "       14043, 14048, 14071, 14093, 14096, 14138, 14142, 14144, 14147,\n",
       "       14188, 14191, 14233, 14242, 14288, 14336, 14383, 14431, 14479,\n",
       "       14523, 14574, 14619, 14624, 14667, 14672, 14718, 14767, 14815,\n",
       "       14858, 14861, 14866, 14907, 14912, 14958, 15007, 15057, 15105,\n",
       "       15153, 15198, 15248, 15282, 15297, 15345, 15392, 15442, 15483,\n",
       "       15489, 15538, 15586, 15634, 15682, 15730, 15778, 15826, 15872,\n",
       "       15874, 15921, 15970, 16018, 16065, 16113, 16162, 16209, 16257,\n",
       "       16305])"
      ]
     },
     "execution_count": 32,
     "metadata": {},
     "output_type": "execute_result"
    }
   ],
   "source": [
    "peaks1"
   ]
  },
  {
   "cell_type": "code",
   "execution_count": 33,
   "id": "67c355d7",
   "metadata": {},
   "outputs": [
    {
     "name": "stdout",
     "output_type": "stream",
     "text": [
      "Estimated time offset: 1 days 02:06:00\n"
     ]
    }
   ],
   "source": [
    "import numpy as np\n",
    "import pandas as pd\n",
    "from scipy.signal import find_peaks\n",
    "\n",
    "\n",
    "time = utd_soilt.index\n",
    "\n",
    "series1 = utd_soilt['ts_3_1_1']\n",
    "series2 = utd_soilt['ts_3_2_1']\n",
    "\n",
    "peaks1, _ = find_peaks(series1)\n",
    "peaks2, _ = find_peaks(series2)\n",
    "\n",
    "# Assuming peaks are regularly spaced, calculate the average time difference\n",
    "if len(peaks1) > 0 and len(peaks2) > 0:\n",
    "    # Use only the first few peaks to estimate the offset, assuming regularity\n",
    "    num_peaks_to_use = min(5, len(peaks1), len(peaks2)) # Use a maximum of 5 peaks\n",
    "    time_offset_candidates = []\n",
    "    for i in range(num_peaks_to_use):\n",
    "        time_offset_candidates.append(time[peaks2[i]] - time[peaks1[i]])\n",
    "    time_offset = np.mean(time_offset_candidates)\n",
    "    print(f\"Estimated time offset: {time_offset}\")\n",
    "else:\n",
    "    print(\"Could not find peaks in one or both series.\")"
   ]
  },
  {
   "cell_type": "code",
   "execution_count": 45,
   "id": "26f8752b",
   "metadata": {},
   "outputs": [
    {
     "data": {
      "text/plain": [
       "Timedelta('0 days 00:30:00')"
      ]
     },
     "execution_count": 45,
     "metadata": {},
     "output_type": "execute_result"
    }
   ],
   "source": [
    "(time[1]-time[0])"
   ]
  },
  {
   "cell_type": "code",
   "execution_count": 51,
   "id": "2f2c87cc",
   "metadata": {},
   "outputs": [
    {
     "name": "stdout",
     "output_type": "stream",
     "text": [
      "Estimated time offset using cross-correlation: -300.0\n"
     ]
    }
   ],
   "source": [
    "correlation = np.correlate(series2, series1, mode='same')\n",
    "lags = np.arange(-10, 10)\n",
    "peak_lag_index = np.argmax(correlation)\n",
    "time_offset_correlation = lags[peak_lag_index] * (time[1] - time[0]).total_seconds()/60\n",
    "print(f\"Estimated time offset using cross-correlation: {time_offset_correlation}\")"
   ]
  },
  {
   "cell_type": "code",
   "execution_count": 36,
   "id": "d5b7e798",
   "metadata": {},
   "outputs": [
    {
     "data": {
      "text/plain": [
       "np.int64(0)"
      ]
     },
     "execution_count": 36,
     "metadata": {},
     "output_type": "execute_result"
    }
   ],
   "source": [
    "peak_lag_index"
   ]
  },
  {
   "cell_type": "code",
   "execution_count": null,
   "id": "4fc536c3",
   "metadata": {},
   "outputs": [],
   "source": [
    "cdf = pd.read_parquet('../../station_data/all_eddy_data.parquet')\n",
    "ddf = pd.read_parquet('../../station_data/all_met_data.parquet')\n",
    "\n",
    "for col in cdf.columns:\n",
    "    if col in ddf.columns:\n",
    "        print(col)\n"
   ]
  },
  {
   "cell_type": "code",
   "execution_count": null,
   "id": "0436b2a8",
   "metadata": {},
   "outputs": [],
   "source": [
    "ddf.head(10).to_clipboard()"
   ]
  },
  {
   "cell_type": "code",
   "execution_count": null,
   "id": "549094d0",
   "metadata": {},
   "outputs": [],
   "source": [
    "series = ddf.loc['US-UTD','t_si111_body'].replace(-9999,np.nan)\n",
    "series.plot()\n",
    "series.diff().plot()\n",
    "new_series = series[series.diff()<2].diff().cumsum()\n",
    "new_series.plot()"
   ]
  },
  {
   "cell_type": "code",
   "execution_count": null,
   "id": "fddcebdfd6a7b51c",
   "metadata": {
    "ExecuteTime": {
     "end_time": "2024-12-28T02:58:26.322749Z",
     "start_time": "2024-12-28T02:58:26.266874Z"
    }
   },
   "outputs": [],
   "source": [
    "config = configparser.ConfigParser()\n",
    "\n",
    "config.read('../../secrets/config.ini')\n",
    "\n",
    "from sqlalchemy import create_engine\n",
    "import urllib.parse\n",
    "host = config['DEFAULT']['ip']\n",
    "pw = config['DEFAULT']['pw']\n",
    "user = config['DEFAULT']['login']\n",
    "\n",
    "encoded_password = urllib.parse.quote_plus(pw)\n",
    "\n",
    "def postconn_et(encoded_password, host='localhost',user='postgres',port='5432',db='groundwater', schema = 'groundwater'):\n",
    "    connection_text = \"postgresql+psycopg2://{:}:{:}@{:}:{:}/{:}?gssencmode=disable\".format(user,encoded_password,host,port,db)\n",
    "    return create_engine(connection_text, connect_args={'options': '-csearch_path={}'.format(schema)})\n",
    "\n",
    "\n",
    "engine = postconn_et(encoded_password, host=host, user=user)"
   ]
  },
  {
   "cell_type": "code",
   "execution_count": null,
   "id": "714ce788442a9680",
   "metadata": {
    "ExecuteTime": {
     "end_time": "2024-12-28T03:05:29.870280Z",
     "start_time": "2024-12-28T03:01:28.804960Z"
    }
   },
   "outputs": [],
   "source": [
    "cdf.to_sql(name = 'amfluxeddy',\n",
    "           schema='groundwater',\n",
    "           con=engine,\n",
    "           if_exists='replace',\n",
    "           chunksize=2000)"
   ]
  },
  {
   "cell_type": "code",
   "execution_count": null,
   "id": "c5819ddd94230e54",
   "metadata": {},
   "outputs": [],
   "source": []
  }
 ],
 "metadata": {
  "kernelspec": {
   "display_name": "py313",
   "language": "python",
   "name": "python3"
  },
  "language_info": {
   "codemirror_mode": {
    "name": "ipython",
    "version": 3
   },
   "file_extension": ".py",
   "mimetype": "text/x-python",
   "name": "python",
   "nbconvert_exporter": "python",
   "pygments_lexer": "ipython3",
   "version": "3.13.1"
  }
 },
 "nbformat": 4,
 "nbformat_minor": 5
}
