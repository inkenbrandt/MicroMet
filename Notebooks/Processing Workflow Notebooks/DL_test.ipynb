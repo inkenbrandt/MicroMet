{
 "cells": [
  {
   "metadata": {},
   "cell_type": "markdown",
   "source": "This notebook was used to compile all of the available data from the Utah Flux Network stations.  It should only need to be used once, as other notebooks are used to comile the newer data.",
   "id": "8e6cb5d9c8ae57b4"
  },
  {
   "metadata": {
    "execution": {
     "iopub.execute_input": "2024-10-01T20:04:24.166323Z",
     "iopub.status.busy": "2024-10-01T20:04:24.166323Z",
     "iopub.status.idle": "2024-10-01T20:04:27.390335Z",
     "shell.execute_reply": "2024-10-01T20:04:27.390335Z",
     "shell.execute_reply.started": "2024-10-01T20:04:24.166323Z"
    },
    "ExecuteTime": {
     "end_time": "2024-12-28T02:58:12.128541Z",
     "start_time": "2024-12-28T02:58:09.755762Z"
    }
   },
   "cell_type": "code",
   "source": [
    "import pandas as pd\n",
    "import numpy as np\n",
    "import glob\n",
    "import os\n",
    "import geopandas as gpd\n",
    "import urllib\n",
    "import sys\n",
    "import pathlib\n",
    "import glob\n",
    "import matplotlib.pyplot as plt\n",
    "from urllib.parse import quote\n",
    "from sqlalchemy import create_engine\n",
    "import configparser\n",
    "\n",
    "\n",
    "import statsmodels.api as sm\n",
    "#import pingouin as pg\n",
    "import plotly.express as px\n",
    "\n",
    "\n",
    "\n"
   ],
   "id": "initial_id",
   "outputs": [],
   "execution_count": 1
  },
  {
   "cell_type": "code",
   "id": "61e3a29165852b08",
   "metadata": {
    "execution": {
     "iopub.execute_input": "2024-10-01T20:04:27.394344Z",
     "iopub.status.busy": "2024-10-01T20:04:27.391341Z",
     "iopub.status.idle": "2024-10-01T20:04:28.485295Z",
     "shell.execute_reply": "2024-10-01T20:04:28.485295Z",
     "shell.execute_reply.started": "2024-10-01T20:04:27.394344Z"
    },
    "ExecuteTime": {
     "end_time": "2024-12-28T02:58:19.632874Z",
     "start_time": "2024-12-28T02:58:19.154832Z"
    }
   },
   "source": [
    "sys.path.append(\"//\")\n",
    "#sys.path.append(\"../../Micromet\")\n",
    "import micromet\n",
    "from micromet import AmerifluxDataProcessor\n",
    "%matplotlib inline"
   ],
   "outputs": [],
   "execution_count": 2
  },
  {
   "cell_type": "code",
   "id": "ad20f401f01ce92f",
   "metadata": {
    "execution": {
     "iopub.execute_input": "2024-10-01T14:09:27.572520Z",
     "iopub.status.busy": "2024-10-01T14:09:27.572520Z",
     "iopub.status.idle": "2024-10-01T14:09:27.607540Z",
     "shell.execute_reply": "2024-10-01T14:09:27.607540Z",
     "shell.execute_reply.started": "2024-10-01T14:09:27.572520Z"
    },
    "ExecuteTime": {
     "end_time": "2024-12-28T02:59:46.257678Z",
     "start_time": "2024-12-28T02:58:44.070499Z"
    }
   },
   "source": [
    "site_folders = {'US-UTD':'Dugout_Ranch',\n",
    "                'US-UTB':'BSF',\n",
    "                'US-UTJ':'Bluff',\n",
    "                'US-UTW':'Wellington',\n",
    "                'US-UTE':'Escalante',\n",
    "                'US-UTM':'Matheson',\n",
    "                'US-UTP':'Phrag',\n",
    "                'US-CdM':'Cedar_mesa',\n",
    "                'US-UTV':'Desert_View_Myton',\n",
    "                'US-UTN':'Juab'\n",
    "                }\n",
    "\n",
    "\n",
    "compdf = {}\n",
    "\n",
    "am = micromet.AmerifluxDataProcessor()\n",
    "\n",
    "for key, value in site_folders.items():\n",
    "\n",
    "    print(key)\n",
    "    raw_fold = pathlib.Path('H:/UGS_Flux/Data_Downloads/')\n",
    "    raw_data = am.raw_file_compile(raw_fold, value, search_str = \"*Flux_AmeriFluxFormat*.dat\")\n",
    "    if raw_data is not None:\n",
    "        am_data = micromet.Reformatter(raw_data, data_path=\"C:/Users/paulinkenbrandt/Documents/GitHub/MicroMet/data/extreme_values.csv\")\n",
    "        am_df = am_data.et_data\n",
    "        compdf[key] = am_df\n",
    "\n",
    "        am_df.to_csv(f\"../../station_data/{key}_HH_{am_df['TIMESTAMP_START'].values[0]:}_{am_df['TIMESTAMP_END'].values[-1]:}.csv\")\n",
    "\n",
    "        \n",
    "cdf = pd.concat(compdf,axis=0)\n",
    "cdf.index.set_names(['stationid','datetime_start'],inplace=True)\n",
    "#cdf.rename(columns={'level_0':'stationid'},inplace=True)\n",
    "#cdf.to_parquet('../station_data/all_data.parquet')\n",
    "for col in cdf.columns:\n",
    "    cdf.rename(columns={col:col.lower()},inplace=True)\n"
   ],
   "outputs": [
    {
     "name": "stdout",
     "output_type": "stream",
     "text": [
      "US-UTD\n",
      "US-UTB\n",
      "US-UTJ\n",
      "US-UTW\n",
      "US-UTE\n",
      "US-UTM\n",
      "Unknown header format for file: H:\\UGS_Flux\\Data_Downloads\\Matheson\\8442_Flux_AmeriFluxFormat_0.dat\n",
      "Unknown header format for file: H:\\UGS_Flux\\Data_Downloads\\Matheson\\d20211228\\8442_Flux_AmeriFluxFormat_0.dat\n",
      "Unknown header format for file: H:\\UGS_Flux\\Data_Downloads\\Matheson\\d20220215\\8442_Flux_AmeriFluxFormat_0.dat\n",
      "Unknown header format for file: H:\\UGS_Flux\\Data_Downloads\\Matheson\\d20220323\\8442_Flux_AmeriFluxFormat_0.dat\n",
      "US-UTP\n"
     ]
    },
    {
     "name": "stderr",
     "output_type": "stream",
     "text": [
      "C:\\Users\\paulinkenbrandt\\Anaconda3\\envs\\pygis12\\Lib\\site-packages\\numpy\\lib\\_nanfunctions_impl.py:2035: RuntimeWarning: Degrees of freedom <= 0 for slice.\n",
      "  var = nanvar(a, axis=axis, dtype=dtype, out=out, ddof=ddof,\n",
      "C:\\Users\\paulinkenbrandt\\Documents\\GitHub\\MicroMet\\micromet\\converter.py:945: RuntimeWarning: Mean of empty slice\n",
      "  avg = np.nanmean(arr)\n",
      "C:\\Users\\paulinkenbrandt\\Anaconda3\\envs\\pygis12\\Lib\\site-packages\\numpy\\lib\\_nanfunctions_impl.py:2035: RuntimeWarning: Degrees of freedom <= 0 for slice.\n",
      "  var = nanvar(a, axis=axis, dtype=dtype, out=out, ddof=ddof,\n",
      "C:\\Users\\paulinkenbrandt\\Documents\\GitHub\\MicroMet\\micromet\\converter.py:945: RuntimeWarning: Mean of empty slice\n",
      "  avg = np.nanmean(arr)\n",
      "C:\\Users\\paulinkenbrandt\\Anaconda3\\envs\\pygis12\\Lib\\site-packages\\numpy\\lib\\_nanfunctions_impl.py:2035: RuntimeWarning: Degrees of freedom <= 0 for slice.\n",
      "  var = nanvar(a, axis=axis, dtype=dtype, out=out, ddof=ddof,\n",
      "C:\\Users\\paulinkenbrandt\\Documents\\GitHub\\MicroMet\\micromet\\converter.py:945: RuntimeWarning: Mean of empty slice\n",
      "  avg = np.nanmean(arr)\n"
     ]
    },
    {
     "name": "stdout",
     "output_type": "stream",
     "text": [
      "US-CdM\n",
      "Unknown header format for file: H:\\UGS_Flux\\Data_Downloads\\Cedar_mesa\\e20241008\\45027_Flux_AmeriFluxFormat_6.dat\n",
      "US-UTV\n",
      "US-UTN\n",
      "Unknown header format for file: H:\\UGS_Flux\\Data_Downloads\\Juab\\20210622_farm\\8441_Flux_AmeriFluxFormat_4.dat\n",
      "Unknown header format for file: H:\\UGS_Flux\\Data_Downloads\\Juab\\combined_farm\\8441_Flux_AmeriFluxFormat_4.dat\n",
      "Unknown header format for file: H:\\UGS_Flux\\Data_Downloads\\Juab\\20210826_farmNephi\\20210826\\8441_Flux_AmeriFluxFormat_11.dat\n"
     ]
    },
    {
     "name": "stderr",
     "output_type": "stream",
     "text": [
      "C:\\Users\\paulinkenbrandt\\Anaconda3\\envs\\pygis12\\Lib\\site-packages\\numpy\\lib\\_nanfunctions_impl.py:2035: RuntimeWarning: Degrees of freedom <= 0 for slice.\n",
      "  var = nanvar(a, axis=axis, dtype=dtype, out=out, ddof=ddof,\n",
      "C:\\Users\\paulinkenbrandt\\Documents\\GitHub\\MicroMet\\micromet\\converter.py:945: RuntimeWarning: Mean of empty slice\n",
      "  avg = np.nanmean(arr)\n",
      "C:\\Users\\paulinkenbrandt\\Anaconda3\\envs\\pygis12\\Lib\\site-packages\\numpy\\lib\\_nanfunctions_impl.py:2035: RuntimeWarning: Degrees of freedom <= 0 for slice.\n",
      "  var = nanvar(a, axis=axis, dtype=dtype, out=out, ddof=ddof,\n",
      "C:\\Users\\paulinkenbrandt\\Documents\\GitHub\\MicroMet\\micromet\\converter.py:945: RuntimeWarning: Mean of empty slice\n",
      "  avg = np.nanmean(arr)\n",
      "C:\\Users\\paulinkenbrandt\\Anaconda3\\envs\\pygis12\\Lib\\site-packages\\numpy\\lib\\_nanfunctions_impl.py:2035: RuntimeWarning: Degrees of freedom <= 0 for slice.\n",
      "  var = nanvar(a, axis=axis, dtype=dtype, out=out, ddof=ddof,\n",
      "C:\\Users\\paulinkenbrandt\\Documents\\GitHub\\MicroMet\\micromet\\converter.py:945: RuntimeWarning: Mean of empty slice\n",
      "  avg = np.nanmean(arr)\n",
      "C:\\Users\\paulinkenbrandt\\Anaconda3\\envs\\pygis12\\Lib\\site-packages\\numpy\\lib\\_nanfunctions_impl.py:2035: RuntimeWarning: Degrees of freedom <= 0 for slice.\n",
      "  var = nanvar(a, axis=axis, dtype=dtype, out=out, ddof=ddof,\n",
      "C:\\Users\\paulinkenbrandt\\Documents\\GitHub\\MicroMet\\micromet\\converter.py:945: RuntimeWarning: Mean of empty slice\n",
      "  avg = np.nanmean(arr)\n",
      "C:\\Users\\paulinkenbrandt\\Anaconda3\\envs\\pygis12\\Lib\\site-packages\\numpy\\lib\\_nanfunctions_impl.py:2035: RuntimeWarning: Degrees of freedom <= 0 for slice.\n",
      "  var = nanvar(a, axis=axis, dtype=dtype, out=out, ddof=ddof,\n",
      "C:\\Users\\paulinkenbrandt\\Documents\\GitHub\\MicroMet\\micromet\\converter.py:945: RuntimeWarning: Mean of empty slice\n",
      "  avg = np.nanmean(arr)\n",
      "C:\\Users\\paulinkenbrandt\\Anaconda3\\envs\\pygis12\\Lib\\site-packages\\numpy\\lib\\_nanfunctions_impl.py:2035: RuntimeWarning: Degrees of freedom <= 0 for slice.\n",
      "  var = nanvar(a, axis=axis, dtype=dtype, out=out, ddof=ddof,\n",
      "C:\\Users\\paulinkenbrandt\\Documents\\GitHub\\MicroMet\\micromet\\converter.py:945: RuntimeWarning: Mean of empty slice\n",
      "  avg = np.nanmean(arr)\n",
      "C:\\Users\\paulinkenbrandt\\Anaconda3\\envs\\pygis12\\Lib\\site-packages\\numpy\\lib\\_nanfunctions_impl.py:2035: RuntimeWarning: Degrees of freedom <= 0 for slice.\n",
      "  var = nanvar(a, axis=axis, dtype=dtype, out=out, ddof=ddof,\n",
      "C:\\Users\\paulinkenbrandt\\Documents\\GitHub\\MicroMet\\micromet\\converter.py:945: RuntimeWarning: Mean of empty slice\n",
      "  avg = np.nanmean(arr)\n",
      "C:\\Users\\paulinkenbrandt\\Anaconda3\\envs\\pygis12\\Lib\\site-packages\\numpy\\lib\\_nanfunctions_impl.py:2035: RuntimeWarning: Degrees of freedom <= 0 for slice.\n",
      "  var = nanvar(a, axis=axis, dtype=dtype, out=out, ddof=ddof,\n",
      "C:\\Users\\paulinkenbrandt\\Documents\\GitHub\\MicroMet\\micromet\\converter.py:945: RuntimeWarning: Mean of empty slice\n",
      "  avg = np.nanmean(arr)\n",
      "C:\\Users\\paulinkenbrandt\\Anaconda3\\envs\\pygis12\\Lib\\site-packages\\numpy\\lib\\_nanfunctions_impl.py:2035: RuntimeWarning: Degrees of freedom <= 0 for slice.\n",
      "  var = nanvar(a, axis=axis, dtype=dtype, out=out, ddof=ddof,\n",
      "C:\\Users\\paulinkenbrandt\\Documents\\GitHub\\MicroMet\\micromet\\converter.py:945: RuntimeWarning: Mean of empty slice\n",
      "  avg = np.nanmean(arr)\n",
      "C:\\Users\\paulinkenbrandt\\Anaconda3\\envs\\pygis12\\Lib\\site-packages\\numpy\\lib\\_nanfunctions_impl.py:2035: RuntimeWarning: Degrees of freedom <= 0 for slice.\n",
      "  var = nanvar(a, axis=axis, dtype=dtype, out=out, ddof=ddof,\n",
      "C:\\Users\\paulinkenbrandt\\Documents\\GitHub\\MicroMet\\micromet\\converter.py:945: RuntimeWarning: Mean of empty slice\n",
      "  avg = np.nanmean(arr)\n",
      "C:\\Users\\paulinkenbrandt\\Anaconda3\\envs\\pygis12\\Lib\\site-packages\\numpy\\lib\\_nanfunctions_impl.py:2035: RuntimeWarning: Degrees of freedom <= 0 for slice.\n",
      "  var = nanvar(a, axis=axis, dtype=dtype, out=out, ddof=ddof,\n",
      "C:\\Users\\paulinkenbrandt\\Documents\\GitHub\\MicroMet\\micromet\\converter.py:945: RuntimeWarning: Mean of empty slice\n",
      "  avg = np.nanmean(arr)\n",
      "C:\\Users\\paulinkenbrandt\\Anaconda3\\envs\\pygis12\\Lib\\site-packages\\numpy\\lib\\_nanfunctions_impl.py:2035: RuntimeWarning: Degrees of freedom <= 0 for slice.\n",
      "  var = nanvar(a, axis=axis, dtype=dtype, out=out, ddof=ddof,\n",
      "C:\\Users\\paulinkenbrandt\\Documents\\GitHub\\MicroMet\\micromet\\converter.py:945: RuntimeWarning: Mean of empty slice\n",
      "  avg = np.nanmean(arr)\n",
      "C:\\Users\\paulinkenbrandt\\Anaconda3\\envs\\pygis12\\Lib\\site-packages\\numpy\\lib\\_nanfunctions_impl.py:2035: RuntimeWarning: Degrees of freedom <= 0 for slice.\n",
      "  var = nanvar(a, axis=axis, dtype=dtype, out=out, ddof=ddof,\n",
      "C:\\Users\\paulinkenbrandt\\Documents\\GitHub\\MicroMet\\micromet\\converter.py:945: RuntimeWarning: Mean of empty slice\n",
      "  avg = np.nanmean(arr)\n",
      "C:\\Users\\paulinkenbrandt\\Anaconda3\\envs\\pygis12\\Lib\\site-packages\\numpy\\lib\\_nanfunctions_impl.py:2035: RuntimeWarning: Degrees of freedom <= 0 for slice.\n",
      "  var = nanvar(a, axis=axis, dtype=dtype, out=out, ddof=ddof,\n",
      "C:\\Users\\paulinkenbrandt\\Documents\\GitHub\\MicroMet\\micromet\\converter.py:945: RuntimeWarning: Mean of empty slice\n",
      "  avg = np.nanmean(arr)\n"
     ]
    }
   ],
   "execution_count": 4
  },
  {
   "metadata": {
    "ExecuteTime": {
     "end_time": "2024-12-28T02:58:26.322749Z",
     "start_time": "2024-12-28T02:58:26.266874Z"
    }
   },
   "cell_type": "code",
   "outputs": [],
   "execution_count": 3,
   "source": [
    "config = configparser.ConfigParser()\n",
    "\n",
    "config.read('../../secrets/config.ini')\n",
    "\n",
    "from sqlalchemy import create_engine\n",
    "import urllib.parse\n",
    "host = config['DEFAULT']['ip']\n",
    "pw = config['DEFAULT']['pw']\n",
    "user = config['DEFAULT']['login']\n",
    "\n",
    "encoded_password = urllib.parse.quote_plus(pw)\n",
    "\n",
    "def postconn_et(encoded_password, host='localhost',user='postgres',port='5432',db='groundwater', schema = 'groundwater'):\n",
    "    connection_text = \"postgresql+psycopg2://{:}:{:}@{:}:{:}/{:}?gssencmode=disable\".format(user,encoded_password,host,port,db)\n",
    "    return create_engine(connection_text, connect_args={'options': '-csearch_path={}'.format(schema)})\n",
    "\n",
    "\n",
    "engine = postconn_et(encoded_password, host=host, user=user)"
   ],
   "id": "fddcebdfd6a7b51c"
  },
  {
   "metadata": {
    "ExecuteTime": {
     "end_time": "2024-12-28T03:05:29.870280Z",
     "start_time": "2024-12-28T03:01:28.804960Z"
    }
   },
   "cell_type": "code",
   "source": [
    "cdf.to_sql(name = 'amfluxeddy',\n",
    "           schema='groundwater',\n",
    "           con=engine,\n",
    "           if_exists='replace',\n",
    "           chunksize=2000)"
   ],
   "id": "714ce788442a9680",
   "outputs": [
    {
     "data": {
      "text/plain": [
       "15788"
      ]
     },
     "execution_count": 5,
     "metadata": {},
     "output_type": "execute_result"
    }
   ],
   "execution_count": 5
  },
  {
   "metadata": {},
   "cell_type": "code",
   "outputs": [],
   "execution_count": null,
   "source": "",
   "id": "c5819ddd94230e54"
  }
 ],
 "metadata": {
  "kernelspec": {
   "display_name": "Python 3 (ipykernel)",
   "language": "python",
   "name": "python3"
  },
  "language_info": {
   "codemirror_mode": {
    "name": "ipython",
    "version": 3
   },
   "file_extension": ".py",
   "mimetype": "text/x-python",
   "name": "python",
   "nbconvert_exporter": "python",
   "pygments_lexer": "ipython3",
   "version": "3.12.5"
  }
 },
 "nbformat": 4,
 "nbformat_minor": 5
}
