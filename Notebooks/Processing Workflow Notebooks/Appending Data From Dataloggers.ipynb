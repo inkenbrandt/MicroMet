{
 "cells": [
  {
   "cell_type": "markdown",
   "id": "7d34b5305f4414d6",
   "metadata": {},
   "source": [
    "# Imports"
   ]
  },
  {
   "cell_type": "markdown",
   "id": "d20186a65e84c3c3",
   "metadata": {},
   "source": [
    "## Dependencies"
   ]
  },
  {
   "cell_type": "code",
   "execution_count": 1,
   "id": "initial_id",
   "metadata": {
    "ExecuteTime": {
     "end_time": "2025-02-06T21:40:22.119227Z",
     "start_time": "2025-02-06T21:40:22.114227Z"
    },
    "collapsed": true
   },
   "outputs": [],
   "source": [
    "import requests\n",
    "from requests.auth import HTTPBasicAuth\n",
    "import pandas as pd\n",
    "from io import BytesIO\n",
    "import datetime\n",
    "import numpy as np\n",
    "import configparser\n",
    "import sys"
   ]
  },
  {
   "cell_type": "code",
   "execution_count": null,
   "id": "1883a7c8775bb818",
   "metadata": {
    "ExecuteTime": {
     "end_time": "2025-02-06T21:40:24.179401Z",
     "start_time": "2025-02-06T21:40:24.175888Z"
    }
   },
   "outputs": [],
   "source": []
  },
  {
   "cell_type": "markdown",
   "id": "946b4c2b060c12e4",
   "metadata": {},
   "source": [
    "## Micromet"
   ]
  },
  {
   "cell_type": "code",
   "execution_count": 2,
   "id": "2ef51b0702bf5e57",
   "metadata": {
    "ExecuteTime": {
     "end_time": "2025-02-06T21:40:25.519002Z",
     "start_time": "2025-02-06T21:40:25.514003Z"
    }
   },
   "outputs": [],
   "source": [
    "#sys.path.append(\"G:/Shared drives/UGS_Flux/Data_Processing/Jupyter_Notebooks/MicroMet\")\n",
    "#sys.path.append(\"C:/Users/kladig/Documents/GitHub/MicroMet\")\n",
    "sys.path.append(\"../..\")\n",
    "import micromet"
   ]
  },
  {
   "cell_type": "markdown",
   "id": "2d5eebb78d0a6ad5",
   "metadata": {},
   "source": [
    "## Connection info and Config"
   ]
  },
  {
   "cell_type": "code",
   "execution_count": 3,
   "id": "425153414bebd44c",
   "metadata": {
    "ExecuteTime": {
     "end_time": "2025-02-06T21:38:57.856512Z",
     "start_time": "2025-02-06T21:38:57.742101Z"
    }
   },
   "outputs": [],
   "source": [
    "config = configparser.ConfigParser()\n",
    "\n",
    "config.read('../../secrets/config.ini')\n",
    "\n",
    "from sqlalchemy import create_engine\n",
    "import urllib.parse\n",
    "host = config['DEFAULT']['ip']\n",
    "pw = config['DEFAULT']['pw']\n",
    "user = config['DEFAULT']['login']\n",
    "\n",
    "encoded_password = urllib.parse.quote_plus(pw)\n",
    "\n",
    "def postconn_et(encoded_password, host='localhost',user='postgres',port='5432',db='groundwater', schema = 'groundwater'):\n",
    "    connection_text = \"postgresql+psycopg2://{:}:{:}@{:}:{:}/{:}?gssencmode=disable\".format(user,encoded_password,host,port,db)\n",
    "    return create_engine(connection_text, connect_args={'options': '-csearch_path={}'.format(schema)})\n",
    "\n",
    "\n",
    "engine = postconn_et(encoded_password, host=host, user=user)"
   ]
  },
  {
   "cell_type": "code",
   "execution_count": 4,
   "id": "d048867ae5f232c4",
   "metadata": {
    "ExecuteTime": {
     "end_time": "2025-02-06T21:40:16.854819Z",
     "start_time": "2025-02-06T21:40:16.850818Z"
    }
   },
   "outputs": [],
   "source": [
    "manager = micromet.StationDataManager(config, engine)"
   ]
  },
  {
   "cell_type": "code",
   "execution_count": 5,
   "id": "469fd650ad3bbb8d",
   "metadata": {
    "ExecuteTime": {
     "end_time": "2025-02-06T21:42:03.602153Z",
     "start_time": "2025-02-06T21:40:31.694729Z"
    }
   },
   "outputs": [
    {
     "name": "stdout",
     "output_type": "stream",
     "text": [
      "Column 'TIMESTAMP_END' found in DataFrame\n",
      "Station UTJ\n",
      "Mindate 202502010830  Maxdate 202502080800\n",
      "data size = 0.18456499999999998\n",
      "336 vs 336 rows\n"
     ]
    },
    {
     "name": "stderr",
     "output_type": "stream",
     "text": [
      "c:\\Users\\paulinkenbrandt\\Documents\\GitHub\\MicroMet\\Notebooks\\Processing Workflow Notebooks\\../..\\micromet\\converter.py:780: FutureWarning: DataFrame.interpolate with object dtype is deprecated and will raise in a future version. Call obj.infer_objects(copy=False) before interpolating instead.\n",
      "  .interpolate(method=\"linear\", limit=1)  # Fill up to 30-minute gaps\n",
      "c:\\Users\\paulinkenbrandt\\.conda\\envs\\py313\\Lib\\site-packages\\numpy\\lib\\_nanfunctions_impl.py:2019: RuntimeWarning: Degrees of freedom <= 0 for slice.\n",
      "  var = nanvar(a, axis=axis, dtype=dtype, out=out, ddof=ddof,\n",
      "c:\\Users\\paulinkenbrandt\\Documents\\GitHub\\MicroMet\\Notebooks\\Processing Workflow Notebooks\\../..\\micromet\\converter.py:955: RuntimeWarning: Mean of empty slice\n",
      "  avg = np.nanmean(arr)\n",
      "c:\\Users\\paulinkenbrandt\\.conda\\envs\\py313\\Lib\\site-packages\\numpy\\lib\\_nanfunctions_impl.py:2019: RuntimeWarning: Degrees of freedom <= 0 for slice.\n",
      "  var = nanvar(a, axis=axis, dtype=dtype, out=out, ddof=ddof,\n",
      "c:\\Users\\paulinkenbrandt\\Documents\\GitHub\\MicroMet\\Notebooks\\Processing Workflow Notebooks\\../..\\micromet\\converter.py:955: RuntimeWarning: Mean of empty slice\n",
      "  avg = np.nanmean(arr)\n",
      "c:\\Users\\paulinkenbrandt\\.conda\\envs\\py313\\Lib\\site-packages\\numpy\\lib\\_nanfunctions_impl.py:2019: RuntimeWarning: Degrees of freedom <= 0 for slice.\n",
      "  var = nanvar(a, axis=axis, dtype=dtype, out=out, ddof=ddof,\n",
      "c:\\Users\\paulinkenbrandt\\Documents\\GitHub\\MicroMet\\Notebooks\\Processing Workflow Notebooks\\../..\\micromet\\converter.py:955: RuntimeWarning: Mean of empty slice\n",
      "  avg = np.nanmean(arr)\n",
      "c:\\Users\\paulinkenbrandt\\.conda\\envs\\py313\\Lib\\site-packages\\numpy\\lib\\_nanfunctions_impl.py:2019: RuntimeWarning: Degrees of freedom <= 0 for slice.\n",
      "  var = nanvar(a, axis=axis, dtype=dtype, out=out, ddof=ddof,\n",
      "c:\\Users\\paulinkenbrandt\\Documents\\GitHub\\MicroMet\\Notebooks\\Processing Workflow Notebooks\\../..\\micromet\\converter.py:955: RuntimeWarning: Mean of empty slice\n",
      "  avg = np.nanmean(arr)\n",
      "c:\\Users\\paulinkenbrandt\\.conda\\envs\\py313\\Lib\\site-packages\\numpy\\lib\\_nanfunctions_impl.py:2019: RuntimeWarning: Degrees of freedom <= 0 for slice.\n",
      "  var = nanvar(a, axis=axis, dtype=dtype, out=out, ddof=ddof,\n",
      "c:\\Users\\paulinkenbrandt\\Documents\\GitHub\\MicroMet\\Notebooks\\Processing Workflow Notebooks\\../..\\micromet\\converter.py:955: RuntimeWarning: Mean of empty slice\n",
      "  avg = np.nanmean(arr)\n",
      "c:\\Users\\paulinkenbrandt\\.conda\\envs\\py313\\Lib\\site-packages\\numpy\\lib\\_nanfunctions_impl.py:2019: RuntimeWarning: Degrees of freedom <= 0 for slice.\n",
      "  var = nanvar(a, axis=axis, dtype=dtype, out=out, ddof=ddof,\n",
      "c:\\Users\\paulinkenbrandt\\Documents\\GitHub\\MicroMet\\Notebooks\\Processing Workflow Notebooks\\../..\\micromet\\converter.py:955: RuntimeWarning: Mean of empty slice\n",
      "  avg = np.nanmean(arr)\n",
      "c:\\Users\\paulinkenbrandt\\.conda\\envs\\py313\\Lib\\site-packages\\numpy\\lib\\_nanfunctions_impl.py:2019: RuntimeWarning: Degrees of freedom <= 0 for slice.\n",
      "  var = nanvar(a, axis=axis, dtype=dtype, out=out, ddof=ddof,\n",
      "c:\\Users\\paulinkenbrandt\\Documents\\GitHub\\MicroMet\\Notebooks\\Processing Workflow Notebooks\\../..\\micromet\\converter.py:955: RuntimeWarning: Mean of empty slice\n",
      "  avg = np.nanmean(arr)\n"
     ]
    },
    {
     "name": "stdout",
     "output_type": "stream",
     "text": [
      "Column 'TIMESTAMP_END' found in DataFrame\n"
     ]
    },
    {
     "ename": "ProgrammingError",
     "evalue": "(psycopg2.errors.UndefinedColumn) column \"vwc_3_1_1\" of relation \"amfluxmet\" does not exist\nLINE 1: ..., lw_in, lw_out, t_canopy, t_si111_body, ppfd_in, vwc_3_1_1,...\n                                                             ^\n\n[SQL: INSERT INTO amfluxmet (timestamp_start, timestamp_end, alb, netrad, sw_in, sw_out, lw_in, lw_out, t_canopy, t_si111_body, ppfd_in, vwc_3_1_1, ka_3_1_1, bulkec_3_1_1, vwc_3_2_1, ka_3_2_1, bulkec_3_2_1, vwc_3_3_1, ka_3_3_1, bulkec_3_3_1, vwc_3_4_1, ka_ ... 2848 characters truncated ... lwmwet_1_1_1__2)s, %(lwmv_1_1_2__2)s, %(lwmdry_1_1_2__2)s, %(lwmcon_1_1_2__2)s, %(lwmwet_1_1_2__2)s)]\n[parameters: {'ka_3_9_1__0': -9999.0, 'vwc_3_1_1__0': -9999.0, 'sw_out__0': -9999.0, 'ka_3_8_1__0': -9999.0, 'vwc_3_9_1__0': -9999.0, 'bulkec_3_7_1__0': -9999.0, 'lwmv_1_1_2__0': -9999.0, 'lw_out__0': -9999.0, 'ka_3_2_1__0': -9999.0, 'vwc_3_5_1__0': -9999.0, 'ka_3_6_1__0': -9999.0, 'vwc_3_4_1__0': -9999.0, 'ka_3_4_1__0': -9999.0, 'lwmdry_1_1_1__0': -9999.0, 'bulkec_3_1_1__0': -9999.0, 'vwc_3_7_1__0': -9999.0, 'bulkec_3_5_1__0': -9999.0, 'vwc_3_2_1__0': -9999.0, 'bulkec_3_3_1__0': -9999.0, 'timestamp_start__0': 202502061630, 'bulkec_3_6_1__0': -9999.0, 'vwc_3_3_1__0': -9999.0, 'vwc_3_6_1__0': -9999.0, 'vwc_3_8_1__0': -9999.0, 'lwmcon_1_1_2__0': -9999.0, 'ws__0': -9999.0, 'netrad__0': -9999.0, 'timestamp_end__0': 202502061700, 'ka_3_1_1__0': -9999.0, 'sw_in__0': -9999.0, 'bulkec_3_4_1__0': -9999.0, 'bulkec_3_9_1__0': -9999.0, 'wd__0': -9999.0, 'lwmwet_1_1_2__0': -9999.0, 'lw_in__0': -9999.0, 'lwmv_1_1_1__0': -9999.0, 't_si111_body__0': -9999.0, 'ppfd_in__0': -9999.0, 'lwmcon_1_1_1__0': -9999.0, 'lwmdry_1_1_2__0': -9999.0, 'bulkec_3_2_1__0': -9999.0, 'alb__0': -9999.0, 't_canopy__0': -9999.0, 'ka_3_7_1__0': -9999.0, 'ka_3_3_1__0': -9999.0, 'ka_3_5_1__0': -9999.0, 'lwmwet_1_1_1__0': -9999.0, 'bulkec_3_8_1__0': -9999.0, 'ka_3_9_1__1': -9999.0, 'vwc_3_1_1__1': -9999.0 ... 44 parameters truncated ... 'lwmwet_1_1_1__1': -9999.0, 'bulkec_3_8_1__1': -9999.0, 'ka_3_9_1__2': -9999.0, 'vwc_3_1_1__2': -9999.0, 'sw_out__2': -9999.0, 'ka_3_8_1__2': -9999.0, 'vwc_3_9_1__2': -9999.0, 'bulkec_3_7_1__2': -9999.0, 'lwmv_1_1_2__2': -9999.0, 'lw_out__2': -9999.0, 'ka_3_2_1__2': -9999.0, 'vwc_3_5_1__2': -9999.0, 'ka_3_6_1__2': -9999.0, 'vwc_3_4_1__2': -9999.0, 'ka_3_4_1__2': -9999.0, 'lwmdry_1_1_1__2': -9999.0, 'bulkec_3_1_1__2': -9999.0, 'vwc_3_7_1__2': -9999.0, 'bulkec_3_5_1__2': -9999.0, 'vwc_3_2_1__2': -9999.0, 'bulkec_3_3_1__2': -9999.0, 'timestamp_start__2': 202502061730, 'bulkec_3_6_1__2': -9999.0, 'vwc_3_3_1__2': -9999.0, 'vwc_3_6_1__2': -9999.0, 'vwc_3_8_1__2': -9999.0, 'lwmcon_1_1_2__2': -9999.0, 'ws__2': -9999.0, 'netrad__2': -9999.0, 'timestamp_end__2': 202502061800, 'ka_3_1_1__2': -9999.0, 'sw_in__2': -9999.0, 'bulkec_3_4_1__2': -9999.0, 'bulkec_3_9_1__2': -9999.0, 'wd__2': -9999.0, 'lwmwet_1_1_2__2': -9999.0, 'lw_in__2': -9999.0, 'lwmv_1_1_1__2': -9999.0, 't_si111_body__2': -9999.0, 'ppfd_in__2': -9999.0, 'lwmcon_1_1_1__2': -9999.0, 'lwmdry_1_1_2__2': -9999.0, 'bulkec_3_2_1__2': -9999.0, 'alb__2': -9999.0, 't_canopy__2': -9999.0, 'ka_3_7_1__2': -9999.0, 'ka_3_3_1__2': -9999.0, 'ka_3_5_1__2': -9999.0, 'lwmwet_1_1_1__2': -9999.0, 'bulkec_3_8_1__2': -9999.0}]\n(Background on this error at: https://sqlalche.me/e/20/f405)",
     "output_type": "error",
     "traceback": [
      "\u001b[1;31m---------------------------------------------------------------------------\u001b[0m",
      "\u001b[1;31mUndefinedColumn\u001b[0m                           Traceback (most recent call last)",
      "File \u001b[1;32mc:\\Users\\paulinkenbrandt\\.conda\\envs\\py313\\Lib\\site-packages\\sqlalchemy\\engine\\base.py:2115\u001b[0m, in \u001b[0;36mConnection._exec_insertmany_context\u001b[1;34m(self, dialect, context)\u001b[0m\n\u001b[0;32m   2114\u001b[0m     \u001b[38;5;28;01melse\u001b[39;00m:\n\u001b[1;32m-> 2115\u001b[0m         \u001b[43mdialect\u001b[49m\u001b[38;5;241;43m.\u001b[39;49m\u001b[43mdo_execute\u001b[49m\u001b[43m(\u001b[49m\n\u001b[0;32m   2116\u001b[0m \u001b[43m            \u001b[49m\u001b[43mcursor\u001b[49m\u001b[43m,\u001b[49m\n\u001b[0;32m   2117\u001b[0m \u001b[43m            \u001b[49m\u001b[43msub_stmt\u001b[49m\u001b[43m,\u001b[49m\n\u001b[0;32m   2118\u001b[0m \u001b[43m            \u001b[49m\u001b[43msub_params\u001b[49m\u001b[43m,\u001b[49m\n\u001b[0;32m   2119\u001b[0m \u001b[43m            \u001b[49m\u001b[43mcontext\u001b[49m\u001b[43m,\u001b[49m\n\u001b[0;32m   2120\u001b[0m \u001b[43m        \u001b[49m\u001b[43m)\u001b[49m\n\u001b[0;32m   2122\u001b[0m \u001b[38;5;28;01mexcept\u001b[39;00m \u001b[38;5;167;01mBaseException\u001b[39;00m \u001b[38;5;28;01mas\u001b[39;00m e:\n",
      "File \u001b[1;32mc:\\Users\\paulinkenbrandt\\.conda\\envs\\py313\\Lib\\site-packages\\sqlalchemy\\engine\\default.py:942\u001b[0m, in \u001b[0;36mDefaultDialect.do_execute\u001b[1;34m(self, cursor, statement, parameters, context)\u001b[0m\n\u001b[0;32m    941\u001b[0m \u001b[38;5;28;01mdef\u001b[39;00m\u001b[38;5;250m \u001b[39m\u001b[38;5;21mdo_execute\u001b[39m(\u001b[38;5;28mself\u001b[39m, cursor, statement, parameters, context\u001b[38;5;241m=\u001b[39m\u001b[38;5;28;01mNone\u001b[39;00m):\n\u001b[1;32m--> 942\u001b[0m     \u001b[43mcursor\u001b[49m\u001b[38;5;241;43m.\u001b[39;49m\u001b[43mexecute\u001b[49m\u001b[43m(\u001b[49m\u001b[43mstatement\u001b[49m\u001b[43m,\u001b[49m\u001b[43m \u001b[49m\u001b[43mparameters\u001b[49m\u001b[43m)\u001b[49m\n",
      "\u001b[1;31mUndefinedColumn\u001b[0m: column \"vwc_3_1_1\" of relation \"amfluxmet\" does not exist\nLINE 1: ..., lw_in, lw_out, t_canopy, t_si111_body, ppfd_in, vwc_3_1_1,...\n                                                             ^\n",
      "\nThe above exception was the direct cause of the following exception:\n",
      "\u001b[1;31mProgrammingError\u001b[0m                          Traceback (most recent call last)",
      "Cell \u001b[1;32mIn[5], line 13\u001b[0m\n\u001b[0;32m      1\u001b[0m \u001b[38;5;66;03m# Process data for all stations\u001b[39;00m\n\u001b[0;32m      2\u001b[0m site_folders \u001b[38;5;241m=\u001b[39m {\u001b[38;5;66;03m#'US-UTD':'Dugout_Ranch',\u001b[39;00m\n\u001b[0;32m      3\u001b[0m                 \u001b[38;5;124m'\u001b[39m\u001b[38;5;124mUS-UTB\u001b[39m\u001b[38;5;124m'\u001b[39m:\u001b[38;5;124m'\u001b[39m\u001b[38;5;124mBSF\u001b[39m\u001b[38;5;124m'\u001b[39m,\n\u001b[0;32m      4\u001b[0m                 \u001b[38;5;124m'\u001b[39m\u001b[38;5;124mUS-UTJ\u001b[39m\u001b[38;5;124m'\u001b[39m:\u001b[38;5;124m'\u001b[39m\u001b[38;5;124mBluff\u001b[39m\u001b[38;5;124m'\u001b[39m,\n\u001b[1;32m   (...)\u001b[0m\n\u001b[0;32m     11\u001b[0m                 \u001b[38;5;124m'\u001b[39m\u001b[38;5;124mUS-UTL\u001b[39m\u001b[38;5;124m'\u001b[39m:\u001b[38;5;124m'\u001b[39m\u001b[38;5;124mPelican_Lake\u001b[39m\u001b[38;5;124m'\u001b[39m,\n\u001b[0;32m     12\u001b[0m                 }\n\u001b[1;32m---> 13\u001b[0m \u001b[43mmanager\u001b[49m\u001b[38;5;241;43m.\u001b[39;49m\u001b[43mprocess_station_data\u001b[49m\u001b[43m(\u001b[49m\u001b[43msite_folders\u001b[49m\u001b[43m)\u001b[49m\n",
      "File \u001b[1;32mc:\\Users\\paulinkenbrandt\\Documents\\GitHub\\MicroMet\\Notebooks\\Processing Workflow Notebooks\\../..\\micromet\\station_data_pull.py:240\u001b[0m, in \u001b[0;36mStationDataManager.process_station_data\u001b[1;34m(self, site_folders)\u001b[0m\n\u001b[0;32m    238\u001b[0m \u001b[38;5;66;03m# Upload data\u001b[39;00m\n\u001b[0;32m    239\u001b[0m am_df_filt \u001b[38;5;241m=\u001b[39m am_df_filt\u001b[38;5;241m.\u001b[39mrename(columns\u001b[38;5;241m=\u001b[39m\u001b[38;5;28mstr\u001b[39m\u001b[38;5;241m.\u001b[39mlower)\n\u001b[1;32m--> 240\u001b[0m \u001b[38;5;28;43mself\u001b[39;49m\u001b[38;5;241;43m.\u001b[39;49m\u001b[43m_upload_to_database\u001b[49m\u001b[43m(\u001b[49m\u001b[43mam_df_filt\u001b[49m\u001b[43m,\u001b[49m\u001b[43m \u001b[49m\u001b[43mstats\u001b[49m\u001b[43m,\u001b[49m\u001b[43m \u001b[49m\u001b[43mdat\u001b[49m\u001b[43m)\u001b[49m\n\u001b[0;32m    242\u001b[0m \u001b[38;5;28mself\u001b[39m\u001b[38;5;241m.\u001b[39m_print_processing_summary(station, stats)\n",
      "File \u001b[1;32mc:\\Users\\paulinkenbrandt\\Documents\\GitHub\\MicroMet\\Notebooks\\Processing Workflow Notebooks\\../..\\micromet\\station_data_pull.py:270\u001b[0m, in \u001b[0;36mStationDataManager._upload_to_database\u001b[1;34m(self, df, stats, dat)\u001b[0m\n\u001b[0;32m    268\u001b[0m \u001b[38;5;28;01mdef\u001b[39;00m\u001b[38;5;250m \u001b[39m\u001b[38;5;21m_upload_to_database\u001b[39m(\u001b[38;5;28mself\u001b[39m, df: pd\u001b[38;5;241m.\u001b[39mDataFrame, stats: \u001b[38;5;28mdict\u001b[39m, dat: \u001b[38;5;28mstr\u001b[39m) \u001b[38;5;241m-\u001b[39m\u001b[38;5;241m>\u001b[39m \u001b[38;5;28;01mNone\u001b[39;00m:\n\u001b[0;32m    269\u001b[0m \u001b[38;5;250m    \u001b[39m\u001b[38;5;124;03m\"\"\"Upload data and stats to database.\"\"\"\u001b[39;00m\n\u001b[1;32m--> 270\u001b[0m     \u001b[43mdf\u001b[49m\u001b[38;5;241;43m.\u001b[39;49m\u001b[43mto_sql\u001b[49m\u001b[43m(\u001b[49m\u001b[38;5;124;43mf\u001b[39;49m\u001b[38;5;124;43m\"\u001b[39;49m\u001b[38;5;124;43mamflux\u001b[39;49m\u001b[38;5;132;43;01m{\u001b[39;49;00m\u001b[43mdat\u001b[49m\u001b[38;5;132;43;01m}\u001b[39;49;00m\u001b[38;5;124;43m\"\u001b[39;49m\u001b[43m,\u001b[49m\u001b[43m \u001b[49m\u001b[43mcon\u001b[49m\u001b[38;5;241;43m=\u001b[39;49m\u001b[38;5;28;43mself\u001b[39;49m\u001b[38;5;241;43m.\u001b[39;49m\u001b[43mengine\u001b[49m\u001b[43m,\u001b[49m\u001b[43m \u001b[49m\u001b[43mif_exists\u001b[49m\u001b[38;5;241;43m=\u001b[39;49m\u001b[38;5;124;43m\"\u001b[39;49m\u001b[38;5;124;43mappend\u001b[39;49m\u001b[38;5;124;43m\"\u001b[39;49m\u001b[43m,\u001b[49m\u001b[43m \u001b[49m\u001b[43mindex\u001b[49m\u001b[38;5;241;43m=\u001b[39;49m\u001b[38;5;28;43;01mFalse\u001b[39;49;00m\u001b[43m)\u001b[49m\n\u001b[0;32m    271\u001b[0m     pd\u001b[38;5;241m.\u001b[39mDataFrame([stats])\u001b[38;5;241m.\u001b[39mto_sql(\n\u001b[0;32m    272\u001b[0m         \u001b[38;5;124m\"\u001b[39m\u001b[38;5;124muploadstats\u001b[39m\u001b[38;5;124m\"\u001b[39m, con\u001b[38;5;241m=\u001b[39m\u001b[38;5;28mself\u001b[39m\u001b[38;5;241m.\u001b[39mengine, if_exists\u001b[38;5;241m=\u001b[39m\u001b[38;5;124m\"\u001b[39m\u001b[38;5;124mappend\u001b[39m\u001b[38;5;124m\"\u001b[39m, index\u001b[38;5;241m=\u001b[39m\u001b[38;5;28;01mFalse\u001b[39;00m\n\u001b[0;32m    273\u001b[0m     )\n",
      "File \u001b[1;32mc:\\Users\\paulinkenbrandt\\.conda\\envs\\py313\\Lib\\site-packages\\pandas\\util\\_decorators.py:333\u001b[0m, in \u001b[0;36mdeprecate_nonkeyword_arguments.<locals>.decorate.<locals>.wrapper\u001b[1;34m(*args, **kwargs)\u001b[0m\n\u001b[0;32m    327\u001b[0m \u001b[38;5;28;01mif\u001b[39;00m \u001b[38;5;28mlen\u001b[39m(args) \u001b[38;5;241m>\u001b[39m num_allow_args:\n\u001b[0;32m    328\u001b[0m     warnings\u001b[38;5;241m.\u001b[39mwarn(\n\u001b[0;32m    329\u001b[0m         msg\u001b[38;5;241m.\u001b[39mformat(arguments\u001b[38;5;241m=\u001b[39m_format_argument_list(allow_args)),\n\u001b[0;32m    330\u001b[0m         \u001b[38;5;167;01mFutureWarning\u001b[39;00m,\n\u001b[0;32m    331\u001b[0m         stacklevel\u001b[38;5;241m=\u001b[39mfind_stack_level(),\n\u001b[0;32m    332\u001b[0m     )\n\u001b[1;32m--> 333\u001b[0m \u001b[38;5;28;01mreturn\u001b[39;00m \u001b[43mfunc\u001b[49m\u001b[43m(\u001b[49m\u001b[38;5;241;43m*\u001b[39;49m\u001b[43margs\u001b[49m\u001b[43m,\u001b[49m\u001b[43m \u001b[49m\u001b[38;5;241;43m*\u001b[39;49m\u001b[38;5;241;43m*\u001b[39;49m\u001b[43mkwargs\u001b[49m\u001b[43m)\u001b[49m\n",
      "File \u001b[1;32mc:\\Users\\paulinkenbrandt\\.conda\\envs\\py313\\Lib\\site-packages\\pandas\\core\\generic.py:3087\u001b[0m, in \u001b[0;36mNDFrame.to_sql\u001b[1;34m(self, name, con, schema, if_exists, index, index_label, chunksize, dtype, method)\u001b[0m\n\u001b[0;32m   2889\u001b[0m \u001b[38;5;250m\u001b[39m\u001b[38;5;124;03m\"\"\"\u001b[39;00m\n\u001b[0;32m   2890\u001b[0m \u001b[38;5;124;03mWrite records stored in a DataFrame to a SQL database.\u001b[39;00m\n\u001b[0;32m   2891\u001b[0m \n\u001b[1;32m   (...)\u001b[0m\n\u001b[0;32m   3083\u001b[0m \u001b[38;5;124;03m[(1,), (None,), (2,)]\u001b[39;00m\n\u001b[0;32m   3084\u001b[0m \u001b[38;5;124;03m\"\"\"\u001b[39;00m  \u001b[38;5;66;03m# noqa: E501\u001b[39;00m\n\u001b[0;32m   3085\u001b[0m \u001b[38;5;28;01mfrom\u001b[39;00m\u001b[38;5;250m \u001b[39m\u001b[38;5;21;01mpandas\u001b[39;00m\u001b[38;5;21;01m.\u001b[39;00m\u001b[38;5;21;01mio\u001b[39;00m\u001b[38;5;250m \u001b[39m\u001b[38;5;28;01mimport\u001b[39;00m sql\n\u001b[1;32m-> 3087\u001b[0m \u001b[38;5;28;01mreturn\u001b[39;00m \u001b[43msql\u001b[49m\u001b[38;5;241;43m.\u001b[39;49m\u001b[43mto_sql\u001b[49m\u001b[43m(\u001b[49m\n\u001b[0;32m   3088\u001b[0m \u001b[43m    \u001b[49m\u001b[38;5;28;43mself\u001b[39;49m\u001b[43m,\u001b[49m\n\u001b[0;32m   3089\u001b[0m \u001b[43m    \u001b[49m\u001b[43mname\u001b[49m\u001b[43m,\u001b[49m\n\u001b[0;32m   3090\u001b[0m \u001b[43m    \u001b[49m\u001b[43mcon\u001b[49m\u001b[43m,\u001b[49m\n\u001b[0;32m   3091\u001b[0m \u001b[43m    \u001b[49m\u001b[43mschema\u001b[49m\u001b[38;5;241;43m=\u001b[39;49m\u001b[43mschema\u001b[49m\u001b[43m,\u001b[49m\n\u001b[0;32m   3092\u001b[0m \u001b[43m    \u001b[49m\u001b[43mif_exists\u001b[49m\u001b[38;5;241;43m=\u001b[39;49m\u001b[43mif_exists\u001b[49m\u001b[43m,\u001b[49m\n\u001b[0;32m   3093\u001b[0m \u001b[43m    \u001b[49m\u001b[43mindex\u001b[49m\u001b[38;5;241;43m=\u001b[39;49m\u001b[43mindex\u001b[49m\u001b[43m,\u001b[49m\n\u001b[0;32m   3094\u001b[0m \u001b[43m    \u001b[49m\u001b[43mindex_label\u001b[49m\u001b[38;5;241;43m=\u001b[39;49m\u001b[43mindex_label\u001b[49m\u001b[43m,\u001b[49m\n\u001b[0;32m   3095\u001b[0m \u001b[43m    \u001b[49m\u001b[43mchunksize\u001b[49m\u001b[38;5;241;43m=\u001b[39;49m\u001b[43mchunksize\u001b[49m\u001b[43m,\u001b[49m\n\u001b[0;32m   3096\u001b[0m \u001b[43m    \u001b[49m\u001b[43mdtype\u001b[49m\u001b[38;5;241;43m=\u001b[39;49m\u001b[43mdtype\u001b[49m\u001b[43m,\u001b[49m\n\u001b[0;32m   3097\u001b[0m \u001b[43m    \u001b[49m\u001b[43mmethod\u001b[49m\u001b[38;5;241;43m=\u001b[39;49m\u001b[43mmethod\u001b[49m\u001b[43m,\u001b[49m\n\u001b[0;32m   3098\u001b[0m \u001b[43m\u001b[49m\u001b[43m)\u001b[49m\n",
      "File \u001b[1;32mc:\\Users\\paulinkenbrandt\\.conda\\envs\\py313\\Lib\\site-packages\\pandas\\io\\sql.py:842\u001b[0m, in \u001b[0;36mto_sql\u001b[1;34m(frame, name, con, schema, if_exists, index, index_label, chunksize, dtype, method, engine, **engine_kwargs)\u001b[0m\n\u001b[0;32m    837\u001b[0m     \u001b[38;5;28;01mraise\u001b[39;00m \u001b[38;5;167;01mNotImplementedError\u001b[39;00m(\n\u001b[0;32m    838\u001b[0m         \u001b[38;5;124m\"\u001b[39m\u001b[38;5;124m'\u001b[39m\u001b[38;5;124mframe\u001b[39m\u001b[38;5;124m'\u001b[39m\u001b[38;5;124m argument should be either a Series or a DataFrame\u001b[39m\u001b[38;5;124m\"\u001b[39m\n\u001b[0;32m    839\u001b[0m     )\n\u001b[0;32m    841\u001b[0m \u001b[38;5;28;01mwith\u001b[39;00m pandasSQL_builder(con, schema\u001b[38;5;241m=\u001b[39mschema, need_transaction\u001b[38;5;241m=\u001b[39m\u001b[38;5;28;01mTrue\u001b[39;00m) \u001b[38;5;28;01mas\u001b[39;00m pandas_sql:\n\u001b[1;32m--> 842\u001b[0m     \u001b[38;5;28;01mreturn\u001b[39;00m \u001b[43mpandas_sql\u001b[49m\u001b[38;5;241;43m.\u001b[39;49m\u001b[43mto_sql\u001b[49m\u001b[43m(\u001b[49m\n\u001b[0;32m    843\u001b[0m \u001b[43m        \u001b[49m\u001b[43mframe\u001b[49m\u001b[43m,\u001b[49m\n\u001b[0;32m    844\u001b[0m \u001b[43m        \u001b[49m\u001b[43mname\u001b[49m\u001b[43m,\u001b[49m\n\u001b[0;32m    845\u001b[0m \u001b[43m        \u001b[49m\u001b[43mif_exists\u001b[49m\u001b[38;5;241;43m=\u001b[39;49m\u001b[43mif_exists\u001b[49m\u001b[43m,\u001b[49m\n\u001b[0;32m    846\u001b[0m \u001b[43m        \u001b[49m\u001b[43mindex\u001b[49m\u001b[38;5;241;43m=\u001b[39;49m\u001b[43mindex\u001b[49m\u001b[43m,\u001b[49m\n\u001b[0;32m    847\u001b[0m \u001b[43m        \u001b[49m\u001b[43mindex_label\u001b[49m\u001b[38;5;241;43m=\u001b[39;49m\u001b[43mindex_label\u001b[49m\u001b[43m,\u001b[49m\n\u001b[0;32m    848\u001b[0m \u001b[43m        \u001b[49m\u001b[43mschema\u001b[49m\u001b[38;5;241;43m=\u001b[39;49m\u001b[43mschema\u001b[49m\u001b[43m,\u001b[49m\n\u001b[0;32m    849\u001b[0m \u001b[43m        \u001b[49m\u001b[43mchunksize\u001b[49m\u001b[38;5;241;43m=\u001b[39;49m\u001b[43mchunksize\u001b[49m\u001b[43m,\u001b[49m\n\u001b[0;32m    850\u001b[0m \u001b[43m        \u001b[49m\u001b[43mdtype\u001b[49m\u001b[38;5;241;43m=\u001b[39;49m\u001b[43mdtype\u001b[49m\u001b[43m,\u001b[49m\n\u001b[0;32m    851\u001b[0m \u001b[43m        \u001b[49m\u001b[43mmethod\u001b[49m\u001b[38;5;241;43m=\u001b[39;49m\u001b[43mmethod\u001b[49m\u001b[43m,\u001b[49m\n\u001b[0;32m    852\u001b[0m \u001b[43m        \u001b[49m\u001b[43mengine\u001b[49m\u001b[38;5;241;43m=\u001b[39;49m\u001b[43mengine\u001b[49m\u001b[43m,\u001b[49m\n\u001b[0;32m    853\u001b[0m \u001b[43m        \u001b[49m\u001b[38;5;241;43m*\u001b[39;49m\u001b[38;5;241;43m*\u001b[39;49m\u001b[43mengine_kwargs\u001b[49m\u001b[43m,\u001b[49m\n\u001b[0;32m    854\u001b[0m \u001b[43m    \u001b[49m\u001b[43m)\u001b[49m\n",
      "File \u001b[1;32mc:\\Users\\paulinkenbrandt\\.conda\\envs\\py313\\Lib\\site-packages\\pandas\\io\\sql.py:2018\u001b[0m, in \u001b[0;36mSQLDatabase.to_sql\u001b[1;34m(self, frame, name, if_exists, index, index_label, schema, chunksize, dtype, method, engine, **engine_kwargs)\u001b[0m\n\u001b[0;32m   2006\u001b[0m sql_engine \u001b[38;5;241m=\u001b[39m get_engine(engine)\n\u001b[0;32m   2008\u001b[0m table \u001b[38;5;241m=\u001b[39m \u001b[38;5;28mself\u001b[39m\u001b[38;5;241m.\u001b[39mprep_table(\n\u001b[0;32m   2009\u001b[0m     frame\u001b[38;5;241m=\u001b[39mframe,\n\u001b[0;32m   2010\u001b[0m     name\u001b[38;5;241m=\u001b[39mname,\n\u001b[1;32m   (...)\u001b[0m\n\u001b[0;32m   2015\u001b[0m     dtype\u001b[38;5;241m=\u001b[39mdtype,\n\u001b[0;32m   2016\u001b[0m )\n\u001b[1;32m-> 2018\u001b[0m total_inserted \u001b[38;5;241m=\u001b[39m \u001b[43msql_engine\u001b[49m\u001b[38;5;241;43m.\u001b[39;49m\u001b[43minsert_records\u001b[49m\u001b[43m(\u001b[49m\n\u001b[0;32m   2019\u001b[0m \u001b[43m    \u001b[49m\u001b[43mtable\u001b[49m\u001b[38;5;241;43m=\u001b[39;49m\u001b[43mtable\u001b[49m\u001b[43m,\u001b[49m\n\u001b[0;32m   2020\u001b[0m \u001b[43m    \u001b[49m\u001b[43mcon\u001b[49m\u001b[38;5;241;43m=\u001b[39;49m\u001b[38;5;28;43mself\u001b[39;49m\u001b[38;5;241;43m.\u001b[39;49m\u001b[43mcon\u001b[49m\u001b[43m,\u001b[49m\n\u001b[0;32m   2021\u001b[0m \u001b[43m    \u001b[49m\u001b[43mframe\u001b[49m\u001b[38;5;241;43m=\u001b[39;49m\u001b[43mframe\u001b[49m\u001b[43m,\u001b[49m\n\u001b[0;32m   2022\u001b[0m \u001b[43m    \u001b[49m\u001b[43mname\u001b[49m\u001b[38;5;241;43m=\u001b[39;49m\u001b[43mname\u001b[49m\u001b[43m,\u001b[49m\n\u001b[0;32m   2023\u001b[0m \u001b[43m    \u001b[49m\u001b[43mindex\u001b[49m\u001b[38;5;241;43m=\u001b[39;49m\u001b[43mindex\u001b[49m\u001b[43m,\u001b[49m\n\u001b[0;32m   2024\u001b[0m \u001b[43m    \u001b[49m\u001b[43mschema\u001b[49m\u001b[38;5;241;43m=\u001b[39;49m\u001b[43mschema\u001b[49m\u001b[43m,\u001b[49m\n\u001b[0;32m   2025\u001b[0m \u001b[43m    \u001b[49m\u001b[43mchunksize\u001b[49m\u001b[38;5;241;43m=\u001b[39;49m\u001b[43mchunksize\u001b[49m\u001b[43m,\u001b[49m\n\u001b[0;32m   2026\u001b[0m \u001b[43m    \u001b[49m\u001b[43mmethod\u001b[49m\u001b[38;5;241;43m=\u001b[39;49m\u001b[43mmethod\u001b[49m\u001b[43m,\u001b[49m\n\u001b[0;32m   2027\u001b[0m \u001b[43m    \u001b[49m\u001b[38;5;241;43m*\u001b[39;49m\u001b[38;5;241;43m*\u001b[39;49m\u001b[43mengine_kwargs\u001b[49m\u001b[43m,\u001b[49m\n\u001b[0;32m   2028\u001b[0m \u001b[43m\u001b[49m\u001b[43m)\u001b[49m\n\u001b[0;32m   2030\u001b[0m \u001b[38;5;28mself\u001b[39m\u001b[38;5;241m.\u001b[39mcheck_case_sensitive(name\u001b[38;5;241m=\u001b[39mname, schema\u001b[38;5;241m=\u001b[39mschema)\n\u001b[0;32m   2031\u001b[0m \u001b[38;5;28;01mreturn\u001b[39;00m total_inserted\n",
      "File \u001b[1;32mc:\\Users\\paulinkenbrandt\\.conda\\envs\\py313\\Lib\\site-packages\\pandas\\io\\sql.py:1567\u001b[0m, in \u001b[0;36mSQLAlchemyEngine.insert_records\u001b[1;34m(self, table, con, frame, name, index, schema, chunksize, method, **engine_kwargs)\u001b[0m\n\u001b[0;32m   1565\u001b[0m \u001b[38;5;28;01mif\u001b[39;00m re\u001b[38;5;241m.\u001b[39msearch(msg, err_text):\n\u001b[0;32m   1566\u001b[0m     \u001b[38;5;28;01mraise\u001b[39;00m \u001b[38;5;167;01mValueError\u001b[39;00m(\u001b[38;5;124m\"\u001b[39m\u001b[38;5;124minf cannot be used with MySQL\u001b[39m\u001b[38;5;124m\"\u001b[39m) \u001b[38;5;28;01mfrom\u001b[39;00m\u001b[38;5;250m \u001b[39m\u001b[38;5;21;01merr\u001b[39;00m\n\u001b[1;32m-> 1567\u001b[0m \u001b[38;5;28;01mraise\u001b[39;00m err\n",
      "File \u001b[1;32mc:\\Users\\paulinkenbrandt\\.conda\\envs\\py313\\Lib\\site-packages\\pandas\\io\\sql.py:1558\u001b[0m, in \u001b[0;36mSQLAlchemyEngine.insert_records\u001b[1;34m(self, table, con, frame, name, index, schema, chunksize, method, **engine_kwargs)\u001b[0m\n\u001b[0;32m   1555\u001b[0m \u001b[38;5;28;01mfrom\u001b[39;00m\u001b[38;5;250m \u001b[39m\u001b[38;5;21;01msqlalchemy\u001b[39;00m\u001b[38;5;250m \u001b[39m\u001b[38;5;28;01mimport\u001b[39;00m exc\n\u001b[0;32m   1557\u001b[0m \u001b[38;5;28;01mtry\u001b[39;00m:\n\u001b[1;32m-> 1558\u001b[0m     \u001b[38;5;28;01mreturn\u001b[39;00m \u001b[43mtable\u001b[49m\u001b[38;5;241;43m.\u001b[39;49m\u001b[43minsert\u001b[49m\u001b[43m(\u001b[49m\u001b[43mchunksize\u001b[49m\u001b[38;5;241;43m=\u001b[39;49m\u001b[43mchunksize\u001b[49m\u001b[43m,\u001b[49m\u001b[43m \u001b[49m\u001b[43mmethod\u001b[49m\u001b[38;5;241;43m=\u001b[39;49m\u001b[43mmethod\u001b[49m\u001b[43m)\u001b[49m\n\u001b[0;32m   1559\u001b[0m \u001b[38;5;28;01mexcept\u001b[39;00m exc\u001b[38;5;241m.\u001b[39mStatementError \u001b[38;5;28;01mas\u001b[39;00m err:\n\u001b[0;32m   1560\u001b[0m     \u001b[38;5;66;03m# GH34431\u001b[39;00m\n\u001b[0;32m   1561\u001b[0m     \u001b[38;5;66;03m# https://stackoverflow.com/a/67358288/6067848\u001b[39;00m\n\u001b[0;32m   1562\u001b[0m     msg \u001b[38;5;241m=\u001b[39m \u001b[38;5;124mr\u001b[39m\u001b[38;5;124m\"\"\"\u001b[39m\u001b[38;5;124m(\u001b[39m\u001b[38;5;124m\\\u001b[39m\u001b[38;5;124m(1054, \u001b[39m\u001b[38;5;124m\"\u001b[39m\u001b[38;5;124mUnknown column \u001b[39m\u001b[38;5;124m'\u001b[39m\u001b[38;5;124minf(e0)?\u001b[39m\u001b[38;5;124m'\u001b[39m\u001b[38;5;124m in \u001b[39m\u001b[38;5;124m'\u001b[39m\u001b[38;5;124mfield list\u001b[39m\u001b[38;5;124m'\u001b[39m\u001b[38;5;124m\"\u001b[39m\u001b[38;5;124m\\\u001b[39m\u001b[38;5;124m))(?#\u001b[39m\n\u001b[0;32m   1563\u001b[0m \u001b[38;5;124m    )|inf can not be used with MySQL\u001b[39m\u001b[38;5;124m\"\"\"\u001b[39m\n",
      "File \u001b[1;32mc:\\Users\\paulinkenbrandt\\.conda\\envs\\py313\\Lib\\site-packages\\pandas\\io\\sql.py:1119\u001b[0m, in \u001b[0;36mSQLTable.insert\u001b[1;34m(self, chunksize, method)\u001b[0m\n\u001b[0;32m   1116\u001b[0m     \u001b[38;5;28;01mbreak\u001b[39;00m\n\u001b[0;32m   1118\u001b[0m chunk_iter \u001b[38;5;241m=\u001b[39m \u001b[38;5;28mzip\u001b[39m(\u001b[38;5;241m*\u001b[39m(arr[start_i:end_i] \u001b[38;5;28;01mfor\u001b[39;00m arr \u001b[38;5;129;01min\u001b[39;00m data_list))\n\u001b[1;32m-> 1119\u001b[0m num_inserted \u001b[38;5;241m=\u001b[39m \u001b[43mexec_insert\u001b[49m\u001b[43m(\u001b[49m\u001b[43mconn\u001b[49m\u001b[43m,\u001b[49m\u001b[43m \u001b[49m\u001b[43mkeys\u001b[49m\u001b[43m,\u001b[49m\u001b[43m \u001b[49m\u001b[43mchunk_iter\u001b[49m\u001b[43m)\u001b[49m\n\u001b[0;32m   1120\u001b[0m \u001b[38;5;66;03m# GH 46891\u001b[39;00m\n\u001b[0;32m   1121\u001b[0m \u001b[38;5;28;01mif\u001b[39;00m num_inserted \u001b[38;5;129;01mis\u001b[39;00m \u001b[38;5;129;01mnot\u001b[39;00m \u001b[38;5;28;01mNone\u001b[39;00m:\n",
      "File \u001b[1;32mc:\\Users\\paulinkenbrandt\\.conda\\envs\\py313\\Lib\\site-packages\\pandas\\io\\sql.py:1010\u001b[0m, in \u001b[0;36mSQLTable._execute_insert\u001b[1;34m(self, conn, keys, data_iter)\u001b[0m\n\u001b[0;32m    998\u001b[0m \u001b[38;5;250m\u001b[39m\u001b[38;5;124;03m\"\"\"\u001b[39;00m\n\u001b[0;32m    999\u001b[0m \u001b[38;5;124;03mExecute SQL statement inserting data\u001b[39;00m\n\u001b[0;32m   1000\u001b[0m \n\u001b[1;32m   (...)\u001b[0m\n\u001b[0;32m   1007\u001b[0m \u001b[38;5;124;03m   Each item contains a list of values to be inserted\u001b[39;00m\n\u001b[0;32m   1008\u001b[0m \u001b[38;5;124;03m\"\"\"\u001b[39;00m\n\u001b[0;32m   1009\u001b[0m data \u001b[38;5;241m=\u001b[39m [\u001b[38;5;28mdict\u001b[39m(\u001b[38;5;28mzip\u001b[39m(keys, row)) \u001b[38;5;28;01mfor\u001b[39;00m row \u001b[38;5;129;01min\u001b[39;00m data_iter]\n\u001b[1;32m-> 1010\u001b[0m result \u001b[38;5;241m=\u001b[39m \u001b[43mconn\u001b[49m\u001b[38;5;241;43m.\u001b[39;49m\u001b[43mexecute\u001b[49m\u001b[43m(\u001b[49m\u001b[38;5;28;43mself\u001b[39;49m\u001b[38;5;241;43m.\u001b[39;49m\u001b[43mtable\u001b[49m\u001b[38;5;241;43m.\u001b[39;49m\u001b[43minsert\u001b[49m\u001b[43m(\u001b[49m\u001b[43m)\u001b[49m\u001b[43m,\u001b[49m\u001b[43m \u001b[49m\u001b[43mdata\u001b[49m\u001b[43m)\u001b[49m\n\u001b[0;32m   1011\u001b[0m \u001b[38;5;28;01mreturn\u001b[39;00m result\u001b[38;5;241m.\u001b[39mrowcount\n",
      "File \u001b[1;32mc:\\Users\\paulinkenbrandt\\.conda\\envs\\py313\\Lib\\site-packages\\sqlalchemy\\engine\\base.py:1416\u001b[0m, in \u001b[0;36mConnection.execute\u001b[1;34m(self, statement, parameters, execution_options)\u001b[0m\n\u001b[0;32m   1414\u001b[0m     \u001b[38;5;28;01mraise\u001b[39;00m exc\u001b[38;5;241m.\u001b[39mObjectNotExecutableError(statement) \u001b[38;5;28;01mfrom\u001b[39;00m\u001b[38;5;250m \u001b[39m\u001b[38;5;21;01merr\u001b[39;00m\n\u001b[0;32m   1415\u001b[0m \u001b[38;5;28;01melse\u001b[39;00m:\n\u001b[1;32m-> 1416\u001b[0m     \u001b[38;5;28;01mreturn\u001b[39;00m \u001b[43mmeth\u001b[49m\u001b[43m(\u001b[49m\n\u001b[0;32m   1417\u001b[0m \u001b[43m        \u001b[49m\u001b[38;5;28;43mself\u001b[39;49m\u001b[43m,\u001b[49m\n\u001b[0;32m   1418\u001b[0m \u001b[43m        \u001b[49m\u001b[43mdistilled_parameters\u001b[49m\u001b[43m,\u001b[49m\n\u001b[0;32m   1419\u001b[0m \u001b[43m        \u001b[49m\u001b[43mexecution_options\u001b[49m\u001b[43m \u001b[49m\u001b[38;5;129;43;01mor\u001b[39;49;00m\u001b[43m \u001b[49m\u001b[43mNO_OPTIONS\u001b[49m\u001b[43m,\u001b[49m\n\u001b[0;32m   1420\u001b[0m \u001b[43m    \u001b[49m\u001b[43m)\u001b[49m\n",
      "File \u001b[1;32mc:\\Users\\paulinkenbrandt\\.conda\\envs\\py313\\Lib\\site-packages\\sqlalchemy\\sql\\elements.py:515\u001b[0m, in \u001b[0;36mClauseElement._execute_on_connection\u001b[1;34m(self, connection, distilled_params, execution_options)\u001b[0m\n\u001b[0;32m    513\u001b[0m     \u001b[38;5;28;01mif\u001b[39;00m TYPE_CHECKING:\n\u001b[0;32m    514\u001b[0m         \u001b[38;5;28;01massert\u001b[39;00m \u001b[38;5;28misinstance\u001b[39m(\u001b[38;5;28mself\u001b[39m, Executable)\n\u001b[1;32m--> 515\u001b[0m     \u001b[38;5;28;01mreturn\u001b[39;00m \u001b[43mconnection\u001b[49m\u001b[38;5;241;43m.\u001b[39;49m\u001b[43m_execute_clauseelement\u001b[49m\u001b[43m(\u001b[49m\n\u001b[0;32m    516\u001b[0m \u001b[43m        \u001b[49m\u001b[38;5;28;43mself\u001b[39;49m\u001b[43m,\u001b[49m\u001b[43m \u001b[49m\u001b[43mdistilled_params\u001b[49m\u001b[43m,\u001b[49m\u001b[43m \u001b[49m\u001b[43mexecution_options\u001b[49m\n\u001b[0;32m    517\u001b[0m \u001b[43m    \u001b[49m\u001b[43m)\u001b[49m\n\u001b[0;32m    518\u001b[0m \u001b[38;5;28;01melse\u001b[39;00m:\n\u001b[0;32m    519\u001b[0m     \u001b[38;5;28;01mraise\u001b[39;00m exc\u001b[38;5;241m.\u001b[39mObjectNotExecutableError(\u001b[38;5;28mself\u001b[39m)\n",
      "File \u001b[1;32mc:\\Users\\paulinkenbrandt\\.conda\\envs\\py313\\Lib\\site-packages\\sqlalchemy\\engine\\base.py:1638\u001b[0m, in \u001b[0;36mConnection._execute_clauseelement\u001b[1;34m(self, elem, distilled_parameters, execution_options)\u001b[0m\n\u001b[0;32m   1626\u001b[0m compiled_cache: Optional[CompiledCacheType] \u001b[38;5;241m=\u001b[39m execution_options\u001b[38;5;241m.\u001b[39mget(\n\u001b[0;32m   1627\u001b[0m     \u001b[38;5;124m\"\u001b[39m\u001b[38;5;124mcompiled_cache\u001b[39m\u001b[38;5;124m\"\u001b[39m, \u001b[38;5;28mself\u001b[39m\u001b[38;5;241m.\u001b[39mengine\u001b[38;5;241m.\u001b[39m_compiled_cache\n\u001b[0;32m   1628\u001b[0m )\n\u001b[0;32m   1630\u001b[0m compiled_sql, extracted_params, cache_hit \u001b[38;5;241m=\u001b[39m elem\u001b[38;5;241m.\u001b[39m_compile_w_cache(\n\u001b[0;32m   1631\u001b[0m     dialect\u001b[38;5;241m=\u001b[39mdialect,\n\u001b[0;32m   1632\u001b[0m     compiled_cache\u001b[38;5;241m=\u001b[39mcompiled_cache,\n\u001b[1;32m   (...)\u001b[0m\n\u001b[0;32m   1636\u001b[0m     linting\u001b[38;5;241m=\u001b[39m\u001b[38;5;28mself\u001b[39m\u001b[38;5;241m.\u001b[39mdialect\u001b[38;5;241m.\u001b[39mcompiler_linting \u001b[38;5;241m|\u001b[39m compiler\u001b[38;5;241m.\u001b[39mWARN_LINTING,\n\u001b[0;32m   1637\u001b[0m )\n\u001b[1;32m-> 1638\u001b[0m ret \u001b[38;5;241m=\u001b[39m \u001b[38;5;28;43mself\u001b[39;49m\u001b[38;5;241;43m.\u001b[39;49m\u001b[43m_execute_context\u001b[49m\u001b[43m(\u001b[49m\n\u001b[0;32m   1639\u001b[0m \u001b[43m    \u001b[49m\u001b[43mdialect\u001b[49m\u001b[43m,\u001b[49m\n\u001b[0;32m   1640\u001b[0m \u001b[43m    \u001b[49m\u001b[43mdialect\u001b[49m\u001b[38;5;241;43m.\u001b[39;49m\u001b[43mexecution_ctx_cls\u001b[49m\u001b[38;5;241;43m.\u001b[39;49m\u001b[43m_init_compiled\u001b[49m\u001b[43m,\u001b[49m\n\u001b[0;32m   1641\u001b[0m \u001b[43m    \u001b[49m\u001b[43mcompiled_sql\u001b[49m\u001b[43m,\u001b[49m\n\u001b[0;32m   1642\u001b[0m \u001b[43m    \u001b[49m\u001b[43mdistilled_parameters\u001b[49m\u001b[43m,\u001b[49m\n\u001b[0;32m   1643\u001b[0m \u001b[43m    \u001b[49m\u001b[43mexecution_options\u001b[49m\u001b[43m,\u001b[49m\n\u001b[0;32m   1644\u001b[0m \u001b[43m    \u001b[49m\u001b[43mcompiled_sql\u001b[49m\u001b[43m,\u001b[49m\n\u001b[0;32m   1645\u001b[0m \u001b[43m    \u001b[49m\u001b[43mdistilled_parameters\u001b[49m\u001b[43m,\u001b[49m\n\u001b[0;32m   1646\u001b[0m \u001b[43m    \u001b[49m\u001b[43melem\u001b[49m\u001b[43m,\u001b[49m\n\u001b[0;32m   1647\u001b[0m \u001b[43m    \u001b[49m\u001b[43mextracted_params\u001b[49m\u001b[43m,\u001b[49m\n\u001b[0;32m   1648\u001b[0m \u001b[43m    \u001b[49m\u001b[43mcache_hit\u001b[49m\u001b[38;5;241;43m=\u001b[39;49m\u001b[43mcache_hit\u001b[49m\u001b[43m,\u001b[49m\n\u001b[0;32m   1649\u001b[0m \u001b[43m\u001b[49m\u001b[43m)\u001b[49m\n\u001b[0;32m   1650\u001b[0m \u001b[38;5;28;01mif\u001b[39;00m has_events:\n\u001b[0;32m   1651\u001b[0m     \u001b[38;5;28mself\u001b[39m\u001b[38;5;241m.\u001b[39mdispatch\u001b[38;5;241m.\u001b[39mafter_execute(\n\u001b[0;32m   1652\u001b[0m         \u001b[38;5;28mself\u001b[39m,\n\u001b[0;32m   1653\u001b[0m         elem,\n\u001b[1;32m   (...)\u001b[0m\n\u001b[0;32m   1657\u001b[0m         ret,\n\u001b[0;32m   1658\u001b[0m     )\n",
      "File \u001b[1;32mc:\\Users\\paulinkenbrandt\\.conda\\envs\\py313\\Lib\\site-packages\\sqlalchemy\\engine\\base.py:1841\u001b[0m, in \u001b[0;36mConnection._execute_context\u001b[1;34m(self, dialect, constructor, statement, parameters, execution_options, *args, **kw)\u001b[0m\n\u001b[0;32m   1838\u001b[0m context\u001b[38;5;241m.\u001b[39mpre_exec()\n\u001b[0;32m   1840\u001b[0m \u001b[38;5;28;01mif\u001b[39;00m context\u001b[38;5;241m.\u001b[39mexecute_style \u001b[38;5;129;01mis\u001b[39;00m ExecuteStyle\u001b[38;5;241m.\u001b[39mINSERTMANYVALUES:\n\u001b[1;32m-> 1841\u001b[0m     \u001b[38;5;28;01mreturn\u001b[39;00m \u001b[38;5;28;43mself\u001b[39;49m\u001b[38;5;241;43m.\u001b[39;49m\u001b[43m_exec_insertmany_context\u001b[49m\u001b[43m(\u001b[49m\u001b[43mdialect\u001b[49m\u001b[43m,\u001b[49m\u001b[43m \u001b[49m\u001b[43mcontext\u001b[49m\u001b[43m)\u001b[49m\n\u001b[0;32m   1842\u001b[0m \u001b[38;5;28;01melse\u001b[39;00m:\n\u001b[0;32m   1843\u001b[0m     \u001b[38;5;28;01mreturn\u001b[39;00m \u001b[38;5;28mself\u001b[39m\u001b[38;5;241m.\u001b[39m_exec_single_context(\n\u001b[0;32m   1844\u001b[0m         dialect, context, statement, parameters\n\u001b[0;32m   1845\u001b[0m     )\n",
      "File \u001b[1;32mc:\\Users\\paulinkenbrandt\\.conda\\envs\\py313\\Lib\\site-packages\\sqlalchemy\\engine\\base.py:2123\u001b[0m, in \u001b[0;36mConnection._exec_insertmany_context\u001b[1;34m(self, dialect, context)\u001b[0m\n\u001b[0;32m   2115\u001b[0m         dialect\u001b[38;5;241m.\u001b[39mdo_execute(\n\u001b[0;32m   2116\u001b[0m             cursor,\n\u001b[0;32m   2117\u001b[0m             sub_stmt,\n\u001b[0;32m   2118\u001b[0m             sub_params,\n\u001b[0;32m   2119\u001b[0m             context,\n\u001b[0;32m   2120\u001b[0m         )\n\u001b[0;32m   2122\u001b[0m \u001b[38;5;28;01mexcept\u001b[39;00m \u001b[38;5;167;01mBaseException\u001b[39;00m \u001b[38;5;28;01mas\u001b[39;00m e:\n\u001b[1;32m-> 2123\u001b[0m     \u001b[38;5;28;43mself\u001b[39;49m\u001b[38;5;241;43m.\u001b[39;49m\u001b[43m_handle_dbapi_exception\u001b[49m\u001b[43m(\u001b[49m\n\u001b[0;32m   2124\u001b[0m \u001b[43m        \u001b[49m\u001b[43me\u001b[49m\u001b[43m,\u001b[49m\n\u001b[0;32m   2125\u001b[0m \u001b[43m        \u001b[49m\u001b[43msql_util\u001b[49m\u001b[38;5;241;43m.\u001b[39;49m\u001b[43m_long_statement\u001b[49m\u001b[43m(\u001b[49m\u001b[43msub_stmt\u001b[49m\u001b[43m)\u001b[49m\u001b[43m,\u001b[49m\n\u001b[0;32m   2126\u001b[0m \u001b[43m        \u001b[49m\u001b[43msub_params\u001b[49m\u001b[43m,\u001b[49m\n\u001b[0;32m   2127\u001b[0m \u001b[43m        \u001b[49m\u001b[43mcursor\u001b[49m\u001b[43m,\u001b[49m\n\u001b[0;32m   2128\u001b[0m \u001b[43m        \u001b[49m\u001b[43mcontext\u001b[49m\u001b[43m,\u001b[49m\n\u001b[0;32m   2129\u001b[0m \u001b[43m        \u001b[49m\u001b[43mis_sub_exec\u001b[49m\u001b[38;5;241;43m=\u001b[39;49m\u001b[38;5;28;43;01mTrue\u001b[39;49;00m\u001b[43m,\u001b[49m\n\u001b[0;32m   2130\u001b[0m \u001b[43m    \u001b[49m\u001b[43m)\u001b[49m\n\u001b[0;32m   2132\u001b[0m \u001b[38;5;28;01mif\u001b[39;00m engine_events:\n\u001b[0;32m   2133\u001b[0m     \u001b[38;5;28mself\u001b[39m\u001b[38;5;241m.\u001b[39mdispatch\u001b[38;5;241m.\u001b[39mafter_cursor_execute(\n\u001b[0;32m   2134\u001b[0m         \u001b[38;5;28mself\u001b[39m,\n\u001b[0;32m   2135\u001b[0m         cursor,\n\u001b[1;32m   (...)\u001b[0m\n\u001b[0;32m   2139\u001b[0m         context\u001b[38;5;241m.\u001b[39mexecutemany,\n\u001b[0;32m   2140\u001b[0m     )\n",
      "File \u001b[1;32mc:\\Users\\paulinkenbrandt\\.conda\\envs\\py313\\Lib\\site-packages\\sqlalchemy\\engine\\base.py:2352\u001b[0m, in \u001b[0;36mConnection._handle_dbapi_exception\u001b[1;34m(self, e, statement, parameters, cursor, context, is_sub_exec)\u001b[0m\n\u001b[0;32m   2350\u001b[0m \u001b[38;5;28;01melif\u001b[39;00m should_wrap:\n\u001b[0;32m   2351\u001b[0m     \u001b[38;5;28;01massert\u001b[39;00m sqlalchemy_exception \u001b[38;5;129;01mis\u001b[39;00m \u001b[38;5;129;01mnot\u001b[39;00m \u001b[38;5;28;01mNone\u001b[39;00m\n\u001b[1;32m-> 2352\u001b[0m     \u001b[38;5;28;01mraise\u001b[39;00m sqlalchemy_exception\u001b[38;5;241m.\u001b[39mwith_traceback(exc_info[\u001b[38;5;241m2\u001b[39m]) \u001b[38;5;28;01mfrom\u001b[39;00m\u001b[38;5;250m \u001b[39m\u001b[38;5;21;01me\u001b[39;00m\n\u001b[0;32m   2353\u001b[0m \u001b[38;5;28;01melse\u001b[39;00m:\n\u001b[0;32m   2354\u001b[0m     \u001b[38;5;28;01massert\u001b[39;00m exc_info[\u001b[38;5;241m1\u001b[39m] \u001b[38;5;129;01mis\u001b[39;00m \u001b[38;5;129;01mnot\u001b[39;00m \u001b[38;5;28;01mNone\u001b[39;00m\n",
      "File \u001b[1;32mc:\\Users\\paulinkenbrandt\\.conda\\envs\\py313\\Lib\\site-packages\\sqlalchemy\\engine\\base.py:2115\u001b[0m, in \u001b[0;36mConnection._exec_insertmany_context\u001b[1;34m(self, dialect, context)\u001b[0m\n\u001b[0;32m   2113\u001b[0m             \u001b[38;5;28;01mbreak\u001b[39;00m\n\u001b[0;32m   2114\u001b[0m     \u001b[38;5;28;01melse\u001b[39;00m:\n\u001b[1;32m-> 2115\u001b[0m         \u001b[43mdialect\u001b[49m\u001b[38;5;241;43m.\u001b[39;49m\u001b[43mdo_execute\u001b[49m\u001b[43m(\u001b[49m\n\u001b[0;32m   2116\u001b[0m \u001b[43m            \u001b[49m\u001b[43mcursor\u001b[49m\u001b[43m,\u001b[49m\n\u001b[0;32m   2117\u001b[0m \u001b[43m            \u001b[49m\u001b[43msub_stmt\u001b[49m\u001b[43m,\u001b[49m\n\u001b[0;32m   2118\u001b[0m \u001b[43m            \u001b[49m\u001b[43msub_params\u001b[49m\u001b[43m,\u001b[49m\n\u001b[0;32m   2119\u001b[0m \u001b[43m            \u001b[49m\u001b[43mcontext\u001b[49m\u001b[43m,\u001b[49m\n\u001b[0;32m   2120\u001b[0m \u001b[43m        \u001b[49m\u001b[43m)\u001b[49m\n\u001b[0;32m   2122\u001b[0m \u001b[38;5;28;01mexcept\u001b[39;00m \u001b[38;5;167;01mBaseException\u001b[39;00m \u001b[38;5;28;01mas\u001b[39;00m e:\n\u001b[0;32m   2123\u001b[0m     \u001b[38;5;28mself\u001b[39m\u001b[38;5;241m.\u001b[39m_handle_dbapi_exception(\n\u001b[0;32m   2124\u001b[0m         e,\n\u001b[0;32m   2125\u001b[0m         sql_util\u001b[38;5;241m.\u001b[39m_long_statement(sub_stmt),\n\u001b[1;32m   (...)\u001b[0m\n\u001b[0;32m   2129\u001b[0m         is_sub_exec\u001b[38;5;241m=\u001b[39m\u001b[38;5;28;01mTrue\u001b[39;00m,\n\u001b[0;32m   2130\u001b[0m     )\n",
      "File \u001b[1;32mc:\\Users\\paulinkenbrandt\\.conda\\envs\\py313\\Lib\\site-packages\\sqlalchemy\\engine\\default.py:942\u001b[0m, in \u001b[0;36mDefaultDialect.do_execute\u001b[1;34m(self, cursor, statement, parameters, context)\u001b[0m\n\u001b[0;32m    941\u001b[0m \u001b[38;5;28;01mdef\u001b[39;00m\u001b[38;5;250m \u001b[39m\u001b[38;5;21mdo_execute\u001b[39m(\u001b[38;5;28mself\u001b[39m, cursor, statement, parameters, context\u001b[38;5;241m=\u001b[39m\u001b[38;5;28;01mNone\u001b[39;00m):\n\u001b[1;32m--> 942\u001b[0m     \u001b[43mcursor\u001b[49m\u001b[38;5;241;43m.\u001b[39;49m\u001b[43mexecute\u001b[49m\u001b[43m(\u001b[49m\u001b[43mstatement\u001b[49m\u001b[43m,\u001b[49m\u001b[43m \u001b[49m\u001b[43mparameters\u001b[49m\u001b[43m)\u001b[49m\n",
      "\u001b[1;31mProgrammingError\u001b[0m: (psycopg2.errors.UndefinedColumn) column \"vwc_3_1_1\" of relation \"amfluxmet\" does not exist\nLINE 1: ..., lw_in, lw_out, t_canopy, t_si111_body, ppfd_in, vwc_3_1_1,...\n                                                             ^\n\n[SQL: INSERT INTO amfluxmet (timestamp_start, timestamp_end, alb, netrad, sw_in, sw_out, lw_in, lw_out, t_canopy, t_si111_body, ppfd_in, vwc_3_1_1, ka_3_1_1, bulkec_3_1_1, vwc_3_2_1, ka_3_2_1, bulkec_3_2_1, vwc_3_3_1, ka_3_3_1, bulkec_3_3_1, vwc_3_4_1, ka_ ... 2848 characters truncated ... lwmwet_1_1_1__2)s, %(lwmv_1_1_2__2)s, %(lwmdry_1_1_2__2)s, %(lwmcon_1_1_2__2)s, %(lwmwet_1_1_2__2)s)]\n[parameters: {'ka_3_9_1__0': -9999.0, 'vwc_3_1_1__0': -9999.0, 'sw_out__0': -9999.0, 'ka_3_8_1__0': -9999.0, 'vwc_3_9_1__0': -9999.0, 'bulkec_3_7_1__0': -9999.0, 'lwmv_1_1_2__0': -9999.0, 'lw_out__0': -9999.0, 'ka_3_2_1__0': -9999.0, 'vwc_3_5_1__0': -9999.0, 'ka_3_6_1__0': -9999.0, 'vwc_3_4_1__0': -9999.0, 'ka_3_4_1__0': -9999.0, 'lwmdry_1_1_1__0': -9999.0, 'bulkec_3_1_1__0': -9999.0, 'vwc_3_7_1__0': -9999.0, 'bulkec_3_5_1__0': -9999.0, 'vwc_3_2_1__0': -9999.0, 'bulkec_3_3_1__0': -9999.0, 'timestamp_start__0': 202502061630, 'bulkec_3_6_1__0': -9999.0, 'vwc_3_3_1__0': -9999.0, 'vwc_3_6_1__0': -9999.0, 'vwc_3_8_1__0': -9999.0, 'lwmcon_1_1_2__0': -9999.0, 'ws__0': -9999.0, 'netrad__0': -9999.0, 'timestamp_end__0': 202502061700, 'ka_3_1_1__0': -9999.0, 'sw_in__0': -9999.0, 'bulkec_3_4_1__0': -9999.0, 'bulkec_3_9_1__0': -9999.0, 'wd__0': -9999.0, 'lwmwet_1_1_2__0': -9999.0, 'lw_in__0': -9999.0, 'lwmv_1_1_1__0': -9999.0, 't_si111_body__0': -9999.0, 'ppfd_in__0': -9999.0, 'lwmcon_1_1_1__0': -9999.0, 'lwmdry_1_1_2__0': -9999.0, 'bulkec_3_2_1__0': -9999.0, 'alb__0': -9999.0, 't_canopy__0': -9999.0, 'ka_3_7_1__0': -9999.0, 'ka_3_3_1__0': -9999.0, 'ka_3_5_1__0': -9999.0, 'lwmwet_1_1_1__0': -9999.0, 'bulkec_3_8_1__0': -9999.0, 'ka_3_9_1__1': -9999.0, 'vwc_3_1_1__1': -9999.0 ... 44 parameters truncated ... 'lwmwet_1_1_1__1': -9999.0, 'bulkec_3_8_1__1': -9999.0, 'ka_3_9_1__2': -9999.0, 'vwc_3_1_1__2': -9999.0, 'sw_out__2': -9999.0, 'ka_3_8_1__2': -9999.0, 'vwc_3_9_1__2': -9999.0, 'bulkec_3_7_1__2': -9999.0, 'lwmv_1_1_2__2': -9999.0, 'lw_out__2': -9999.0, 'ka_3_2_1__2': -9999.0, 'vwc_3_5_1__2': -9999.0, 'ka_3_6_1__2': -9999.0, 'vwc_3_4_1__2': -9999.0, 'ka_3_4_1__2': -9999.0, 'lwmdry_1_1_1__2': -9999.0, 'bulkec_3_1_1__2': -9999.0, 'vwc_3_7_1__2': -9999.0, 'bulkec_3_5_1__2': -9999.0, 'vwc_3_2_1__2': -9999.0, 'bulkec_3_3_1__2': -9999.0, 'timestamp_start__2': 202502061730, 'bulkec_3_6_1__2': -9999.0, 'vwc_3_3_1__2': -9999.0, 'vwc_3_6_1__2': -9999.0, 'vwc_3_8_1__2': -9999.0, 'lwmcon_1_1_2__2': -9999.0, 'ws__2': -9999.0, 'netrad__2': -9999.0, 'timestamp_end__2': 202502061800, 'ka_3_1_1__2': -9999.0, 'sw_in__2': -9999.0, 'bulkec_3_4_1__2': -9999.0, 'bulkec_3_9_1__2': -9999.0, 'wd__2': -9999.0, 'lwmwet_1_1_2__2': -9999.0, 'lw_in__2': -9999.0, 'lwmv_1_1_1__2': -9999.0, 't_si111_body__2': -9999.0, 'ppfd_in__2': -9999.0, 'lwmcon_1_1_1__2': -9999.0, 'lwmdry_1_1_2__2': -9999.0, 'bulkec_3_2_1__2': -9999.0, 'alb__2': -9999.0, 't_canopy__2': -9999.0, 'ka_3_7_1__2': -9999.0, 'ka_3_3_1__2': -9999.0, 'ka_3_5_1__2': -9999.0, 'lwmwet_1_1_1__2': -9999.0, 'bulkec_3_8_1__2': -9999.0}]\n(Background on this error at: https://sqlalche.me/e/20/f405)"
     ]
    }
   ],
   "source": [
    "\n",
    "\n",
    "# Process data for all stations\n",
    "site_folders = {#'US-UTD':'Dugout_Ranch',\n",
    "                'US-UTB':'BSF',\n",
    "                'US-UTJ':'Bluff',\n",
    "                'US-UTW':'Wellington',\n",
    "                'US-UTE':'Escalante',\n",
    "                'US-UTM':'Matheson',\n",
    "                'US-UTP':'Phrag',\n",
    "                'US-CdM':'Cedar_Mesa',\n",
    "                'US-UTV':'Desert_View_Myton',\n",
    "                'US-UTL':'Pelican_Lake',\n",
    "                }\n",
    "manager.process_station_data(site_folders)"
   ]
  },
  {
   "cell_type": "markdown",
   "id": "56bf49c8c07a501",
   "metadata": {},
   "source": [
    "# Pull From Each Datalogger Using the CS Datalogger API"
   ]
  },
  {
   "cell_type": "markdown",
   "id": "520cd4b8dbf07fd0",
   "metadata": {},
   "source": [
    "https://help.campbellsci.com/crbasic/cr1000x/Content/Info/webserverapicommands1.htm"
   ]
  },
  {
   "cell_type": "code",
   "execution_count": 6,
   "id": "400ff0d02bb95c01",
   "metadata": {
    "ExecuteTime": {
     "end_time": "2025-01-26T17:30:45.360448Z",
     "start_time": "2025-01-26T17:29:35.496574Z"
    }
   },
   "outputs": [
    {
     "name": "stdout",
     "output_type": "stream",
     "text": [
      "80\n",
      "Column 'timestamp_end' found in DataFrame, trying lowercase\n",
      "eddy\n",
      "Station UTJ\n",
      "Mindate 202501191000  Maxdate 202501191000\n",
      "data size = 0.18739899999999998\n",
      "336 vs 336 rows\n",
      "38000\n",
      "Error: 404\n",
      "met\n",
      "Station UTJ\n",
      "Mindate None  Maxdate None\n",
      "data size = None\n",
      "None vs None rows\n",
      "80\n"
     ]
    },
    {
     "name": "stderr",
     "output_type": "stream",
     "text": [
      "C:\\Users\\paulinkenbrandt\\Documents\\GitHub\\MicroMet\\micromet\\converter.py:778: FutureWarning: DataFrame.interpolate with object dtype is deprecated and will raise in a future version. Call obj.infer_objects(copy=False) before interpolating instead.\n",
      "  .interpolate(method=\"linear\", limit=1)  # Fill up to 30-minute gaps\n"
     ]
    },
    {
     "name": "stdout",
     "output_type": "stream",
     "text": [
      "Column 'timestamp_end' found in DataFrame, trying lowercase\n",
      "eddy\n",
      "Station UTW\n",
      "Mindate 202501191000  Maxdate 202501191000\n",
      "data size = 0.17726\n",
      "336 vs 336 rows\n",
      "8080\n"
     ]
    },
    {
     "name": "stderr",
     "output_type": "stream",
     "text": [
      "C:\\Users\\paulinkenbrandt\\Documents\\GitHub\\MicroMet\\micromet\\converter.py:778: FutureWarning: DataFrame.interpolate with object dtype is deprecated and will raise in a future version. Call obj.infer_objects(copy=False) before interpolating instead.\n",
      "  .interpolate(method=\"linear\", limit=1)  # Fill up to 30-minute gaps\n"
     ]
    },
    {
     "name": "stdout",
     "output_type": "stream",
     "text": [
      "Column 'timestamp_end' found in DataFrame, trying lowercase\n",
      "met\n",
      "Station UTW\n",
      "Mindate 202410151400  Maxdate 202410151400\n",
      "data size = 2.430806\n",
      "4937 vs 4937 rows\n",
      "80\n"
     ]
    },
    {
     "name": "stderr",
     "output_type": "stream",
     "text": [
      "C:\\Users\\paulinkenbrandt\\Documents\\GitHub\\MicroMet\\micromet\\converter.py:778: FutureWarning: DataFrame.interpolate with object dtype is deprecated and will raise in a future version. Call obj.infer_objects(copy=False) before interpolating instead.\n",
      "  .interpolate(method=\"linear\", limit=1)  # Fill up to 30-minute gaps\n"
     ]
    },
    {
     "name": "stdout",
     "output_type": "stream",
     "text": [
      "Column 'timestamp_end' found in DataFrame, trying lowercase\n",
      "eddy\n",
      "Station UTE\n",
      "Mindate 202501191030  Maxdate 202501191030\n",
      "data size = 0.184688\n",
      "336 vs 336 rows\n",
      "8080\n"
     ]
    },
    {
     "name": "stderr",
     "output_type": "stream",
     "text": [
      "C:\\Users\\paulinkenbrandt\\Documents\\GitHub\\MicroMet\\micromet\\converter.py:778: FutureWarning: DataFrame.interpolate with object dtype is deprecated and will raise in a future version. Call obj.infer_objects(copy=False) before interpolating instead.\n",
      "  .interpolate(method=\"linear\", limit=1)  # Fill up to 30-minute gaps\n"
     ]
    },
    {
     "name": "stdout",
     "output_type": "stream",
     "text": [
      "Column 'timestamp_end' found in DataFrame, trying lowercase\n",
      "met\n",
      "Station UTE\n",
      "Mindate 202403120900  Maxdate 202403120900\n",
      "data size = 3.8540099999999997\n",
      "15354 vs 15354 rows\n",
      "80\n"
     ]
    },
    {
     "ename": "ValueError",
     "evalue": "cannot insert datetime_start, already exists",
     "output_type": "error",
     "traceback": [
      "\u001b[1;31m---------------------------------------------------------------------------\u001b[0m",
      "\u001b[1;31mValueError\u001b[0m                                Traceback (most recent call last)",
      "\u001b[1;32m~\\AppData\\Local\\Temp\\1\\ipykernel_27084\\2673486943.py\u001b[0m in \u001b[0;36m?\u001b[1;34m()\u001b[0m\n\u001b[0;32m      9\u001b[0m                 \u001b[1;34m'US-UTV'\u001b[0m\u001b[1;33m:\u001b[0m\u001b[1;34m'Desert_View_Myton'\u001b[0m\u001b[1;33m,\u001b[0m\u001b[1;33m\u001b[0m\u001b[1;33m\u001b[0m\u001b[0m\n\u001b[0;32m     10\u001b[0m                 \u001b[1;34m'US-UTL'\u001b[0m\u001b[1;33m:\u001b[0m\u001b[1;34m'Pelican_Lake'\u001b[0m\u001b[1;33m,\u001b[0m\u001b[1;33m\u001b[0m\u001b[1;33m\u001b[0m\u001b[0m\n\u001b[0;32m     11\u001b[0m                 \u001b[1;33m}\u001b[0m\u001b[1;33m\u001b[0m\u001b[1;33m\u001b[0m\u001b[0m\n\u001b[0;32m     12\u001b[0m \u001b[1;33m\u001b[0m\u001b[0m\n\u001b[1;32m---> 13\u001b[1;33m \u001b[0mmicromet\u001b[0m\u001b[1;33m.\u001b[0m\u001b[0mstat_dl_con_ul\u001b[0m\u001b[1;33m(\u001b[0m\u001b[0msite_folders\u001b[0m\u001b[1;33m,\u001b[0m\u001b[0mconfig\u001b[0m\u001b[1;33m,\u001b[0m \u001b[0mengine\u001b[0m\u001b[1;33m)\u001b[0m\u001b[1;33m\u001b[0m\u001b[1;33m\u001b[0m\u001b[0m\n\u001b[0m",
      "\u001b[1;32m~\\Documents\\GitHub\\MicroMet\\micromet\\station_data_pull.py\u001b[0m in \u001b[0;36m?\u001b[1;34m(site_folders, config, engine)\u001b[0m\n\u001b[0;32m    160\u001b[0m         \u001b[0mstation\u001b[0m \u001b[1;33m=\u001b[0m \u001b[0mstationid\u001b[0m\u001b[1;33m.\u001b[0m\u001b[0msplit\u001b[0m\u001b[1;33m(\u001b[0m\u001b[1;34m\"-\"\u001b[0m\u001b[1;33m)\u001b[0m\u001b[1;33m[\u001b[0m\u001b[1;33m-\u001b[0m\u001b[1;36m1\u001b[0m\u001b[1;33m]\u001b[0m\u001b[1;33m\u001b[0m\u001b[1;33m\u001b[0m\u001b[0m\n\u001b[0;32m    161\u001b[0m         \u001b[1;32mfor\u001b[0m \u001b[0mdat\u001b[0m \u001b[1;32min\u001b[0m \u001b[1;33m[\u001b[0m\u001b[1;34m\"eddy\"\u001b[0m\u001b[1;33m,\u001b[0m \u001b[1;34m\"met\"\u001b[0m\u001b[1;33m]\u001b[0m\u001b[1;33m:\u001b[0m\u001b[1;33m\u001b[0m\u001b[1;33m\u001b[0m\u001b[0m\n\u001b[0;32m    162\u001b[0m             \u001b[1;32mif\u001b[0m \u001b[0mdat\u001b[0m \u001b[1;32min\u001b[0m \u001b[0mconfig\u001b[0m\u001b[1;33m[\u001b[0m\u001b[0mstation\u001b[0m\u001b[1;33m]\u001b[0m\u001b[1;33m.\u001b[0m\u001b[0mkeys\u001b[0m\u001b[1;33m(\u001b[0m\u001b[1;33m)\u001b[0m\u001b[1;33m:\u001b[0m\u001b[1;33m\u001b[0m\u001b[1;33m\u001b[0m\u001b[0m\n\u001b[0;32m    163\u001b[0m                 \u001b[0mstationtime\u001b[0m\u001b[1;33m,\u001b[0m \u001b[0mcomptime\u001b[0m \u001b[1;33m=\u001b[0m \u001b[0mget_times\u001b[0m\u001b[1;33m(\u001b[0m\u001b[0mstation\u001b[0m\u001b[1;33m,\u001b[0m \u001b[0mconfig\u001b[0m\u001b[1;33m,\u001b[0m \u001b[0mloggertype\u001b[0m\u001b[1;33m=\u001b[0m\u001b[0mdat\u001b[0m\u001b[1;33m)\u001b[0m\u001b[1;33m\u001b[0m\u001b[1;33m\u001b[0m\u001b[0m\n\u001b[1;32m--> 164\u001b[1;33m                 \u001b[0mam_df\u001b[0m\u001b[1;33m,\u001b[0m \u001b[0mpack_size\u001b[0m \u001b[1;33m=\u001b[0m \u001b[0mget_station_data\u001b[0m\u001b[1;33m(\u001b[0m\u001b[0mstation\u001b[0m\u001b[1;33m,\u001b[0m \u001b[0mconfig\u001b[0m\u001b[1;33m,\u001b[0m \u001b[0mloggertype\u001b[0m\u001b[1;33m=\u001b[0m\u001b[0mdat\u001b[0m\u001b[1;33m)\u001b[0m\u001b[1;33m\u001b[0m\u001b[1;33m\u001b[0m\u001b[0m\n\u001b[0m\u001b[0;32m    165\u001b[0m \u001b[1;33m\u001b[0m\u001b[0m\n\u001b[0;32m    166\u001b[0m                 \u001b[1;32mif\u001b[0m \u001b[0mam_df\u001b[0m \u001b[1;32mis\u001b[0m \u001b[1;32mnot\u001b[0m \u001b[1;32mNone\u001b[0m\u001b[1;33m:\u001b[0m\u001b[1;33m\u001b[0m\u001b[1;33m\u001b[0m\u001b[0m\n\u001b[0;32m    167\u001b[0m                     am_df_filt = compare_sql_to_station(\n",
      "\u001b[1;32m~\\Documents\\GitHub\\MicroMet\\micromet\\station_data_pull.py\u001b[0m in \u001b[0;36m?\u001b[1;34m(station, config, reformat, loggertype)\u001b[0m\n\u001b[0;32m     73\u001b[0m         \u001b[0mpack_size\u001b[0m \u001b[1;33m=\u001b[0m \u001b[0mlen\u001b[0m\u001b[1;33m(\u001b[0m\u001b[0mresponse_1\u001b[0m\u001b[1;33m.\u001b[0m\u001b[0mcontent\u001b[0m\u001b[1;33m)\u001b[0m \u001b[1;33m*\u001b[0m \u001b[1;36m1e-6\u001b[0m\u001b[1;33m\u001b[0m\u001b[1;33m\u001b[0m\u001b[0m\n\u001b[0;32m     74\u001b[0m \u001b[1;33m\u001b[0m\u001b[0m\n\u001b[0;32m     75\u001b[0m         \u001b[1;32mif\u001b[0m \u001b[0mraw_data\u001b[0m \u001b[1;32mis\u001b[0m \u001b[1;32mnot\u001b[0m \u001b[1;32mNone\u001b[0m\u001b[1;33m:\u001b[0m\u001b[1;33m\u001b[0m\u001b[1;33m\u001b[0m\u001b[0m\n\u001b[0;32m     76\u001b[0m             \u001b[1;32mif\u001b[0m \u001b[0mreformat\u001b[0m \u001b[1;32mis\u001b[0m \u001b[1;32mTrue\u001b[0m\u001b[1;33m:\u001b[0m\u001b[1;33m\u001b[0m\u001b[1;33m\u001b[0m\u001b[0m\n\u001b[1;32m---> 77\u001b[1;33m                 \u001b[0mam_data\u001b[0m \u001b[1;33m=\u001b[0m \u001b[0mReformatter\u001b[0m\u001b[1;33m(\u001b[0m\u001b[0mraw_data\u001b[0m\u001b[1;33m)\u001b[0m\u001b[1;33m\u001b[0m\u001b[1;33m\u001b[0m\u001b[0m\n\u001b[0m\u001b[0;32m     78\u001b[0m                 \u001b[0mam_df\u001b[0m \u001b[1;33m=\u001b[0m \u001b[0mam_data\u001b[0m\u001b[1;33m.\u001b[0m\u001b[0met_data\u001b[0m\u001b[1;33m\u001b[0m\u001b[1;33m\u001b[0m\u001b[0m\n\u001b[0;32m     79\u001b[0m             \u001b[1;32melse\u001b[0m\u001b[1;33m:\u001b[0m\u001b[1;33m\u001b[0m\u001b[1;33m\u001b[0m\u001b[0m\n\u001b[0;32m     80\u001b[0m                 \u001b[0mam_df\u001b[0m \u001b[1;33m=\u001b[0m \u001b[0mraw_data\u001b[0m\u001b[1;33m\u001b[0m\u001b[1;33m\u001b[0m\u001b[0m\n",
      "\u001b[1;32m~\\Documents\\GitHub\\MicroMet\\micromet\\converter.py\u001b[0m in \u001b[0;36m?\u001b[1;34m(self, et_data, drop_soil, data_path, outlier_remove)\u001b[0m\n\u001b[0;32m    588\u001b[0m         \u001b[0mlogger\u001b[0m\u001b[1;33m.\u001b[0m\u001b[0mdebug\u001b[0m\u001b[1;33m(\u001b[0m\u001b[1;33mf\"\u001b[0m\u001b[1;33mET Data: \\n \u001b[0m\u001b[1;33m{\u001b[0m\u001b[0met_data\u001b[0m\u001b[1;33m.\u001b[0m\u001b[0mhead\u001b[0m\u001b[1;33m(\u001b[0m\u001b[1;36m5\u001b[0m\u001b[1;33m)\u001b[0m\u001b[1;33m}\u001b[0m\u001b[1;33m\"\u001b[0m\u001b[1;33m)\u001b[0m\u001b[1;33m\u001b[0m\u001b[1;33m\u001b[0m\u001b[0m\n\u001b[0;32m    589\u001b[0m         \u001b[0mlogger\u001b[0m\u001b[1;33m.\u001b[0m\u001b[0mdebug\u001b[0m\u001b[1;33m(\u001b[0m\u001b[1;33mf\"\u001b[0m\u001b[1;33mET Data: \\n \u001b[0m\u001b[1;33m{\u001b[0m\u001b[0met_data\u001b[0m\u001b[1;33m.\u001b[0m\u001b[0mtail\u001b[0m\u001b[1;33m(\u001b[0m\u001b[1;36m5\u001b[0m\u001b[1;33m)\u001b[0m\u001b[1;33m}\u001b[0m\u001b[1;33m\"\u001b[0m\u001b[1;33m)\u001b[0m\u001b[1;33m\u001b[0m\u001b[1;33m\u001b[0m\u001b[0m\n\u001b[0;32m    590\u001b[0m \u001b[1;33m\u001b[0m\u001b[0m\n\u001b[0;32m    591\u001b[0m         \u001b[1;31m# fix datetimes\u001b[0m\u001b[1;33m\u001b[0m\u001b[1;33m\u001b[0m\u001b[0m\n\u001b[1;32m--> 592\u001b[1;33m         \u001b[0mself\u001b[0m\u001b[1;33m.\u001b[0m\u001b[0met_data\u001b[0m \u001b[1;33m=\u001b[0m \u001b[0mself\u001b[0m\u001b[1;33m.\u001b[0m\u001b[0mdatefixer\u001b[0m\u001b[1;33m(\u001b[0m\u001b[0met_data\u001b[0m\u001b[1;33m)\u001b[0m\u001b[1;33m\u001b[0m\u001b[1;33m\u001b[0m\u001b[0m\n\u001b[0m\u001b[0;32m    593\u001b[0m \u001b[1;33m\u001b[0m\u001b[0m\n\u001b[0;32m    594\u001b[0m         \u001b[0mlogger\u001b[0m\u001b[1;33m.\u001b[0m\u001b[0mdebug\u001b[0m\u001b[1;33m(\u001b[0m\u001b[1;34m\"Corrected Datetimes:\"\u001b[0m\u001b[1;33m)\u001b[0m\u001b[1;33m\u001b[0m\u001b[1;33m\u001b[0m\u001b[0m\n\u001b[0;32m    595\u001b[0m         \u001b[0mlogger\u001b[0m\u001b[1;33m.\u001b[0m\u001b[0mdebug\u001b[0m\u001b[1;33m(\u001b[0m\u001b[1;33mf\"\u001b[0m\u001b[1;33m{\u001b[0m\u001b[0mself\u001b[0m\u001b[1;33m.\u001b[0m\u001b[0met_data\u001b[0m\u001b[1;33m.\u001b[0m\u001b[0mhead\u001b[0m\u001b[1;33m(\u001b[0m\u001b[1;36m5\u001b[0m\u001b[1;33m)\u001b[0m\u001b[1;33m}\u001b[0m\u001b[1;33m\"\u001b[0m\u001b[1;33m)\u001b[0m\u001b[1;33m\u001b[0m\u001b[1;33m\u001b[0m\u001b[0m\n",
      "\u001b[1;32m~\\Documents\\GitHub\\MicroMet\\micromet\\converter.py\u001b[0m in \u001b[0;36m?\u001b[1;34m(self, et_data)\u001b[0m\n\u001b[0;32m    779\u001b[0m         \u001b[1;33m)\u001b[0m\u001b[1;33m\u001b[0m\u001b[1;33m\u001b[0m\u001b[0m\n\u001b[0;32m    780\u001b[0m \u001b[1;33m\u001b[0m\u001b[0m\n\u001b[0;32m    781\u001b[0m         \u001b[1;31m# drop null index values\u001b[0m\u001b[1;33m\u001b[0m\u001b[1;33m\u001b[0m\u001b[0m\n\u001b[0;32m    782\u001b[0m         et_data = (\n\u001b[1;32m--> 783\u001b[1;33m             \u001b[0met_data\u001b[0m\u001b[1;33m.\u001b[0m\u001b[0mreset_index\u001b[0m\u001b[1;33m(\u001b[0m\u001b[1;33m)\u001b[0m\u001b[1;33m\u001b[0m\u001b[1;33m\u001b[0m\u001b[0m\n\u001b[0m\u001b[0;32m    784\u001b[0m             \u001b[1;33m.\u001b[0m\u001b[0mdropna\u001b[0m\u001b[1;33m(\u001b[0m\u001b[0msubset\u001b[0m\u001b[1;33m=\u001b[0m\u001b[1;33m[\u001b[0m\u001b[1;34m\"datetime_start\"\u001b[0m\u001b[1;33m]\u001b[0m\u001b[1;33m)\u001b[0m\u001b[1;33m\u001b[0m\u001b[1;33m\u001b[0m\u001b[0m\n\u001b[0;32m    785\u001b[0m             \u001b[1;33m.\u001b[0m\u001b[0mset_index\u001b[0m\u001b[1;33m(\u001b[0m\u001b[1;34m\"datetime_start\"\u001b[0m\u001b[1;33m)\u001b[0m\u001b[1;33m\u001b[0m\u001b[1;33m\u001b[0m\u001b[0m\n\u001b[0;32m    786\u001b[0m         \u001b[1;33m)\u001b[0m\u001b[1;33m\u001b[0m\u001b[1;33m\u001b[0m\u001b[0m\n",
      "\u001b[1;32m~\\Anaconda3\\envs\\pygis12\\Lib\\site-packages\\pandas\\core\\frame.py\u001b[0m in \u001b[0;36m?\u001b[1;34m(self, level, drop, inplace, col_level, col_fill, allow_duplicates, names)\u001b[0m\n\u001b[0;32m   6468\u001b[0m                     level_values = algorithms.take(\n\u001b[0;32m   6469\u001b[0m                         \u001b[0mlevel_values\u001b[0m\u001b[1;33m,\u001b[0m \u001b[0mlab\u001b[0m\u001b[1;33m,\u001b[0m \u001b[0mallow_fill\u001b[0m\u001b[1;33m=\u001b[0m\u001b[1;32mTrue\u001b[0m\u001b[1;33m,\u001b[0m \u001b[0mfill_value\u001b[0m\u001b[1;33m=\u001b[0m\u001b[0mlev\u001b[0m\u001b[1;33m.\u001b[0m\u001b[0m_na_value\u001b[0m\u001b[1;33m\u001b[0m\u001b[1;33m\u001b[0m\u001b[0m\n\u001b[0;32m   6470\u001b[0m                     \u001b[1;33m)\u001b[0m\u001b[1;33m\u001b[0m\u001b[1;33m\u001b[0m\u001b[0m\n\u001b[0;32m   6471\u001b[0m \u001b[1;33m\u001b[0m\u001b[0m\n\u001b[1;32m-> 6472\u001b[1;33m                 new_obj.insert(\n\u001b[0m\u001b[0;32m   6473\u001b[0m                     \u001b[1;36m0\u001b[0m\u001b[1;33m,\u001b[0m\u001b[1;33m\u001b[0m\u001b[1;33m\u001b[0m\u001b[0m\n\u001b[0;32m   6474\u001b[0m                     \u001b[0mname\u001b[0m\u001b[1;33m,\u001b[0m\u001b[1;33m\u001b[0m\u001b[1;33m\u001b[0m\u001b[0m\n\u001b[0;32m   6475\u001b[0m                     \u001b[0mlevel_values\u001b[0m\u001b[1;33m,\u001b[0m\u001b[1;33m\u001b[0m\u001b[1;33m\u001b[0m\u001b[0m\n",
      "\u001b[1;32m~\\Anaconda3\\envs\\pygis12\\Lib\\site-packages\\pandas\\core\\frame.py\u001b[0m in \u001b[0;36m?\u001b[1;34m(self, loc, column, value, allow_duplicates)\u001b[0m\n\u001b[0;32m   5154\u001b[0m                 \u001b[1;34m\"'self.flags.allows_duplicate_labels' is False.\"\u001b[0m\u001b[1;33m\u001b[0m\u001b[1;33m\u001b[0m\u001b[0m\n\u001b[0;32m   5155\u001b[0m             \u001b[1;33m)\u001b[0m\u001b[1;33m\u001b[0m\u001b[1;33m\u001b[0m\u001b[0m\n\u001b[0;32m   5156\u001b[0m         \u001b[1;32mif\u001b[0m \u001b[1;32mnot\u001b[0m \u001b[0mallow_duplicates\u001b[0m \u001b[1;32mand\u001b[0m \u001b[0mcolumn\u001b[0m \u001b[1;32min\u001b[0m \u001b[0mself\u001b[0m\u001b[1;33m.\u001b[0m\u001b[0mcolumns\u001b[0m\u001b[1;33m:\u001b[0m\u001b[1;33m\u001b[0m\u001b[1;33m\u001b[0m\u001b[0m\n\u001b[0;32m   5157\u001b[0m             \u001b[1;31m# Should this be a different kind of error??\u001b[0m\u001b[1;33m\u001b[0m\u001b[1;33m\u001b[0m\u001b[0m\n\u001b[1;32m-> 5158\u001b[1;33m             \u001b[1;32mraise\u001b[0m \u001b[0mValueError\u001b[0m\u001b[1;33m(\u001b[0m\u001b[1;33mf\"\u001b[0m\u001b[1;33mcannot insert \u001b[0m\u001b[1;33m{\u001b[0m\u001b[0mcolumn\u001b[0m\u001b[1;33m}\u001b[0m\u001b[1;33m, already exists\u001b[0m\u001b[1;33m\"\u001b[0m\u001b[1;33m)\u001b[0m\u001b[1;33m\u001b[0m\u001b[1;33m\u001b[0m\u001b[0m\n\u001b[0m\u001b[0;32m   5159\u001b[0m         \u001b[1;32mif\u001b[0m \u001b[1;32mnot\u001b[0m \u001b[0mis_integer\u001b[0m\u001b[1;33m(\u001b[0m\u001b[0mloc\u001b[0m\u001b[1;33m)\u001b[0m\u001b[1;33m:\u001b[0m\u001b[1;33m\u001b[0m\u001b[1;33m\u001b[0m\u001b[0m\n\u001b[0;32m   5160\u001b[0m             \u001b[1;32mraise\u001b[0m \u001b[0mTypeError\u001b[0m\u001b[1;33m(\u001b[0m\u001b[1;34m\"loc must be int\"\u001b[0m\u001b[1;33m)\u001b[0m\u001b[1;33m\u001b[0m\u001b[1;33m\u001b[0m\u001b[0m\n\u001b[0;32m   5161\u001b[0m         \u001b[1;31m# convert non stdlib ints to satisfy typing checks\u001b[0m\u001b[1;33m\u001b[0m\u001b[1;33m\u001b[0m\u001b[0m\n",
      "\u001b[1;31mValueError\u001b[0m: cannot insert datetime_start, already exists"
     ]
    }
   ],
   "source": [
    "site_folders = {#'US-UTD':'Dugout_Ranch',\n",
    "                'US-UTB':'BSF',\n",
    "                'US-UTJ':'Bluff',\n",
    "                'US-UTW':'Wellington',\n",
    "                'US-UTE':'Escalante',\n",
    "                'US-UTM':'Matheson',\n",
    "                'US-UTP':'Phrag',\n",
    "                'US-CdM':'Cedar_Mesa',\n",
    "                'US-UTV':'Desert_View_Myton',\n",
    "                'US-UTL':'Pelican_Lake',\n",
    "                }\n",
    "\n",
    "micromet.stat_dl_con_ul(site_folders,config, engine)"
   ]
  },
  {
   "cell_type": "code",
   "execution_count": 1,
   "id": "d8c97e91eefe2be0",
   "metadata": {
    "ExecuteTime": {
     "end_time": "2025-01-26T17:28:53.717773Z",
     "start_time": "2025-01-26T17:28:53.708776Z"
    }
   },
   "outputs": [],
   "source": [
    "site_folders = {'US-UTD':'Dugout_Ranch',\n",
    "                'US-UTB':'BSF',\n",
    "                'US-UTJ':'Bluff',\n",
    "                'US-UTW':'Wellington',\n",
    "                'US-UTE':'Escalante',\n",
    "                'US-UTM':'Matheson',\n",
    "                'US-UTP':'Phrag',\n",
    "                'US-CdM':'Cedar_Mesa',\n",
    "                'US-UTV':'Desert_View_Myton',\n",
    "                'US-UTL':'Pelican_Lake',\n",
    "                }\n",
    "\n",
    "#stations = ['UTJ','UTV','UTP','UTW','UTM','CdM','UTL','UTE']\n",
    "#compdf = {}\n",
    "\n",
    "def stat_dl_con_ul(site_folders, engine):\n",
    "    for stationid, name in site_folders.items():\n",
    "        station = stationid.split('-')[-1]\n",
    "        for dat in ['eddy','met']:\n",
    "            if dat in config[station].keys():\n",
    "                stationtime, comptime = micromet.get_times(station, config, loggertype=dat)\n",
    "                am_df, pack_size = micromet.get_station_data(station, config, loggertype=dat)\n",
    "\n",
    "                if am_df is not None:\n",
    "                    am_df_filt = micromet.compare_sql_to_station(am_df, station, engine, loggertype=dat)\n",
    "                    mindate = am_df_filt['TIMESTAMP_START'].min()\n",
    "                    maxdate = am_df_filt['TIMESTAMP_START'].min()\n",
    "                    raw_len = len(am_df)\n",
    "                    am_df_len = len(am_df_filt)\n",
    "                    am_df_filt = am_df_filt.rename(columns=str.lower)\n",
    "                    am_df_filt.to_sql(f\"amflux{dat}\",con=engine, if_exists='append', index=False)\n",
    "                    # Define variable names and values\n",
    "                    variables = {'stationid' : stationid,\n",
    "                                 'talbetype' : dat,\n",
    "                                 'mindate' : mindate,\n",
    "                                 'maxdate' : maxdate,\n",
    "                                 'datasize_mb': pack_size,\n",
    "                                 'stationdf_len': raw_len,\n",
    "                                 'uploaddf_len': am_df_len,\n",
    "                                 }\n",
    "\n",
    "                    # Create a single-row dataframe\n",
    "                    df = pd.DataFrame([variables])\n",
    "                    df.to_sql(f\"uploadstats\", con=engine, if_exists='append', index=False)\n",
    "                    # Display the dataframe\n",
    "                else:\n",
    "                    mindate = None\n",
    "                    maxdate = None\n",
    "                    raw_len = None\n",
    "                    am_df_len = None\n",
    "\n",
    "                print(dat)\n",
    "                print(f\"Station {station}\")\n",
    "                print(f\"Mindate {mindate}  Maxdate {maxdate}\")\n",
    "                print(f\"data size = {pack_size}\")\n",
    "                print(f\"{am_df_len} vs {raw_len} rows\")\n",
    "\n",
    "\n",
    "\n",
    "\n"
   ]
  },
  {
   "cell_type": "code",
   "execution_count": 14,
   "id": "67a2d6e0bedf0e4e",
   "metadata": {
    "ExecuteTime": {
     "end_time": "2025-01-23T19:45:17.763083Z",
     "start_time": "2025-01-23T19:45:17.757645Z"
    }
   },
   "outputs": [
    {
     "data": {
      "text/plain": [
       "3.783502"
      ]
     },
     "execution_count": 14,
     "metadata": {},
     "output_type": "execute_result"
    }
   ],
   "source": [
    "len(response_1.content)*1E-6"
   ]
  },
  {
   "cell_type": "code",
   "execution_count": 9,
   "id": "ba490673bd9fa92e",
   "metadata": {
    "ExecuteTime": {
     "end_time": "2025-01-23T16:02:05.587460Z",
     "start_time": "2025-01-23T16:02:05.582180Z"
    }
   },
   "outputs": [
    {
     "data": {
      "text/plain": [
       "np.int64(202501160830)"
      ]
     },
     "execution_count": 9,
     "metadata": {},
     "output_type": "execute_result"
    }
   ],
   "source": [
    "mindate = am_df['TIMESTAMP_START'].min()\n",
    "maxdate = am_df['TIMESTAMP_START'].min()"
   ]
  },
  {
   "cell_type": "code",
   "execution_count": 5,
   "id": "c4935b25369d5040",
   "metadata": {
    "ExecuteTime": {
     "end_time": "2025-01-23T19:25:01.805219Z",
     "start_time": "2025-01-23T19:25:01.497336Z"
    }
   },
   "outputs": [],
   "source": [
    "#http://192.168.4.14/?command=ClockCheck\n",
    "station = 'UTJ'\n",
    "ip = config[station]['ip']\n",
    "clk_url = f\"http://{ip}:{port}/?\"\n",
    "#url = f\"http://{ip}/tables.html?command=DataQuery&mode=since-record&format=toA5&uri=dl:Flux_AmeriFluxFormat&p1=0\"\n",
    "clk_args = {'command':'ClockCheck',\n",
    "        'uri':'dl',\n",
    "        'format':'json',\n",
    "        }\n",
    "clktimeresp = requests.get(clk_url, params=clk_args, auth=HTTPBasicAuth(config['LOGGER']['login'], config['LOGGER']['pw'])).json()\n",
    "if 'time' in clktimeresp.keys():\n",
    "    clktime = clktimeresp['time']\n",
    "else:\n",
    "    clktime = None\n",
    "\n",
    "comptime = f\"{datetime.datetime.now():%Y-%m-%d %H:%M:%S}\""
   ]
  },
  {
   "cell_type": "code",
   "execution_count": 7,
   "id": "b9257585fa8e3309",
   "metadata": {
    "ExecuteTime": {
     "end_time": "2025-01-23T19:25:14.149430Z",
     "start_time": "2025-01-23T19:25:14.142432Z"
    }
   },
   "outputs": [
    {
     "data": {
      "text/plain": [
       "'2025-01-23 12:25:01'"
      ]
     },
     "execution_count": 7,
     "metadata": {},
     "output_type": "execute_result"
    }
   ],
   "source": [
    "comptime"
   ]
  },
  {
   "cell_type": "code",
   "execution_count": 11,
   "id": "27437da798c677dc",
   "metadata": {
    "ExecuteTime": {
     "end_time": "2025-01-23T19:33:14.179687Z",
     "start_time": "2025-01-23T19:32:46.474604Z"
    }
   },
   "outputs": [],
   "source": [
    "station = 'UTE'\n",
    "ip = config[station]['ip']\n",
    "port = config[station]['met']\n",
    "url = f\"http://{ip}:{port}/tables.html?\"\n",
    "params = {'command':'DataQuery',\n",
    "          'mode':'since-record',\n",
    "          'format':'toA5',\n",
    "          'uri':'dl:Statistics_AmeriFlux',\n",
    "          'p1':0,\n",
    "          }\n",
    "response_1 = requests.get(url, params=params ,auth=HTTPBasicAuth(config['LOGGER']['login'], config['LOGGER']['pw']))\n",
    "if response_1.status_code == 200:\n",
    "    headers = pd.read_csv(BytesIO(response_1.content),skiprows=[0]).iloc[0:2,:].T\n",
    "    raw_data = pd.read_csv(BytesIO(response_1.content),skiprows=[0,2,3])\n",
    "\n"
   ]
  },
  {
   "cell_type": "code",
   "execution_count": 12,
   "id": "743d4a1cfce33d47",
   "metadata": {
    "ExecuteTime": {
     "end_time": "2025-01-23T19:33:44.165307Z",
     "start_time": "2025-01-23T19:33:44.140307Z"
    }
   },
   "outputs": [
    {
     "data": {
      "text/html": [
       "<div>\n",
       "<style scoped>\n",
       "    .dataframe tbody tr th:only-of-type {\n",
       "        vertical-align: middle;\n",
       "    }\n",
       "\n",
       "    .dataframe tbody tr th {\n",
       "        vertical-align: top;\n",
       "    }\n",
       "\n",
       "    .dataframe thead th {\n",
       "        text-align: right;\n",
       "    }\n",
       "</style>\n",
       "<table border=\"1\" class=\"dataframe\">\n",
       "  <thead>\n",
       "    <tr style=\"text-align: right;\">\n",
       "      <th></th>\n",
       "      <th>TIMESTAMP</th>\n",
       "      <th>RECORD</th>\n",
       "      <th>TIMESTAMP_START</th>\n",
       "      <th>TIMESTAMP_END</th>\n",
       "      <th>ALB</th>\n",
       "      <th>NETRAD</th>\n",
       "      <th>SW_IN</th>\n",
       "      <th>SW_OUT</th>\n",
       "      <th>LW_IN</th>\n",
       "      <th>LW_OUT</th>\n",
       "      <th>...</th>\n",
       "      <th>WS</th>\n",
       "      <th>WD</th>\n",
       "      <th>LWmV_1_1_1</th>\n",
       "      <th>LWMDry_1_1_1</th>\n",
       "      <th>LWMCon_1_1_1</th>\n",
       "      <th>LWMWet_1_1_1</th>\n",
       "      <th>LWmV_1_1_2</th>\n",
       "      <th>LWMDry_1_1_2</th>\n",
       "      <th>LWMCon_1_1_2</th>\n",
       "      <th>LWMWet_1_1_2</th>\n",
       "    </tr>\n",
       "  </thead>\n",
       "  <tbody>\n",
       "    <tr>\n",
       "      <th>0</th>\n",
       "      <td>2024-03-12 09:30:00</td>\n",
       "      <td>0</td>\n",
       "      <td>202403120919</td>\n",
       "      <td>202403120930</td>\n",
       "      <td>18.49048</td>\n",
       "      <td>-21.39694</td>\n",
       "      <td>30.728240</td>\n",
       "      <td>5.684656</td>\n",
       "      <td>401.7438</td>\n",
       "      <td>448.1842</td>\n",
       "      <td>...</td>\n",
       "      <td>9.532032</td>\n",
       "      <td>314.95310</td>\n",
       "      <td>258.8016</td>\n",
       "      <td>36.38889</td>\n",
       "      <td>0.000000</td>\n",
       "      <td>0.00000</td>\n",
       "      <td>258.5672</td>\n",
       "      <td>36.38889</td>\n",
       "      <td>0.00000</td>\n",
       "      <td>0.00000</td>\n",
       "    </tr>\n",
       "    <tr>\n",
       "      <th>1</th>\n",
       "      <td>2024-03-12 10:00:00</td>\n",
       "      <td>1</td>\n",
       "      <td>202403120930</td>\n",
       "      <td>202403121000</td>\n",
       "      <td>19.33819</td>\n",
       "      <td>-14.17144</td>\n",
       "      <td>35.109390</td>\n",
       "      <td>6.790694</td>\n",
       "      <td>402.3058</td>\n",
       "      <td>444.7959</td>\n",
       "      <td>...</td>\n",
       "      <td>7.415333</td>\n",
       "      <td>334.09340</td>\n",
       "      <td>259.4499</td>\n",
       "      <td>100.00000</td>\n",
       "      <td>0.000000</td>\n",
       "      <td>0.00000</td>\n",
       "      <td>259.2029</td>\n",
       "      <td>100.00000</td>\n",
       "      <td>0.00000</td>\n",
       "      <td>0.00000</td>\n",
       "    </tr>\n",
       "    <tr>\n",
       "      <th>2</th>\n",
       "      <td>2024-03-12 10:30:00</td>\n",
       "      <td>2</td>\n",
       "      <td>202403121000</td>\n",
       "      <td>202403121030</td>\n",
       "      <td>15.04910</td>\n",
       "      <td>15.07617</td>\n",
       "      <td>46.988440</td>\n",
       "      <td>7.859250</td>\n",
       "      <td>399.5011</td>\n",
       "      <td>423.5542</td>\n",
       "      <td>...</td>\n",
       "      <td>3.388243</td>\n",
       "      <td>319.68610</td>\n",
       "      <td>287.1852</td>\n",
       "      <td>41.38889</td>\n",
       "      <td>7.777778</td>\n",
       "      <td>50.83333</td>\n",
       "      <td>272.3126</td>\n",
       "      <td>62.50000</td>\n",
       "      <td>14.72222</td>\n",
       "      <td>22.77778</td>\n",
       "    </tr>\n",
       "    <tr>\n",
       "      <th>3</th>\n",
       "      <td>2024-03-12 11:00:00</td>\n",
       "      <td>3</td>\n",
       "      <td>202403121030</td>\n",
       "      <td>202403121100</td>\n",
       "      <td>23.07624</td>\n",
       "      <td>58.11319</td>\n",
       "      <td>123.988300</td>\n",
       "      <td>28.730390</td>\n",
       "      <td>388.8729</td>\n",
       "      <td>426.0176</td>\n",
       "      <td>...</td>\n",
       "      <td>5.368657</td>\n",
       "      <td>317.82870</td>\n",
       "      <td>263.7308</td>\n",
       "      <td>84.72222</td>\n",
       "      <td>7.777778</td>\n",
       "      <td>7.50000</td>\n",
       "      <td>260.6151</td>\n",
       "      <td>100.00000</td>\n",
       "      <td>0.00000</td>\n",
       "      <td>0.00000</td>\n",
       "    </tr>\n",
       "    <tr>\n",
       "      <th>4</th>\n",
       "      <td>2024-03-12 11:30:00</td>\n",
       "      <td>4</td>\n",
       "      <td>202403121100</td>\n",
       "      <td>202403121130</td>\n",
       "      <td>24.28172</td>\n",
       "      <td>63.82758</td>\n",
       "      <td>147.530400</td>\n",
       "      <td>35.854500</td>\n",
       "      <td>382.3825</td>\n",
       "      <td>430.2309</td>\n",
       "      <td>...</td>\n",
       "      <td>4.270786</td>\n",
       "      <td>298.74190</td>\n",
       "      <td>258.9477</td>\n",
       "      <td>100.00000</td>\n",
       "      <td>0.000000</td>\n",
       "      <td>0.00000</td>\n",
       "      <td>260.2029</td>\n",
       "      <td>100.00000</td>\n",
       "      <td>0.00000</td>\n",
       "      <td>0.00000</td>\n",
       "    </tr>\n",
       "    <tr>\n",
       "      <th>...</th>\n",
       "      <td>...</td>\n",
       "      <td>...</td>\n",
       "      <td>...</td>\n",
       "      <td>...</td>\n",
       "      <td>...</td>\n",
       "      <td>...</td>\n",
       "      <td>...</td>\n",
       "      <td>...</td>\n",
       "      <td>...</td>\n",
       "      <td>...</td>\n",
       "      <td>...</td>\n",
       "      <td>...</td>\n",
       "      <td>...</td>\n",
       "      <td>...</td>\n",
       "      <td>...</td>\n",
       "      <td>...</td>\n",
       "      <td>...</td>\n",
       "      <td>...</td>\n",
       "      <td>...</td>\n",
       "      <td>...</td>\n",
       "      <td>...</td>\n",
       "    </tr>\n",
       "    <tr>\n",
       "      <th>8040</th>\n",
       "      <td>2025-01-23 02:30:00</td>\n",
       "      <td>8040</td>\n",
       "      <td>202501230200</td>\n",
       "      <td>202501230230</td>\n",
       "      <td>0.00000</td>\n",
       "      <td>-78.22307</td>\n",
       "      <td>-1.007444</td>\n",
       "      <td>-0.107667</td>\n",
       "      <td>177.3601</td>\n",
       "      <td>254.6834</td>\n",
       "      <td>...</td>\n",
       "      <td>1.642534</td>\n",
       "      <td>148.68750</td>\n",
       "      <td>263.5028</td>\n",
       "      <td>100.00000</td>\n",
       "      <td>0.000000</td>\n",
       "      <td>0.00000</td>\n",
       "      <td>263.1570</td>\n",
       "      <td>100.00000</td>\n",
       "      <td>0.00000</td>\n",
       "      <td>0.00000</td>\n",
       "    </tr>\n",
       "    <tr>\n",
       "      <th>8041</th>\n",
       "      <td>2025-01-23 03:00:00</td>\n",
       "      <td>8041</td>\n",
       "      <td>202501230230</td>\n",
       "      <td>202501230300</td>\n",
       "      <td>0.00000</td>\n",
       "      <td>-74.94375</td>\n",
       "      <td>-0.940555</td>\n",
       "      <td>-0.186000</td>\n",
       "      <td>175.9579</td>\n",
       "      <td>250.1471</td>\n",
       "      <td>...</td>\n",
       "      <td>1.154821</td>\n",
       "      <td>48.70794</td>\n",
       "      <td>263.5890</td>\n",
       "      <td>100.00000</td>\n",
       "      <td>0.000000</td>\n",
       "      <td>0.00000</td>\n",
       "      <td>263.3429</td>\n",
       "      <td>100.00000</td>\n",
       "      <td>0.00000</td>\n",
       "      <td>0.00000</td>\n",
       "    </tr>\n",
       "    <tr>\n",
       "      <th>8042</th>\n",
       "      <td>2025-01-23 03:30:00</td>\n",
       "      <td>8042</td>\n",
       "      <td>202501230300</td>\n",
       "      <td>202501230330</td>\n",
       "      <td>0.00000</td>\n",
       "      <td>-73.59842</td>\n",
       "      <td>-0.973944</td>\n",
       "      <td>-0.162778</td>\n",
       "      <td>174.6615</td>\n",
       "      <td>247.4488</td>\n",
       "      <td>...</td>\n",
       "      <td>1.414738</td>\n",
       "      <td>212.45710</td>\n",
       "      <td>263.9224</td>\n",
       "      <td>100.00000</td>\n",
       "      <td>0.000000</td>\n",
       "      <td>0.00000</td>\n",
       "      <td>263.5649</td>\n",
       "      <td>100.00000</td>\n",
       "      <td>0.00000</td>\n",
       "      <td>0.00000</td>\n",
       "    </tr>\n",
       "    <tr>\n",
       "      <th>8043</th>\n",
       "      <td>2025-01-23 04:00:00</td>\n",
       "      <td>8043</td>\n",
       "      <td>202501230330</td>\n",
       "      <td>202501230400</td>\n",
       "      <td>0.00000</td>\n",
       "      <td>-71.05519</td>\n",
       "      <td>-0.898167</td>\n",
       "      <td>-0.135306</td>\n",
       "      <td>172.6765</td>\n",
       "      <td>242.9689</td>\n",
       "      <td>...</td>\n",
       "      <td>1.306557</td>\n",
       "      <td>62.15498</td>\n",
       "      <td>264.2498</td>\n",
       "      <td>100.00000</td>\n",
       "      <td>0.000000</td>\n",
       "      <td>0.00000</td>\n",
       "      <td>263.8954</td>\n",
       "      <td>100.00000</td>\n",
       "      <td>0.00000</td>\n",
       "      <td>0.00000</td>\n",
       "    </tr>\n",
       "    <tr>\n",
       "      <th>8044</th>\n",
       "      <td>2025-01-23 04:30:00</td>\n",
       "      <td>8044</td>\n",
       "      <td>202501230400</td>\n",
       "      <td>202501230430</td>\n",
       "      <td>0.00000</td>\n",
       "      <td>-72.01766</td>\n",
       "      <td>-0.851750</td>\n",
       "      <td>-0.199861</td>\n",
       "      <td>173.3235</td>\n",
       "      <td>244.6893</td>\n",
       "      <td>...</td>\n",
       "      <td>1.161299</td>\n",
       "      <td>126.86070</td>\n",
       "      <td>264.2292</td>\n",
       "      <td>100.00000</td>\n",
       "      <td>0.000000</td>\n",
       "      <td>0.00000</td>\n",
       "      <td>263.8054</td>\n",
       "      <td>100.00000</td>\n",
       "      <td>0.00000</td>\n",
       "      <td>0.00000</td>\n",
       "    </tr>\n",
       "  </tbody>\n",
       "</table>\n",
       "<p>8045 rows × 59 columns</p>\n",
       "</div>"
      ],
      "text/plain": [
       "                TIMESTAMP  RECORD  TIMESTAMP_START  TIMESTAMP_END       ALB  \\\n",
       "0     2024-03-12 09:30:00       0     202403120919   202403120930  18.49048   \n",
       "1     2024-03-12 10:00:00       1     202403120930   202403121000  19.33819   \n",
       "2     2024-03-12 10:30:00       2     202403121000   202403121030  15.04910   \n",
       "3     2024-03-12 11:00:00       3     202403121030   202403121100  23.07624   \n",
       "4     2024-03-12 11:30:00       4     202403121100   202403121130  24.28172   \n",
       "...                   ...     ...              ...            ...       ...   \n",
       "8040  2025-01-23 02:30:00    8040     202501230200   202501230230   0.00000   \n",
       "8041  2025-01-23 03:00:00    8041     202501230230   202501230300   0.00000   \n",
       "8042  2025-01-23 03:30:00    8042     202501230300   202501230330   0.00000   \n",
       "8043  2025-01-23 04:00:00    8043     202501230330   202501230400   0.00000   \n",
       "8044  2025-01-23 04:30:00    8044     202501230400   202501230430   0.00000   \n",
       "\n",
       "        NETRAD       SW_IN     SW_OUT     LW_IN    LW_OUT  ...        WS  \\\n",
       "0    -21.39694   30.728240   5.684656  401.7438  448.1842  ...  9.532032   \n",
       "1    -14.17144   35.109390   6.790694  402.3058  444.7959  ...  7.415333   \n",
       "2     15.07617   46.988440   7.859250  399.5011  423.5542  ...  3.388243   \n",
       "3     58.11319  123.988300  28.730390  388.8729  426.0176  ...  5.368657   \n",
       "4     63.82758  147.530400  35.854500  382.3825  430.2309  ...  4.270786   \n",
       "...        ...         ...        ...       ...       ...  ...       ...   \n",
       "8040 -78.22307   -1.007444  -0.107667  177.3601  254.6834  ...  1.642534   \n",
       "8041 -74.94375   -0.940555  -0.186000  175.9579  250.1471  ...  1.154821   \n",
       "8042 -73.59842   -0.973944  -0.162778  174.6615  247.4488  ...  1.414738   \n",
       "8043 -71.05519   -0.898167  -0.135306  172.6765  242.9689  ...  1.306557   \n",
       "8044 -72.01766   -0.851750  -0.199861  173.3235  244.6893  ...  1.161299   \n",
       "\n",
       "             WD  LWmV_1_1_1 LWMDry_1_1_1 LWMCon_1_1_1 LWMWet_1_1_1 LWmV_1_1_2  \\\n",
       "0     314.95310    258.8016     36.38889     0.000000      0.00000   258.5672   \n",
       "1     334.09340    259.4499    100.00000     0.000000      0.00000   259.2029   \n",
       "2     319.68610    287.1852     41.38889     7.777778     50.83333   272.3126   \n",
       "3     317.82870    263.7308     84.72222     7.777778      7.50000   260.6151   \n",
       "4     298.74190    258.9477    100.00000     0.000000      0.00000   260.2029   \n",
       "...         ...         ...          ...          ...          ...        ...   \n",
       "8040  148.68750    263.5028    100.00000     0.000000      0.00000   263.1570   \n",
       "8041   48.70794    263.5890    100.00000     0.000000      0.00000   263.3429   \n",
       "8042  212.45710    263.9224    100.00000     0.000000      0.00000   263.5649   \n",
       "8043   62.15498    264.2498    100.00000     0.000000      0.00000   263.8954   \n",
       "8044  126.86070    264.2292    100.00000     0.000000      0.00000   263.8054   \n",
       "\n",
       "     LWMDry_1_1_2 LWMCon_1_1_2 LWMWet_1_1_2  \n",
       "0        36.38889      0.00000      0.00000  \n",
       "1       100.00000      0.00000      0.00000  \n",
       "2        62.50000     14.72222     22.77778  \n",
       "3       100.00000      0.00000      0.00000  \n",
       "4       100.00000      0.00000      0.00000  \n",
       "...           ...          ...          ...  \n",
       "8040    100.00000      0.00000      0.00000  \n",
       "8041    100.00000      0.00000      0.00000  \n",
       "8042    100.00000      0.00000      0.00000  \n",
       "8043    100.00000      0.00000      0.00000  \n",
       "8044    100.00000      0.00000      0.00000  \n",
       "\n",
       "[8045 rows x 59 columns]"
      ]
     },
     "execution_count": 12,
     "metadata": {},
     "output_type": "execute_result"
    }
   ],
   "source": [
    "raw_data"
   ]
  }
 ],
 "metadata": {
  "kernelspec": {
   "display_name": "py313",
   "language": "python",
   "name": "python3"
  },
  "language_info": {
   "codemirror_mode": {
    "name": "ipython",
    "version": 3
   },
   "file_extension": ".py",
   "mimetype": "text/x-python",
   "name": "python",
   "nbconvert_exporter": "python",
   "pygments_lexer": "ipython3",
   "version": "3.13.1"
  }
 },
 "nbformat": 4,
 "nbformat_minor": 5
}
