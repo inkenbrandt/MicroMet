{
 "cells": [
  {
   "metadata": {},
   "cell_type": "markdown",
   "source": "# Imports",
   "id": "7d34b5305f4414d6"
  },
  {
   "metadata": {},
   "cell_type": "markdown",
   "source": "## Dependencies",
   "id": "d20186a65e84c3c3"
  },
  {
   "metadata": {
    "collapsed": true,
    "ExecuteTime": {
     "end_time": "2025-01-26T17:28:57.676808Z",
     "start_time": "2025-01-26T17:28:56.520934Z"
    }
   },
   "cell_type": "code",
   "source": [
    "import requests\n",
    "from requests.auth import HTTPBasicAuth\n",
    "import pandas as pd\n",
    "from io import BytesIO\n",
    "import datetime\n",
    "import numpy as np\n",
    "import configparser\n",
    "import sys"
   ],
   "id": "initial_id",
   "outputs": [],
   "execution_count": 2
  },
  {
   "metadata": {
    "ExecuteTime": {
     "end_time": "2025-01-26T17:28:58.369888Z",
     "start_time": "2025-01-26T17:28:58.367019Z"
    }
   },
   "cell_type": "code",
   "source": "",
   "id": "1883a7c8775bb818",
   "outputs": [],
   "execution_count": null
  },
  {
   "metadata": {},
   "cell_type": "markdown",
   "source": "## Micromet",
   "id": "946b4c2b060c12e4"
  },
  {
   "metadata": {
    "ExecuteTime": {
     "end_time": "2025-01-26T17:29:02.414741Z",
     "start_time": "2025-01-26T17:28:59.982783Z"
    }
   },
   "cell_type": "code",
   "source": [
    "#sys.path.append(\"G:/Shared drives/UGS_Flux/Data_Processing/Jupyter_Notebooks/MicroMet\")\n",
    "#sys.path.append(\"C:/Users/kladig/Documents/GitHub/MicroMet\")\n",
    "sys.path.append(\"../..\")\n",
    "import micromet"
   ],
   "id": "2ef51b0702bf5e57",
   "outputs": [],
   "execution_count": 3
  },
  {
   "metadata": {},
   "cell_type": "markdown",
   "source": "## Connection info and Config",
   "id": "2d5eebb78d0a6ad5"
  },
  {
   "metadata": {
    "ExecuteTime": {
     "end_time": "2025-01-26T17:29:05.960772Z",
     "start_time": "2025-01-26T17:29:05.712772Z"
    }
   },
   "cell_type": "code",
   "source": [
    "config = configparser.ConfigParser()\n",
    "\n",
    "config.read('../../secrets/config.ini')\n",
    "\n",
    "from sqlalchemy import create_engine\n",
    "import urllib.parse\n",
    "host = config['DEFAULT']['ip']\n",
    "pw = config['DEFAULT']['pw']\n",
    "user = config['DEFAULT']['login']\n",
    "\n",
    "encoded_password = urllib.parse.quote_plus(pw)\n",
    "\n",
    "def postconn_et(encoded_password, host='localhost',user='postgres',port='5432',db='groundwater', schema = 'groundwater'):\n",
    "    connection_text = \"postgresql+psycopg2://{:}:{:}@{:}:{:}/{:}?gssencmode=disable\".format(user,encoded_password,host,port,db)\n",
    "    return create_engine(connection_text, connect_args={'options': '-csearch_path={}'.format(schema)})\n",
    "\n",
    "\n",
    "engine = postconn_et(encoded_password, host=host, user=user)"
   ],
   "id": "425153414bebd44c",
   "outputs": [],
   "execution_count": 4
  },
  {
   "metadata": {},
   "cell_type": "markdown",
   "source": "# Pull From Each Datalogger Using the CS Datalogger API",
   "id": "56bf49c8c07a501"
  },
  {
   "metadata": {},
   "cell_type": "markdown",
   "source": "https://help.campbellsci.com/crbasic/cr1000x/Content/Info/webserverapicommands1.htm",
   "id": "520cd4b8dbf07fd0"
  },
  {
   "metadata": {
    "ExecuteTime": {
     "end_time": "2025-01-26T17:30:45.360448Z",
     "start_time": "2025-01-26T17:29:35.496574Z"
    }
   },
   "cell_type": "code",
   "source": [
    "site_folders = {#'US-UTD':'Dugout_Ranch',\n",
    "                'US-UTB':'BSF',\n",
    "                'US-UTJ':'Bluff',\n",
    "                'US-UTW':'Wellington',\n",
    "                'US-UTE':'Escalante',\n",
    "                'US-UTM':'Matheson',\n",
    "                'US-UTP':'Phrag',\n",
    "                'US-CdM':'Cedar_Mesa',\n",
    "                'US-UTV':'Desert_View_Myton',\n",
    "                'US-UTL':'Pelican_Lake',\n",
    "                }\n",
    "\n",
    "micromet.stat_dl_con_ul(site_folders,config, engine)"
   ],
   "id": "400ff0d02bb95c01",
   "outputs": [
    {
     "name": "stdout",
     "output_type": "stream",
     "text": [
      "80\n",
      "Column 'timestamp_end' found in DataFrame, trying lowercase\n",
      "eddy\n",
      "Station UTJ\n",
      "Mindate 202501191000  Maxdate 202501191000\n",
      "data size = 0.18739899999999998\n",
      "336 vs 336 rows\n",
      "38000\n",
      "Error: 404\n",
      "met\n",
      "Station UTJ\n",
      "Mindate None  Maxdate None\n",
      "data size = None\n",
      "None vs None rows\n",
      "80\n"
     ]
    },
    {
     "name": "stderr",
     "output_type": "stream",
     "text": [
      "C:\\Users\\paulinkenbrandt\\Documents\\GitHub\\MicroMet\\micromet\\converter.py:778: FutureWarning: DataFrame.interpolate with object dtype is deprecated and will raise in a future version. Call obj.infer_objects(copy=False) before interpolating instead.\n",
      "  .interpolate(method=\"linear\", limit=1)  # Fill up to 30-minute gaps\n"
     ]
    },
    {
     "name": "stdout",
     "output_type": "stream",
     "text": [
      "Column 'timestamp_end' found in DataFrame, trying lowercase\n",
      "eddy\n",
      "Station UTW\n",
      "Mindate 202501191000  Maxdate 202501191000\n",
      "data size = 0.17726\n",
      "336 vs 336 rows\n",
      "8080\n"
     ]
    },
    {
     "name": "stderr",
     "output_type": "stream",
     "text": [
      "C:\\Users\\paulinkenbrandt\\Documents\\GitHub\\MicroMet\\micromet\\converter.py:778: FutureWarning: DataFrame.interpolate with object dtype is deprecated and will raise in a future version. Call obj.infer_objects(copy=False) before interpolating instead.\n",
      "  .interpolate(method=\"linear\", limit=1)  # Fill up to 30-minute gaps\n"
     ]
    },
    {
     "name": "stdout",
     "output_type": "stream",
     "text": [
      "Column 'timestamp_end' found in DataFrame, trying lowercase\n",
      "met\n",
      "Station UTW\n",
      "Mindate 202410151400  Maxdate 202410151400\n",
      "data size = 2.430806\n",
      "4937 vs 4937 rows\n",
      "80\n"
     ]
    },
    {
     "name": "stderr",
     "output_type": "stream",
     "text": [
      "C:\\Users\\paulinkenbrandt\\Documents\\GitHub\\MicroMet\\micromet\\converter.py:778: FutureWarning: DataFrame.interpolate with object dtype is deprecated and will raise in a future version. Call obj.infer_objects(copy=False) before interpolating instead.\n",
      "  .interpolate(method=\"linear\", limit=1)  # Fill up to 30-minute gaps\n"
     ]
    },
    {
     "name": "stdout",
     "output_type": "stream",
     "text": [
      "Column 'timestamp_end' found in DataFrame, trying lowercase\n",
      "eddy\n",
      "Station UTE\n",
      "Mindate 202501191030  Maxdate 202501191030\n",
      "data size = 0.184688\n",
      "336 vs 336 rows\n",
      "8080\n"
     ]
    },
    {
     "name": "stderr",
     "output_type": "stream",
     "text": [
      "C:\\Users\\paulinkenbrandt\\Documents\\GitHub\\MicroMet\\micromet\\converter.py:778: FutureWarning: DataFrame.interpolate with object dtype is deprecated and will raise in a future version. Call obj.infer_objects(copy=False) before interpolating instead.\n",
      "  .interpolate(method=\"linear\", limit=1)  # Fill up to 30-minute gaps\n"
     ]
    },
    {
     "name": "stdout",
     "output_type": "stream",
     "text": [
      "Column 'timestamp_end' found in DataFrame, trying lowercase\n",
      "met\n",
      "Station UTE\n",
      "Mindate 202403120900  Maxdate 202403120900\n",
      "data size = 3.8540099999999997\n",
      "15354 vs 15354 rows\n",
      "80\n"
     ]
    },
    {
     "ename": "ValueError",
     "evalue": "cannot insert datetime_start, already exists",
     "output_type": "error",
     "traceback": [
      "\u001B[1;31m---------------------------------------------------------------------------\u001B[0m",
      "\u001B[1;31mValueError\u001B[0m                                Traceback (most recent call last)",
      "\u001B[1;32m~\\AppData\\Local\\Temp\\1\\ipykernel_27084\\2673486943.py\u001B[0m in \u001B[0;36m?\u001B[1;34m()\u001B[0m\n\u001B[0;32m      9\u001B[0m                 \u001B[1;34m'US-UTV'\u001B[0m\u001B[1;33m:\u001B[0m\u001B[1;34m'Desert_View_Myton'\u001B[0m\u001B[1;33m,\u001B[0m\u001B[1;33m\u001B[0m\u001B[1;33m\u001B[0m\u001B[0m\n\u001B[0;32m     10\u001B[0m                 \u001B[1;34m'US-UTL'\u001B[0m\u001B[1;33m:\u001B[0m\u001B[1;34m'Pelican_Lake'\u001B[0m\u001B[1;33m,\u001B[0m\u001B[1;33m\u001B[0m\u001B[1;33m\u001B[0m\u001B[0m\n\u001B[0;32m     11\u001B[0m                 \u001B[1;33m}\u001B[0m\u001B[1;33m\u001B[0m\u001B[1;33m\u001B[0m\u001B[0m\n\u001B[0;32m     12\u001B[0m \u001B[1;33m\u001B[0m\u001B[0m\n\u001B[1;32m---> 13\u001B[1;33m \u001B[0mmicromet\u001B[0m\u001B[1;33m.\u001B[0m\u001B[0mstat_dl_con_ul\u001B[0m\u001B[1;33m(\u001B[0m\u001B[0msite_folders\u001B[0m\u001B[1;33m,\u001B[0m\u001B[0mconfig\u001B[0m\u001B[1;33m,\u001B[0m \u001B[0mengine\u001B[0m\u001B[1;33m)\u001B[0m\u001B[1;33m\u001B[0m\u001B[1;33m\u001B[0m\u001B[0m\n\u001B[0m",
      "\u001B[1;32m~\\Documents\\GitHub\\MicroMet\\micromet\\station_data_pull.py\u001B[0m in \u001B[0;36m?\u001B[1;34m(site_folders, config, engine)\u001B[0m\n\u001B[0;32m    160\u001B[0m         \u001B[0mstation\u001B[0m \u001B[1;33m=\u001B[0m \u001B[0mstationid\u001B[0m\u001B[1;33m.\u001B[0m\u001B[0msplit\u001B[0m\u001B[1;33m(\u001B[0m\u001B[1;34m\"-\"\u001B[0m\u001B[1;33m)\u001B[0m\u001B[1;33m[\u001B[0m\u001B[1;33m-\u001B[0m\u001B[1;36m1\u001B[0m\u001B[1;33m]\u001B[0m\u001B[1;33m\u001B[0m\u001B[1;33m\u001B[0m\u001B[0m\n\u001B[0;32m    161\u001B[0m         \u001B[1;32mfor\u001B[0m \u001B[0mdat\u001B[0m \u001B[1;32min\u001B[0m \u001B[1;33m[\u001B[0m\u001B[1;34m\"eddy\"\u001B[0m\u001B[1;33m,\u001B[0m \u001B[1;34m\"met\"\u001B[0m\u001B[1;33m]\u001B[0m\u001B[1;33m:\u001B[0m\u001B[1;33m\u001B[0m\u001B[1;33m\u001B[0m\u001B[0m\n\u001B[0;32m    162\u001B[0m             \u001B[1;32mif\u001B[0m \u001B[0mdat\u001B[0m \u001B[1;32min\u001B[0m \u001B[0mconfig\u001B[0m\u001B[1;33m[\u001B[0m\u001B[0mstation\u001B[0m\u001B[1;33m]\u001B[0m\u001B[1;33m.\u001B[0m\u001B[0mkeys\u001B[0m\u001B[1;33m(\u001B[0m\u001B[1;33m)\u001B[0m\u001B[1;33m:\u001B[0m\u001B[1;33m\u001B[0m\u001B[1;33m\u001B[0m\u001B[0m\n\u001B[0;32m    163\u001B[0m                 \u001B[0mstationtime\u001B[0m\u001B[1;33m,\u001B[0m \u001B[0mcomptime\u001B[0m \u001B[1;33m=\u001B[0m \u001B[0mget_times\u001B[0m\u001B[1;33m(\u001B[0m\u001B[0mstation\u001B[0m\u001B[1;33m,\u001B[0m \u001B[0mconfig\u001B[0m\u001B[1;33m,\u001B[0m \u001B[0mloggertype\u001B[0m\u001B[1;33m=\u001B[0m\u001B[0mdat\u001B[0m\u001B[1;33m)\u001B[0m\u001B[1;33m\u001B[0m\u001B[1;33m\u001B[0m\u001B[0m\n\u001B[1;32m--> 164\u001B[1;33m                 \u001B[0mam_df\u001B[0m\u001B[1;33m,\u001B[0m \u001B[0mpack_size\u001B[0m \u001B[1;33m=\u001B[0m \u001B[0mget_station_data\u001B[0m\u001B[1;33m(\u001B[0m\u001B[0mstation\u001B[0m\u001B[1;33m,\u001B[0m \u001B[0mconfig\u001B[0m\u001B[1;33m,\u001B[0m \u001B[0mloggertype\u001B[0m\u001B[1;33m=\u001B[0m\u001B[0mdat\u001B[0m\u001B[1;33m)\u001B[0m\u001B[1;33m\u001B[0m\u001B[1;33m\u001B[0m\u001B[0m\n\u001B[0m\u001B[0;32m    165\u001B[0m \u001B[1;33m\u001B[0m\u001B[0m\n\u001B[0;32m    166\u001B[0m                 \u001B[1;32mif\u001B[0m \u001B[0mam_df\u001B[0m \u001B[1;32mis\u001B[0m \u001B[1;32mnot\u001B[0m \u001B[1;32mNone\u001B[0m\u001B[1;33m:\u001B[0m\u001B[1;33m\u001B[0m\u001B[1;33m\u001B[0m\u001B[0m\n\u001B[0;32m    167\u001B[0m                     am_df_filt = compare_sql_to_station(\n",
      "\u001B[1;32m~\\Documents\\GitHub\\MicroMet\\micromet\\station_data_pull.py\u001B[0m in \u001B[0;36m?\u001B[1;34m(station, config, reformat, loggertype)\u001B[0m\n\u001B[0;32m     73\u001B[0m         \u001B[0mpack_size\u001B[0m \u001B[1;33m=\u001B[0m \u001B[0mlen\u001B[0m\u001B[1;33m(\u001B[0m\u001B[0mresponse_1\u001B[0m\u001B[1;33m.\u001B[0m\u001B[0mcontent\u001B[0m\u001B[1;33m)\u001B[0m \u001B[1;33m*\u001B[0m \u001B[1;36m1e-6\u001B[0m\u001B[1;33m\u001B[0m\u001B[1;33m\u001B[0m\u001B[0m\n\u001B[0;32m     74\u001B[0m \u001B[1;33m\u001B[0m\u001B[0m\n\u001B[0;32m     75\u001B[0m         \u001B[1;32mif\u001B[0m \u001B[0mraw_data\u001B[0m \u001B[1;32mis\u001B[0m \u001B[1;32mnot\u001B[0m \u001B[1;32mNone\u001B[0m\u001B[1;33m:\u001B[0m\u001B[1;33m\u001B[0m\u001B[1;33m\u001B[0m\u001B[0m\n\u001B[0;32m     76\u001B[0m             \u001B[1;32mif\u001B[0m \u001B[0mreformat\u001B[0m \u001B[1;32mis\u001B[0m \u001B[1;32mTrue\u001B[0m\u001B[1;33m:\u001B[0m\u001B[1;33m\u001B[0m\u001B[1;33m\u001B[0m\u001B[0m\n\u001B[1;32m---> 77\u001B[1;33m                 \u001B[0mam_data\u001B[0m \u001B[1;33m=\u001B[0m \u001B[0mReformatter\u001B[0m\u001B[1;33m(\u001B[0m\u001B[0mraw_data\u001B[0m\u001B[1;33m)\u001B[0m\u001B[1;33m\u001B[0m\u001B[1;33m\u001B[0m\u001B[0m\n\u001B[0m\u001B[0;32m     78\u001B[0m                 \u001B[0mam_df\u001B[0m \u001B[1;33m=\u001B[0m \u001B[0mam_data\u001B[0m\u001B[1;33m.\u001B[0m\u001B[0met_data\u001B[0m\u001B[1;33m\u001B[0m\u001B[1;33m\u001B[0m\u001B[0m\n\u001B[0;32m     79\u001B[0m             \u001B[1;32melse\u001B[0m\u001B[1;33m:\u001B[0m\u001B[1;33m\u001B[0m\u001B[1;33m\u001B[0m\u001B[0m\n\u001B[0;32m     80\u001B[0m                 \u001B[0mam_df\u001B[0m \u001B[1;33m=\u001B[0m \u001B[0mraw_data\u001B[0m\u001B[1;33m\u001B[0m\u001B[1;33m\u001B[0m\u001B[0m\n",
      "\u001B[1;32m~\\Documents\\GitHub\\MicroMet\\micromet\\converter.py\u001B[0m in \u001B[0;36m?\u001B[1;34m(self, et_data, drop_soil, data_path, outlier_remove)\u001B[0m\n\u001B[0;32m    588\u001B[0m         \u001B[0mlogger\u001B[0m\u001B[1;33m.\u001B[0m\u001B[0mdebug\u001B[0m\u001B[1;33m(\u001B[0m\u001B[1;33mf\"\u001B[0m\u001B[1;33mET Data: \\n \u001B[0m\u001B[1;33m{\u001B[0m\u001B[0met_data\u001B[0m\u001B[1;33m.\u001B[0m\u001B[0mhead\u001B[0m\u001B[1;33m(\u001B[0m\u001B[1;36m5\u001B[0m\u001B[1;33m)\u001B[0m\u001B[1;33m}\u001B[0m\u001B[1;33m\"\u001B[0m\u001B[1;33m)\u001B[0m\u001B[1;33m\u001B[0m\u001B[1;33m\u001B[0m\u001B[0m\n\u001B[0;32m    589\u001B[0m         \u001B[0mlogger\u001B[0m\u001B[1;33m.\u001B[0m\u001B[0mdebug\u001B[0m\u001B[1;33m(\u001B[0m\u001B[1;33mf\"\u001B[0m\u001B[1;33mET Data: \\n \u001B[0m\u001B[1;33m{\u001B[0m\u001B[0met_data\u001B[0m\u001B[1;33m.\u001B[0m\u001B[0mtail\u001B[0m\u001B[1;33m(\u001B[0m\u001B[1;36m5\u001B[0m\u001B[1;33m)\u001B[0m\u001B[1;33m}\u001B[0m\u001B[1;33m\"\u001B[0m\u001B[1;33m)\u001B[0m\u001B[1;33m\u001B[0m\u001B[1;33m\u001B[0m\u001B[0m\n\u001B[0;32m    590\u001B[0m \u001B[1;33m\u001B[0m\u001B[0m\n\u001B[0;32m    591\u001B[0m         \u001B[1;31m# fix datetimes\u001B[0m\u001B[1;33m\u001B[0m\u001B[1;33m\u001B[0m\u001B[0m\n\u001B[1;32m--> 592\u001B[1;33m         \u001B[0mself\u001B[0m\u001B[1;33m.\u001B[0m\u001B[0met_data\u001B[0m \u001B[1;33m=\u001B[0m \u001B[0mself\u001B[0m\u001B[1;33m.\u001B[0m\u001B[0mdatefixer\u001B[0m\u001B[1;33m(\u001B[0m\u001B[0met_data\u001B[0m\u001B[1;33m)\u001B[0m\u001B[1;33m\u001B[0m\u001B[1;33m\u001B[0m\u001B[0m\n\u001B[0m\u001B[0;32m    593\u001B[0m \u001B[1;33m\u001B[0m\u001B[0m\n\u001B[0;32m    594\u001B[0m         \u001B[0mlogger\u001B[0m\u001B[1;33m.\u001B[0m\u001B[0mdebug\u001B[0m\u001B[1;33m(\u001B[0m\u001B[1;34m\"Corrected Datetimes:\"\u001B[0m\u001B[1;33m)\u001B[0m\u001B[1;33m\u001B[0m\u001B[1;33m\u001B[0m\u001B[0m\n\u001B[0;32m    595\u001B[0m         \u001B[0mlogger\u001B[0m\u001B[1;33m.\u001B[0m\u001B[0mdebug\u001B[0m\u001B[1;33m(\u001B[0m\u001B[1;33mf\"\u001B[0m\u001B[1;33m{\u001B[0m\u001B[0mself\u001B[0m\u001B[1;33m.\u001B[0m\u001B[0met_data\u001B[0m\u001B[1;33m.\u001B[0m\u001B[0mhead\u001B[0m\u001B[1;33m(\u001B[0m\u001B[1;36m5\u001B[0m\u001B[1;33m)\u001B[0m\u001B[1;33m}\u001B[0m\u001B[1;33m\"\u001B[0m\u001B[1;33m)\u001B[0m\u001B[1;33m\u001B[0m\u001B[1;33m\u001B[0m\u001B[0m\n",
      "\u001B[1;32m~\\Documents\\GitHub\\MicroMet\\micromet\\converter.py\u001B[0m in \u001B[0;36m?\u001B[1;34m(self, et_data)\u001B[0m\n\u001B[0;32m    779\u001B[0m         \u001B[1;33m)\u001B[0m\u001B[1;33m\u001B[0m\u001B[1;33m\u001B[0m\u001B[0m\n\u001B[0;32m    780\u001B[0m \u001B[1;33m\u001B[0m\u001B[0m\n\u001B[0;32m    781\u001B[0m         \u001B[1;31m# drop null index values\u001B[0m\u001B[1;33m\u001B[0m\u001B[1;33m\u001B[0m\u001B[0m\n\u001B[0;32m    782\u001B[0m         et_data = (\n\u001B[1;32m--> 783\u001B[1;33m             \u001B[0met_data\u001B[0m\u001B[1;33m.\u001B[0m\u001B[0mreset_index\u001B[0m\u001B[1;33m(\u001B[0m\u001B[1;33m)\u001B[0m\u001B[1;33m\u001B[0m\u001B[1;33m\u001B[0m\u001B[0m\n\u001B[0m\u001B[0;32m    784\u001B[0m             \u001B[1;33m.\u001B[0m\u001B[0mdropna\u001B[0m\u001B[1;33m(\u001B[0m\u001B[0msubset\u001B[0m\u001B[1;33m=\u001B[0m\u001B[1;33m[\u001B[0m\u001B[1;34m\"datetime_start\"\u001B[0m\u001B[1;33m]\u001B[0m\u001B[1;33m)\u001B[0m\u001B[1;33m\u001B[0m\u001B[1;33m\u001B[0m\u001B[0m\n\u001B[0;32m    785\u001B[0m             \u001B[1;33m.\u001B[0m\u001B[0mset_index\u001B[0m\u001B[1;33m(\u001B[0m\u001B[1;34m\"datetime_start\"\u001B[0m\u001B[1;33m)\u001B[0m\u001B[1;33m\u001B[0m\u001B[1;33m\u001B[0m\u001B[0m\n\u001B[0;32m    786\u001B[0m         \u001B[1;33m)\u001B[0m\u001B[1;33m\u001B[0m\u001B[1;33m\u001B[0m\u001B[0m\n",
      "\u001B[1;32m~\\Anaconda3\\envs\\pygis12\\Lib\\site-packages\\pandas\\core\\frame.py\u001B[0m in \u001B[0;36m?\u001B[1;34m(self, level, drop, inplace, col_level, col_fill, allow_duplicates, names)\u001B[0m\n\u001B[0;32m   6468\u001B[0m                     level_values = algorithms.take(\n\u001B[0;32m   6469\u001B[0m                         \u001B[0mlevel_values\u001B[0m\u001B[1;33m,\u001B[0m \u001B[0mlab\u001B[0m\u001B[1;33m,\u001B[0m \u001B[0mallow_fill\u001B[0m\u001B[1;33m=\u001B[0m\u001B[1;32mTrue\u001B[0m\u001B[1;33m,\u001B[0m \u001B[0mfill_value\u001B[0m\u001B[1;33m=\u001B[0m\u001B[0mlev\u001B[0m\u001B[1;33m.\u001B[0m\u001B[0m_na_value\u001B[0m\u001B[1;33m\u001B[0m\u001B[1;33m\u001B[0m\u001B[0m\n\u001B[0;32m   6470\u001B[0m                     \u001B[1;33m)\u001B[0m\u001B[1;33m\u001B[0m\u001B[1;33m\u001B[0m\u001B[0m\n\u001B[0;32m   6471\u001B[0m \u001B[1;33m\u001B[0m\u001B[0m\n\u001B[1;32m-> 6472\u001B[1;33m                 new_obj.insert(\n\u001B[0m\u001B[0;32m   6473\u001B[0m                     \u001B[1;36m0\u001B[0m\u001B[1;33m,\u001B[0m\u001B[1;33m\u001B[0m\u001B[1;33m\u001B[0m\u001B[0m\n\u001B[0;32m   6474\u001B[0m                     \u001B[0mname\u001B[0m\u001B[1;33m,\u001B[0m\u001B[1;33m\u001B[0m\u001B[1;33m\u001B[0m\u001B[0m\n\u001B[0;32m   6475\u001B[0m                     \u001B[0mlevel_values\u001B[0m\u001B[1;33m,\u001B[0m\u001B[1;33m\u001B[0m\u001B[1;33m\u001B[0m\u001B[0m\n",
      "\u001B[1;32m~\\Anaconda3\\envs\\pygis12\\Lib\\site-packages\\pandas\\core\\frame.py\u001B[0m in \u001B[0;36m?\u001B[1;34m(self, loc, column, value, allow_duplicates)\u001B[0m\n\u001B[0;32m   5154\u001B[0m                 \u001B[1;34m\"'self.flags.allows_duplicate_labels' is False.\"\u001B[0m\u001B[1;33m\u001B[0m\u001B[1;33m\u001B[0m\u001B[0m\n\u001B[0;32m   5155\u001B[0m             \u001B[1;33m)\u001B[0m\u001B[1;33m\u001B[0m\u001B[1;33m\u001B[0m\u001B[0m\n\u001B[0;32m   5156\u001B[0m         \u001B[1;32mif\u001B[0m \u001B[1;32mnot\u001B[0m \u001B[0mallow_duplicates\u001B[0m \u001B[1;32mand\u001B[0m \u001B[0mcolumn\u001B[0m \u001B[1;32min\u001B[0m \u001B[0mself\u001B[0m\u001B[1;33m.\u001B[0m\u001B[0mcolumns\u001B[0m\u001B[1;33m:\u001B[0m\u001B[1;33m\u001B[0m\u001B[1;33m\u001B[0m\u001B[0m\n\u001B[0;32m   5157\u001B[0m             \u001B[1;31m# Should this be a different kind of error??\u001B[0m\u001B[1;33m\u001B[0m\u001B[1;33m\u001B[0m\u001B[0m\n\u001B[1;32m-> 5158\u001B[1;33m             \u001B[1;32mraise\u001B[0m \u001B[0mValueError\u001B[0m\u001B[1;33m(\u001B[0m\u001B[1;33mf\"\u001B[0m\u001B[1;33mcannot insert \u001B[0m\u001B[1;33m{\u001B[0m\u001B[0mcolumn\u001B[0m\u001B[1;33m}\u001B[0m\u001B[1;33m, already exists\u001B[0m\u001B[1;33m\"\u001B[0m\u001B[1;33m)\u001B[0m\u001B[1;33m\u001B[0m\u001B[1;33m\u001B[0m\u001B[0m\n\u001B[0m\u001B[0;32m   5159\u001B[0m         \u001B[1;32mif\u001B[0m \u001B[1;32mnot\u001B[0m \u001B[0mis_integer\u001B[0m\u001B[1;33m(\u001B[0m\u001B[0mloc\u001B[0m\u001B[1;33m)\u001B[0m\u001B[1;33m:\u001B[0m\u001B[1;33m\u001B[0m\u001B[1;33m\u001B[0m\u001B[0m\n\u001B[0;32m   5160\u001B[0m             \u001B[1;32mraise\u001B[0m \u001B[0mTypeError\u001B[0m\u001B[1;33m(\u001B[0m\u001B[1;34m\"loc must be int\"\u001B[0m\u001B[1;33m)\u001B[0m\u001B[1;33m\u001B[0m\u001B[1;33m\u001B[0m\u001B[0m\n\u001B[0;32m   5161\u001B[0m         \u001B[1;31m# convert non stdlib ints to satisfy typing checks\u001B[0m\u001B[1;33m\u001B[0m\u001B[1;33m\u001B[0m\u001B[0m\n",
      "\u001B[1;31mValueError\u001B[0m: cannot insert datetime_start, already exists"
     ]
    }
   ],
   "execution_count": 6
  },
  {
   "metadata": {
    "ExecuteTime": {
     "end_time": "2025-01-26T17:28:53.717773Z",
     "start_time": "2025-01-26T17:28:53.708776Z"
    }
   },
   "cell_type": "code",
   "source": [
    "site_folders = {'US-UTD':'Dugout_Ranch',\n",
    "                'US-UTB':'BSF',\n",
    "                'US-UTJ':'Bluff',\n",
    "                'US-UTW':'Wellington',\n",
    "                'US-UTE':'Escalante',\n",
    "                'US-UTM':'Matheson',\n",
    "                'US-UTP':'Phrag',\n",
    "                'US-CdM':'Cedar_Mesa',\n",
    "                'US-UTV':'Desert_View_Myton',\n",
    "                'US-UTL':'Pelican_Lake',\n",
    "                }\n",
    "\n",
    "#stations = ['UTJ','UTV','UTP','UTW','UTM','CdM','UTL','UTE']\n",
    "#compdf = {}\n",
    "\n",
    "def stat_dl_con_ul(site_folders, engine):\n",
    "    for stationid, name in site_folders.items():\n",
    "        station = stationid.split('-')[-1]\n",
    "        for dat in ['eddy','met']:\n",
    "            if dat in config[station].keys():\n",
    "                stationtime, comptime = micromet.get_times(station, config, loggertype=dat)\n",
    "                am_df, pack_size = micromet.get_station_data(station, config, loggertype=dat)\n",
    "\n",
    "                if am_df is not None:\n",
    "                    am_df_filt = micromet.compare_sql_to_station(am_df, station, engine, loggertype=dat)\n",
    "                    mindate = am_df_filt['TIMESTAMP_START'].min()\n",
    "                    maxdate = am_df_filt['TIMESTAMP_START'].min()\n",
    "                    raw_len = len(am_df)\n",
    "                    am_df_len = len(am_df_filt)\n",
    "                    am_df_filt = am_df_filt.rename(columns=str.lower)\n",
    "                    am_df_filt.to_sql(f\"amflux{dat}\",con=engine, if_exists='append', index=False)\n",
    "                    # Define variable names and values\n",
    "                    variables = {'stationid' : stationid,\n",
    "                                 'talbetype' : dat,\n",
    "                                 'mindate' : mindate,\n",
    "                                 'maxdate' : maxdate,\n",
    "                                 'datasize_mb': pack_size,\n",
    "                                 'stationdf_len': raw_len,\n",
    "                                 'uploaddf_len': am_df_len,\n",
    "                                 }\n",
    "\n",
    "                    # Create a single-row dataframe\n",
    "                    df = pd.DataFrame([variables])\n",
    "                    df.to_sql(f\"uploadstats\", con=engine, if_exists='append', index=False)\n",
    "                    # Display the dataframe\n",
    "                else:\n",
    "                    mindate = None\n",
    "                    maxdate = None\n",
    "                    raw_len = None\n",
    "                    am_df_len = None\n",
    "\n",
    "                print(dat)\n",
    "                print(f\"Station {station}\")\n",
    "                print(f\"Mindate {mindate}  Maxdate {maxdate}\")\n",
    "                print(f\"data size = {pack_size}\")\n",
    "                print(f\"{am_df_len} vs {raw_len} rows\")\n",
    "\n",
    "\n",
    "\n",
    "\n"
   ],
   "id": "d8c97e91eefe2be0",
   "outputs": [],
   "execution_count": 1
  },
  {
   "metadata": {
    "ExecuteTime": {
     "end_time": "2025-01-23T19:45:17.763083Z",
     "start_time": "2025-01-23T19:45:17.757645Z"
    }
   },
   "cell_type": "code",
   "source": "len(response_1.content)*1E-6",
   "id": "67a2d6e0bedf0e4e",
   "outputs": [
    {
     "data": {
      "text/plain": [
       "3.783502"
      ]
     },
     "execution_count": 14,
     "metadata": {},
     "output_type": "execute_result"
    }
   ],
   "execution_count": 14
  },
  {
   "metadata": {
    "ExecuteTime": {
     "end_time": "2025-01-23T16:02:05.587460Z",
     "start_time": "2025-01-23T16:02:05.582180Z"
    }
   },
   "cell_type": "code",
   "source": [
    "mindate = am_df['TIMESTAMP_START'].min()\n",
    "maxdate = am_df['TIMESTAMP_START'].min()"
   ],
   "id": "ba490673bd9fa92e",
   "outputs": [
    {
     "data": {
      "text/plain": [
       "np.int64(202501160830)"
      ]
     },
     "execution_count": 9,
     "metadata": {},
     "output_type": "execute_result"
    }
   ],
   "execution_count": 9
  },
  {
   "metadata": {
    "ExecuteTime": {
     "end_time": "2025-01-23T19:25:01.805219Z",
     "start_time": "2025-01-23T19:25:01.497336Z"
    }
   },
   "cell_type": "code",
   "source": [
    "#http://192.168.4.14/?command=ClockCheck\n",
    "station = 'UTJ'\n",
    "ip = config[station]['ip']\n",
    "clk_url = f\"http://{ip}:{port}/?\"\n",
    "#url = f\"http://{ip}/tables.html?command=DataQuery&mode=since-record&format=toA5&uri=dl:Flux_AmeriFluxFormat&p1=0\"\n",
    "clk_args = {'command':'ClockCheck',\n",
    "        'uri':'dl',\n",
    "        'format':'json',\n",
    "        }\n",
    "clktimeresp = requests.get(clk_url, params=clk_args, auth=HTTPBasicAuth(config['LOGGER']['login'], config['LOGGER']['pw'])).json()\n",
    "if 'time' in clktimeresp.keys():\n",
    "    clktime = clktimeresp['time']\n",
    "else:\n",
    "    clktime = None\n",
    "\n",
    "comptime = f\"{datetime.datetime.now():%Y-%m-%d %H:%M:%S}\""
   ],
   "id": "c4935b25369d5040",
   "outputs": [],
   "execution_count": 5
  },
  {
   "metadata": {
    "ExecuteTime": {
     "end_time": "2025-01-23T19:25:14.149430Z",
     "start_time": "2025-01-23T19:25:14.142432Z"
    }
   },
   "cell_type": "code",
   "source": "comptime",
   "id": "b9257585fa8e3309",
   "outputs": [
    {
     "data": {
      "text/plain": [
       "'2025-01-23 12:25:01'"
      ]
     },
     "execution_count": 7,
     "metadata": {},
     "output_type": "execute_result"
    }
   ],
   "execution_count": 7
  },
  {
   "metadata": {
    "ExecuteTime": {
     "end_time": "2025-01-23T19:33:14.179687Z",
     "start_time": "2025-01-23T19:32:46.474604Z"
    }
   },
   "cell_type": "code",
   "source": [
    "station = 'UTE'\n",
    "ip = config[station]['ip']\n",
    "port = config[station]['met']\n",
    "url = f\"http://{ip}:{port}/tables.html?\"\n",
    "params = {'command':'DataQuery',\n",
    "          'mode':'since-record',\n",
    "          'format':'toA5',\n",
    "          'uri':'dl:Statistics_AmeriFlux',\n",
    "          'p1':0,\n",
    "          }\n",
    "response_1 = requests.get(url, params=params ,auth=HTTPBasicAuth(config['LOGGER']['login'], config['LOGGER']['pw']))\n",
    "if response_1.status_code == 200:\n",
    "    headers = pd.read_csv(BytesIO(response_1.content),skiprows=[0]).iloc[0:2,:].T\n",
    "    raw_data = pd.read_csv(BytesIO(response_1.content),skiprows=[0,2,3])\n",
    "\n"
   ],
   "id": "27437da798c677dc",
   "outputs": [],
   "execution_count": 11
  },
  {
   "metadata": {
    "ExecuteTime": {
     "end_time": "2025-01-23T19:33:44.165307Z",
     "start_time": "2025-01-23T19:33:44.140307Z"
    }
   },
   "cell_type": "code",
   "source": "raw_data",
   "id": "743d4a1cfce33d47",
   "outputs": [
    {
     "data": {
      "text/plain": [
       "                TIMESTAMP  RECORD  TIMESTAMP_START  TIMESTAMP_END       ALB  \\\n",
       "0     2024-03-12 09:30:00       0     202403120919   202403120930  18.49048   \n",
       "1     2024-03-12 10:00:00       1     202403120930   202403121000  19.33819   \n",
       "2     2024-03-12 10:30:00       2     202403121000   202403121030  15.04910   \n",
       "3     2024-03-12 11:00:00       3     202403121030   202403121100  23.07624   \n",
       "4     2024-03-12 11:30:00       4     202403121100   202403121130  24.28172   \n",
       "...                   ...     ...              ...            ...       ...   \n",
       "8040  2025-01-23 02:30:00    8040     202501230200   202501230230   0.00000   \n",
       "8041  2025-01-23 03:00:00    8041     202501230230   202501230300   0.00000   \n",
       "8042  2025-01-23 03:30:00    8042     202501230300   202501230330   0.00000   \n",
       "8043  2025-01-23 04:00:00    8043     202501230330   202501230400   0.00000   \n",
       "8044  2025-01-23 04:30:00    8044     202501230400   202501230430   0.00000   \n",
       "\n",
       "        NETRAD       SW_IN     SW_OUT     LW_IN    LW_OUT  ...        WS  \\\n",
       "0    -21.39694   30.728240   5.684656  401.7438  448.1842  ...  9.532032   \n",
       "1    -14.17144   35.109390   6.790694  402.3058  444.7959  ...  7.415333   \n",
       "2     15.07617   46.988440   7.859250  399.5011  423.5542  ...  3.388243   \n",
       "3     58.11319  123.988300  28.730390  388.8729  426.0176  ...  5.368657   \n",
       "4     63.82758  147.530400  35.854500  382.3825  430.2309  ...  4.270786   \n",
       "...        ...         ...        ...       ...       ...  ...       ...   \n",
       "8040 -78.22307   -1.007444  -0.107667  177.3601  254.6834  ...  1.642534   \n",
       "8041 -74.94375   -0.940555  -0.186000  175.9579  250.1471  ...  1.154821   \n",
       "8042 -73.59842   -0.973944  -0.162778  174.6615  247.4488  ...  1.414738   \n",
       "8043 -71.05519   -0.898167  -0.135306  172.6765  242.9689  ...  1.306557   \n",
       "8044 -72.01766   -0.851750  -0.199861  173.3235  244.6893  ...  1.161299   \n",
       "\n",
       "             WD  LWmV_1_1_1 LWMDry_1_1_1 LWMCon_1_1_1 LWMWet_1_1_1 LWmV_1_1_2  \\\n",
       "0     314.95310    258.8016     36.38889     0.000000      0.00000   258.5672   \n",
       "1     334.09340    259.4499    100.00000     0.000000      0.00000   259.2029   \n",
       "2     319.68610    287.1852     41.38889     7.777778     50.83333   272.3126   \n",
       "3     317.82870    263.7308     84.72222     7.777778      7.50000   260.6151   \n",
       "4     298.74190    258.9477    100.00000     0.000000      0.00000   260.2029   \n",
       "...         ...         ...          ...          ...          ...        ...   \n",
       "8040  148.68750    263.5028    100.00000     0.000000      0.00000   263.1570   \n",
       "8041   48.70794    263.5890    100.00000     0.000000      0.00000   263.3429   \n",
       "8042  212.45710    263.9224    100.00000     0.000000      0.00000   263.5649   \n",
       "8043   62.15498    264.2498    100.00000     0.000000      0.00000   263.8954   \n",
       "8044  126.86070    264.2292    100.00000     0.000000      0.00000   263.8054   \n",
       "\n",
       "     LWMDry_1_1_2 LWMCon_1_1_2 LWMWet_1_1_2  \n",
       "0        36.38889      0.00000      0.00000  \n",
       "1       100.00000      0.00000      0.00000  \n",
       "2        62.50000     14.72222     22.77778  \n",
       "3       100.00000      0.00000      0.00000  \n",
       "4       100.00000      0.00000      0.00000  \n",
       "...           ...          ...          ...  \n",
       "8040    100.00000      0.00000      0.00000  \n",
       "8041    100.00000      0.00000      0.00000  \n",
       "8042    100.00000      0.00000      0.00000  \n",
       "8043    100.00000      0.00000      0.00000  \n",
       "8044    100.00000      0.00000      0.00000  \n",
       "\n",
       "[8045 rows x 59 columns]"
      ],
      "text/html": [
       "<div>\n",
       "<style scoped>\n",
       "    .dataframe tbody tr th:only-of-type {\n",
       "        vertical-align: middle;\n",
       "    }\n",
       "\n",
       "    .dataframe tbody tr th {\n",
       "        vertical-align: top;\n",
       "    }\n",
       "\n",
       "    .dataframe thead th {\n",
       "        text-align: right;\n",
       "    }\n",
       "</style>\n",
       "<table border=\"1\" class=\"dataframe\">\n",
       "  <thead>\n",
       "    <tr style=\"text-align: right;\">\n",
       "      <th></th>\n",
       "      <th>TIMESTAMP</th>\n",
       "      <th>RECORD</th>\n",
       "      <th>TIMESTAMP_START</th>\n",
       "      <th>TIMESTAMP_END</th>\n",
       "      <th>ALB</th>\n",
       "      <th>NETRAD</th>\n",
       "      <th>SW_IN</th>\n",
       "      <th>SW_OUT</th>\n",
       "      <th>LW_IN</th>\n",
       "      <th>LW_OUT</th>\n",
       "      <th>...</th>\n",
       "      <th>WS</th>\n",
       "      <th>WD</th>\n",
       "      <th>LWmV_1_1_1</th>\n",
       "      <th>LWMDry_1_1_1</th>\n",
       "      <th>LWMCon_1_1_1</th>\n",
       "      <th>LWMWet_1_1_1</th>\n",
       "      <th>LWmV_1_1_2</th>\n",
       "      <th>LWMDry_1_1_2</th>\n",
       "      <th>LWMCon_1_1_2</th>\n",
       "      <th>LWMWet_1_1_2</th>\n",
       "    </tr>\n",
       "  </thead>\n",
       "  <tbody>\n",
       "    <tr>\n",
       "      <th>0</th>\n",
       "      <td>2024-03-12 09:30:00</td>\n",
       "      <td>0</td>\n",
       "      <td>202403120919</td>\n",
       "      <td>202403120930</td>\n",
       "      <td>18.49048</td>\n",
       "      <td>-21.39694</td>\n",
       "      <td>30.728240</td>\n",
       "      <td>5.684656</td>\n",
       "      <td>401.7438</td>\n",
       "      <td>448.1842</td>\n",
       "      <td>...</td>\n",
       "      <td>9.532032</td>\n",
       "      <td>314.95310</td>\n",
       "      <td>258.8016</td>\n",
       "      <td>36.38889</td>\n",
       "      <td>0.000000</td>\n",
       "      <td>0.00000</td>\n",
       "      <td>258.5672</td>\n",
       "      <td>36.38889</td>\n",
       "      <td>0.00000</td>\n",
       "      <td>0.00000</td>\n",
       "    </tr>\n",
       "    <tr>\n",
       "      <th>1</th>\n",
       "      <td>2024-03-12 10:00:00</td>\n",
       "      <td>1</td>\n",
       "      <td>202403120930</td>\n",
       "      <td>202403121000</td>\n",
       "      <td>19.33819</td>\n",
       "      <td>-14.17144</td>\n",
       "      <td>35.109390</td>\n",
       "      <td>6.790694</td>\n",
       "      <td>402.3058</td>\n",
       "      <td>444.7959</td>\n",
       "      <td>...</td>\n",
       "      <td>7.415333</td>\n",
       "      <td>334.09340</td>\n",
       "      <td>259.4499</td>\n",
       "      <td>100.00000</td>\n",
       "      <td>0.000000</td>\n",
       "      <td>0.00000</td>\n",
       "      <td>259.2029</td>\n",
       "      <td>100.00000</td>\n",
       "      <td>0.00000</td>\n",
       "      <td>0.00000</td>\n",
       "    </tr>\n",
       "    <tr>\n",
       "      <th>2</th>\n",
       "      <td>2024-03-12 10:30:00</td>\n",
       "      <td>2</td>\n",
       "      <td>202403121000</td>\n",
       "      <td>202403121030</td>\n",
       "      <td>15.04910</td>\n",
       "      <td>15.07617</td>\n",
       "      <td>46.988440</td>\n",
       "      <td>7.859250</td>\n",
       "      <td>399.5011</td>\n",
       "      <td>423.5542</td>\n",
       "      <td>...</td>\n",
       "      <td>3.388243</td>\n",
       "      <td>319.68610</td>\n",
       "      <td>287.1852</td>\n",
       "      <td>41.38889</td>\n",
       "      <td>7.777778</td>\n",
       "      <td>50.83333</td>\n",
       "      <td>272.3126</td>\n",
       "      <td>62.50000</td>\n",
       "      <td>14.72222</td>\n",
       "      <td>22.77778</td>\n",
       "    </tr>\n",
       "    <tr>\n",
       "      <th>3</th>\n",
       "      <td>2024-03-12 11:00:00</td>\n",
       "      <td>3</td>\n",
       "      <td>202403121030</td>\n",
       "      <td>202403121100</td>\n",
       "      <td>23.07624</td>\n",
       "      <td>58.11319</td>\n",
       "      <td>123.988300</td>\n",
       "      <td>28.730390</td>\n",
       "      <td>388.8729</td>\n",
       "      <td>426.0176</td>\n",
       "      <td>...</td>\n",
       "      <td>5.368657</td>\n",
       "      <td>317.82870</td>\n",
       "      <td>263.7308</td>\n",
       "      <td>84.72222</td>\n",
       "      <td>7.777778</td>\n",
       "      <td>7.50000</td>\n",
       "      <td>260.6151</td>\n",
       "      <td>100.00000</td>\n",
       "      <td>0.00000</td>\n",
       "      <td>0.00000</td>\n",
       "    </tr>\n",
       "    <tr>\n",
       "      <th>4</th>\n",
       "      <td>2024-03-12 11:30:00</td>\n",
       "      <td>4</td>\n",
       "      <td>202403121100</td>\n",
       "      <td>202403121130</td>\n",
       "      <td>24.28172</td>\n",
       "      <td>63.82758</td>\n",
       "      <td>147.530400</td>\n",
       "      <td>35.854500</td>\n",
       "      <td>382.3825</td>\n",
       "      <td>430.2309</td>\n",
       "      <td>...</td>\n",
       "      <td>4.270786</td>\n",
       "      <td>298.74190</td>\n",
       "      <td>258.9477</td>\n",
       "      <td>100.00000</td>\n",
       "      <td>0.000000</td>\n",
       "      <td>0.00000</td>\n",
       "      <td>260.2029</td>\n",
       "      <td>100.00000</td>\n",
       "      <td>0.00000</td>\n",
       "      <td>0.00000</td>\n",
       "    </tr>\n",
       "    <tr>\n",
       "      <th>...</th>\n",
       "      <td>...</td>\n",
       "      <td>...</td>\n",
       "      <td>...</td>\n",
       "      <td>...</td>\n",
       "      <td>...</td>\n",
       "      <td>...</td>\n",
       "      <td>...</td>\n",
       "      <td>...</td>\n",
       "      <td>...</td>\n",
       "      <td>...</td>\n",
       "      <td>...</td>\n",
       "      <td>...</td>\n",
       "      <td>...</td>\n",
       "      <td>...</td>\n",
       "      <td>...</td>\n",
       "      <td>...</td>\n",
       "      <td>...</td>\n",
       "      <td>...</td>\n",
       "      <td>...</td>\n",
       "      <td>...</td>\n",
       "      <td>...</td>\n",
       "    </tr>\n",
       "    <tr>\n",
       "      <th>8040</th>\n",
       "      <td>2025-01-23 02:30:00</td>\n",
       "      <td>8040</td>\n",
       "      <td>202501230200</td>\n",
       "      <td>202501230230</td>\n",
       "      <td>0.00000</td>\n",
       "      <td>-78.22307</td>\n",
       "      <td>-1.007444</td>\n",
       "      <td>-0.107667</td>\n",
       "      <td>177.3601</td>\n",
       "      <td>254.6834</td>\n",
       "      <td>...</td>\n",
       "      <td>1.642534</td>\n",
       "      <td>148.68750</td>\n",
       "      <td>263.5028</td>\n",
       "      <td>100.00000</td>\n",
       "      <td>0.000000</td>\n",
       "      <td>0.00000</td>\n",
       "      <td>263.1570</td>\n",
       "      <td>100.00000</td>\n",
       "      <td>0.00000</td>\n",
       "      <td>0.00000</td>\n",
       "    </tr>\n",
       "    <tr>\n",
       "      <th>8041</th>\n",
       "      <td>2025-01-23 03:00:00</td>\n",
       "      <td>8041</td>\n",
       "      <td>202501230230</td>\n",
       "      <td>202501230300</td>\n",
       "      <td>0.00000</td>\n",
       "      <td>-74.94375</td>\n",
       "      <td>-0.940555</td>\n",
       "      <td>-0.186000</td>\n",
       "      <td>175.9579</td>\n",
       "      <td>250.1471</td>\n",
       "      <td>...</td>\n",
       "      <td>1.154821</td>\n",
       "      <td>48.70794</td>\n",
       "      <td>263.5890</td>\n",
       "      <td>100.00000</td>\n",
       "      <td>0.000000</td>\n",
       "      <td>0.00000</td>\n",
       "      <td>263.3429</td>\n",
       "      <td>100.00000</td>\n",
       "      <td>0.00000</td>\n",
       "      <td>0.00000</td>\n",
       "    </tr>\n",
       "    <tr>\n",
       "      <th>8042</th>\n",
       "      <td>2025-01-23 03:30:00</td>\n",
       "      <td>8042</td>\n",
       "      <td>202501230300</td>\n",
       "      <td>202501230330</td>\n",
       "      <td>0.00000</td>\n",
       "      <td>-73.59842</td>\n",
       "      <td>-0.973944</td>\n",
       "      <td>-0.162778</td>\n",
       "      <td>174.6615</td>\n",
       "      <td>247.4488</td>\n",
       "      <td>...</td>\n",
       "      <td>1.414738</td>\n",
       "      <td>212.45710</td>\n",
       "      <td>263.9224</td>\n",
       "      <td>100.00000</td>\n",
       "      <td>0.000000</td>\n",
       "      <td>0.00000</td>\n",
       "      <td>263.5649</td>\n",
       "      <td>100.00000</td>\n",
       "      <td>0.00000</td>\n",
       "      <td>0.00000</td>\n",
       "    </tr>\n",
       "    <tr>\n",
       "      <th>8043</th>\n",
       "      <td>2025-01-23 04:00:00</td>\n",
       "      <td>8043</td>\n",
       "      <td>202501230330</td>\n",
       "      <td>202501230400</td>\n",
       "      <td>0.00000</td>\n",
       "      <td>-71.05519</td>\n",
       "      <td>-0.898167</td>\n",
       "      <td>-0.135306</td>\n",
       "      <td>172.6765</td>\n",
       "      <td>242.9689</td>\n",
       "      <td>...</td>\n",
       "      <td>1.306557</td>\n",
       "      <td>62.15498</td>\n",
       "      <td>264.2498</td>\n",
       "      <td>100.00000</td>\n",
       "      <td>0.000000</td>\n",
       "      <td>0.00000</td>\n",
       "      <td>263.8954</td>\n",
       "      <td>100.00000</td>\n",
       "      <td>0.00000</td>\n",
       "      <td>0.00000</td>\n",
       "    </tr>\n",
       "    <tr>\n",
       "      <th>8044</th>\n",
       "      <td>2025-01-23 04:30:00</td>\n",
       "      <td>8044</td>\n",
       "      <td>202501230400</td>\n",
       "      <td>202501230430</td>\n",
       "      <td>0.00000</td>\n",
       "      <td>-72.01766</td>\n",
       "      <td>-0.851750</td>\n",
       "      <td>-0.199861</td>\n",
       "      <td>173.3235</td>\n",
       "      <td>244.6893</td>\n",
       "      <td>...</td>\n",
       "      <td>1.161299</td>\n",
       "      <td>126.86070</td>\n",
       "      <td>264.2292</td>\n",
       "      <td>100.00000</td>\n",
       "      <td>0.000000</td>\n",
       "      <td>0.00000</td>\n",
       "      <td>263.8054</td>\n",
       "      <td>100.00000</td>\n",
       "      <td>0.00000</td>\n",
       "      <td>0.00000</td>\n",
       "    </tr>\n",
       "  </tbody>\n",
       "</table>\n",
       "<p>8045 rows × 59 columns</p>\n",
       "</div>"
      ]
     },
     "execution_count": 12,
     "metadata": {},
     "output_type": "execute_result"
    }
   ],
   "execution_count": 12
  }
 ],
 "metadata": {
  "kernelspec": {
   "display_name": "Python 3",
   "language": "python",
   "name": "python3"
  },
  "language_info": {
   "codemirror_mode": {
    "name": "ipython",
    "version": 2
   },
   "file_extension": ".py",
   "mimetype": "text/x-python",
   "name": "python",
   "nbconvert_exporter": "python",
   "pygments_lexer": "ipython2",
   "version": "2.7.6"
  }
 },
 "nbformat": 4,
 "nbformat_minor": 5
}
