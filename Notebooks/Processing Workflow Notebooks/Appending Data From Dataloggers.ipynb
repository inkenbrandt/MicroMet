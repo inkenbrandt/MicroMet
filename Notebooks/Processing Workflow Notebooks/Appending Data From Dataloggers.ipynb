{
 "cells": [
  {
   "metadata": {},
   "cell_type": "markdown",
   "source": "# Imports",
   "id": "7d34b5305f4414d6"
  },
  {
   "metadata": {},
   "cell_type": "markdown",
   "source": "## Dependencies",
   "id": "d20186a65e84c3c3"
  },
  {
   "metadata": {
    "collapsed": true,
    "ExecuteTime": {
     "end_time": "2025-01-23T14:24:34.726317Z",
     "start_time": "2025-01-23T14:24:34.267702Z"
    }
   },
   "cell_type": "code",
   "source": [
    "import requests\n",
    "from requests.auth import HTTPBasicAuth\n",
    "import pandas as pd\n",
    "from io import BytesIO\n",
    "import numpy as np\n",
    "import configparser\n",
    "import sys"
   ],
   "id": "initial_id",
   "outputs": [],
   "execution_count": 3
  },
  {
   "metadata": {},
   "cell_type": "markdown",
   "source": "## Micromet",
   "id": "946b4c2b060c12e4"
  },
  {
   "metadata": {
    "ExecuteTime": {
     "end_time": "2025-01-23T14:24:37.602743Z",
     "start_time": "2025-01-23T14:24:35.842812Z"
    }
   },
   "cell_type": "code",
   "source": [
    "#sys.path.append(\"G:/Shared drives/UGS_Flux/Data_Processing/Jupyter_Notebooks/MicroMet\")\n",
    "#sys.path.append(\"C:/Users/kladig/Documents/GitHub/MicroMet\")\n",
    "sys.path.append(\"../..\")\n",
    "import micromet"
   ],
   "id": "2ef51b0702bf5e57",
   "outputs": [],
   "execution_count": 4
  },
  {
   "metadata": {},
   "cell_type": "markdown",
   "source": "## Connection info and Config",
   "id": "2d5eebb78d0a6ad5"
  },
  {
   "metadata": {
    "ExecuteTime": {
     "end_time": "2025-01-23T14:24:39.727330Z",
     "start_time": "2025-01-23T14:24:39.420495Z"
    }
   },
   "cell_type": "code",
   "source": [
    "config = configparser.ConfigParser()\n",
    "\n",
    "config.read('../../secrets/config.ini')\n",
    "\n",
    "from sqlalchemy import create_engine\n",
    "import urllib.parse\n",
    "host = config['DEFAULT']['ip']\n",
    "pw = config['DEFAULT']['pw']\n",
    "user = config['DEFAULT']['login']\n",
    "\n",
    "encoded_password = urllib.parse.quote_plus(pw)\n",
    "\n",
    "def postconn_et(encoded_password, host='localhost',user='postgres',port='5432',db='groundwater', schema = 'groundwater'):\n",
    "    connection_text = \"postgresql+psycopg2://{:}:{:}@{:}:{:}/{:}?gssencmode=disable\".format(user,encoded_password,host,port,db)\n",
    "    return create_engine(connection_text, connect_args={'options': '-csearch_path={}'.format(schema)})\n",
    "\n",
    "\n",
    "engine = postconn_et(encoded_password, host=host, user=user)"
   ],
   "id": "425153414bebd44c",
   "outputs": [],
   "execution_count": 5
  },
  {
   "metadata": {},
   "cell_type": "markdown",
   "source": "# Pull From Each Datalogger Using the CS Datalogger API",
   "id": "56bf49c8c07a501"
  },
  {
   "metadata": {},
   "cell_type": "markdown",
   "source": "https://help.campbellsci.com/crbasic/cr1000x/Content/Info/webserverapicommands1.htm",
   "id": "520cd4b8dbf07fd0"
  },
  {
   "metadata": {
    "ExecuteTime": {
     "end_time": "2025-01-23T14:24:46.959766Z",
     "start_time": "2025-01-23T14:24:46.536508Z"
    }
   },
   "cell_type": "code",
   "source": [
    "site_folders = {#'US-UTD':'Dugout_Ranch',\n",
    "                #'US-UTB':'BSF',\n",
    "                #'US-UTJ':'Bluff',\n",
    "                #'US-UTW':'Wellington',\n",
    "                #'US-UTE':'Escalante',\n",
    "                #'US-UTM':'Matheson',\n",
    "                #'US-UTP':'Phrag',\n",
    "                'US-CdM':'Cedar_Mesa',\n",
    "                #'US-UTV':'Desert_View_Myton',\n",
    "                #'US-UTL':'Pelican_Lake',\n",
    "                }\n",
    "\n",
    "#stations = ['UTJ','UTV','UTP','UTW','UTM','CdM','UTL','UTE']\n",
    "compdf = {}\n",
    "for stationid,name in site_folders.items():\n",
    "    station = stationid.split('-')[-1]\n",
    "    if 'eddy' in config[station].keys():\n",
    "        ip = config[station]['ip']\n",
    "        url = f\"http://{ip}/tables.html?command=DataQuery&mode=since-record&format=toA5&uri=dl:Flux_AmeriFluxFormat&p1=0\"\n",
    "\n",
    "        response_1 = requests.get(url, auth=HTTPBasicAuth(config['LOGGER']['login'], config['LOGGER']['pw']))\n",
    "        if response_1.status_code == 200:\n",
    "            headers = pd.read_csv(BytesIO(response_1.content),skiprows=[0]).iloc[0:2,:].T\n",
    "            raw_data = pd.read_csv(BytesIO(response_1.content),skiprows=[0,2,3])\n",
    "            #raw_fold = pathlib.Path('G:/Shared drives/UGS_Flux/Data_Downloads/')\n",
    "            amflux_out = 'G:/Shared drives/UGS_Flux/Data_Processing/Ameriflux/'\n",
    "\n",
    "            if raw_data is not None:\n",
    "                am_data = micromet.Reformatter(raw_data)\n",
    "            am_df = am_data.et_data\n",
    "            compdf[stationid] = am_df\n",
    "            micromet.outfile(am_df, stationid, amflux_out)\n",
    "        else:\n",
    "            print(response_1.status_code)\n",
    "        #if 'met' in config[station].keys():\n",
    "        print(station)\n",
    "\n",
    "#url = \"http://63.46.183.137:38000/tables.html?command=DataQuery&mode=since-record&format=toA5&uri=dl:Flux_AmeriFluxFormat&p1=0\""
   ],
   "id": "d8c97e91eefe2be0",
   "outputs": [
    {
     "name": "stdout",
     "output_type": "stream",
     "text": [
      "403\n",
      "CdM\n"
     ]
    }
   ],
   "execution_count": 6
  },
  {
   "metadata": {
    "ExecuteTime": {
     "end_time": "2025-01-23T14:32:00.019821Z",
     "start_time": "2025-01-23T14:31:59.413084Z"
    }
   },
   "cell_type": "code",
   "source": [
    "#http://192.168.4.14/?command=ClockCheck\n",
    "station = 'UTJ'\n",
    "ip = config[station]['ip']\n",
    "url = f\"http://{ip}/?\"\n",
    "#url = f\"http://{ip}/tables.html?command=DataQuery&mode=since-record&format=toA5&uri=dl:Flux_AmeriFluxFormat&p1=0\"\n",
    "args = {'command':'ClockCheck',\n",
    "        'uri':'dl',\n",
    "        'format':'json',\n",
    "        }\n",
    "response_1 = requests.get(url, params=args, auth=HTTPBasicAuth(config['LOGGER']['login'], config['LOGGER']['pw']))"
   ],
   "id": "c4935b25369d5040",
   "outputs": [],
   "execution_count": 18
  },
  {
   "metadata": {
    "ExecuteTime": {
     "end_time": "2025-01-23T14:32:02.828519Z",
     "start_time": "2025-01-23T14:32:02.823269Z"
    }
   },
   "cell_type": "code",
   "source": "response_1.json()",
   "id": "b9257585fa8e3309",
   "outputs": [
    {
     "data": {
      "text/plain": [
       "{'outcome': 1,\n",
       " 'time': '2025-01-23T07:31:59.94',\n",
       " 'description': 'The clock was checked'}"
      ]
     },
     "execution_count": 19,
     "metadata": {},
     "output_type": "execute_result"
    }
   ],
   "execution_count": 19
  },
  {
   "metadata": {},
   "cell_type": "code",
   "outputs": [],
   "execution_count": null,
   "source": "",
   "id": "27437da798c677dc"
  }
 ],
 "metadata": {
  "kernelspec": {
   "display_name": "Python 3",
   "language": "python",
   "name": "python3"
  },
  "language_info": {
   "codemirror_mode": {
    "name": "ipython",
    "version": 2
   },
   "file_extension": ".py",
   "mimetype": "text/x-python",
   "name": "python",
   "nbconvert_exporter": "python",
   "pygments_lexer": "ipython2",
   "version": "2.7.6"
  }
 },
 "nbformat": 4,
 "nbformat_minor": 5
}
