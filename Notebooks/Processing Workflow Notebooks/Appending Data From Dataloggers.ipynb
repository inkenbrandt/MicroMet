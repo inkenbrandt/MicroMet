{
 "cells": [
  {
   "cell_type": "markdown",
   "id": "7d34b5305f4414d6",
   "metadata": {},
   "source": [
    "# Imports"
   ]
  },
  {
   "cell_type": "markdown",
   "id": "d20186a65e84c3c3",
   "metadata": {},
   "source": [
    "## Dependencies"
   ]
  },
  {
   "cell_type": "code",
   "execution_count": 1,
   "id": "initial_id",
   "metadata": {
    "ExecuteTime": {
     "end_time": "2025-02-06T21:40:22.119227Z",
     "start_time": "2025-02-06T21:40:22.114227Z"
    },
    "collapsed": true
   },
   "outputs": [],
   "source": [
    "import requests\n",
    "from requests.auth import HTTPBasicAuth\n",
    "import pandas as pd\n",
    "from io import BytesIO\n",
    "import datetime\n",
    "import numpy as np\n",
    "import configparser\n",
    "import sys"
   ]
  },
  {
   "cell_type": "code",
   "execution_count": null,
   "id": "1883a7c8775bb818",
   "metadata": {
    "ExecuteTime": {
     "end_time": "2025-02-06T21:40:24.179401Z",
     "start_time": "2025-02-06T21:40:24.175888Z"
    }
   },
   "outputs": [],
   "source": []
  },
  {
   "cell_type": "markdown",
   "id": "946b4c2b060c12e4",
   "metadata": {},
   "source": [
    "## Micromet"
   ]
  },
  {
   "cell_type": "code",
   "execution_count": 2,
   "id": "2ef51b0702bf5e57",
   "metadata": {
    "ExecuteTime": {
     "end_time": "2025-02-06T21:40:25.519002Z",
     "start_time": "2025-02-06T21:40:25.514003Z"
    }
   },
   "outputs": [],
   "source": [
    "#sys.path.append(\"G:/Shared drives/UGS_Flux/Data_Processing/Jupyter_Notebooks/MicroMet\")\n",
    "#sys.path.append(\"C:/Users/kladig/Documents/GitHub/MicroMet\")\n",
    "sys.path.append(\"../..\")\n",
    "import micromet"
   ]
  },
  {
   "cell_type": "markdown",
   "id": "2d5eebb78d0a6ad5",
   "metadata": {},
   "source": [
    "## Connection info and Config"
   ]
  },
  {
   "cell_type": "code",
   "execution_count": null,
   "id": "425153414bebd44c",
   "metadata": {
    "ExecuteTime": {
     "end_time": "2025-02-06T21:38:57.856512Z",
     "start_time": "2025-02-06T21:38:57.742101Z"
    }
   },
   "outputs": [],
   "source": [
    "config = configparser.ConfigParser()\n",
    "\n",
    "config.read('../../secrets/config.ini')\n",
    "\n",
    "from sqlalchemy import create_engine\n",
    "import urllib.parse\n",
    "host = config['DEFAULT']['ip']\n",
    "pw = config['DEFAULT']['pw']\n",
    "user = config['DEFAULT']['login']\n",
    "\n",
    "encoded_password = urllib.parse.quote_plus(pw)\n",
    "\n",
    "def postconn_et(encoded_password, host='localhost',user='postgres',port='5432',db='groundwater', schema = 'groundwater'):\n",
    "    connection_text = \"postgresql+psycopg2://{:}:{:}@{:}:{:}/{:}?gssencmode=disable\".format(user,encoded_password,host,port,db)\n",
    "    return create_engine(connection_text, connect_args={'options': '-csearch_path={}'.format(schema)})\n",
    "\n",
    "\n",
    "engine = postconn_et(encoded_password, host=host, user=user)"
   ]
  },
  {
   "cell_type": "code",
   "execution_count": null,
   "id": "d048867ae5f232c4",
   "metadata": {
    "ExecuteTime": {
     "end_time": "2025-02-06T21:40:16.854819Z",
     "start_time": "2025-02-06T21:40:16.850818Z"
    }
   },
   "outputs": [],
   "source": [
    "manager = micromet.StationDataManager(config, engine)"
   ]
  },
  {
   "cell_type": "code",
   "execution_count": null,
   "id": "469fd650ad3bbb8d",
   "metadata": {
    "ExecuteTime": {
     "end_time": "2025-02-06T21:42:03.602153Z",
     "start_time": "2025-02-06T21:40:31.694729Z"
    }
   },
   "outputs": [],
   "source": [
    "\n",
    "\n",
    "# Process data for all stations\n",
    "site_folders = {#'US-UTD':'Dugout_Ranch',\n",
    "                'US-UTB':'BSF',\n",
    "                'US-UTJ':'Bluff',\n",
    "                'US-UTW':'Wellington',\n",
    "                'US-UTE':'Escalante',\n",
    "                'US-UTM':'Matheson',\n",
    "                'US-UTP':'Phrag',\n",
    "                'US-CdM':'Cedar_Mesa',\n",
    "                'US-UTV':'Desert_View_Myton',\n",
    "                'US-UTL':'Pelican_Lake',\n",
    "                }\n",
    "manager.process_station_data(site_folders)"
   ]
  },
  {
   "cell_type": "markdown",
   "id": "56bf49c8c07a501",
   "metadata": {},
   "source": [
    "# Pull From Each Datalogger Using the CS Datalogger API"
   ]
  },
  {
   "cell_type": "markdown",
   "id": "520cd4b8dbf07fd0",
   "metadata": {},
   "source": [
    "https://help.campbellsci.com/crbasic/cr1000x/Content/Info/webserverapicommands1.htm"
   ]
  },
  {
   "cell_type": "code",
   "execution_count": null,
   "id": "400ff0d02bb95c01",
   "metadata": {
    "ExecuteTime": {
     "end_time": "2025-01-26T17:30:45.360448Z",
     "start_time": "2025-01-26T17:29:35.496574Z"
    }
   },
   "outputs": [],
   "source": [
    "site_folders = {#'US-UTD':'Dugout_Ranch',\n",
    "                'US-UTB':'BSF',\n",
    "                'US-UTJ':'Bluff',\n",
    "                'US-UTW':'Wellington',\n",
    "                'US-UTE':'Escalante',\n",
    "                'US-UTM':'Matheson',\n",
    "                'US-UTP':'Phrag',\n",
    "                'US-CdM':'Cedar_Mesa',\n",
    "                'US-UTV':'Desert_View_Myton',\n",
    "                'US-UTL':'Pelican_Lake',\n",
    "                }\n",
    "\n",
    "micromet.stat_dl_con_ul(site_folders, config, engine)"
   ]
  },
  {
   "cell_type": "code",
   "execution_count": null,
   "id": "d8c97e91eefe2be0",
   "metadata": {
    "ExecuteTime": {
     "end_time": "2025-01-26T17:28:53.717773Z",
     "start_time": "2025-01-26T17:28:53.708776Z"
    }
   },
   "outputs": [],
   "source": [
    "site_folders = {'US-UTD':'Dugout_Ranch',\n",
    "                'US-UTB':'BSF',\n",
    "                'US-UTJ':'Bluff',\n",
    "                'US-UTW':'Wellington',\n",
    "                'US-UTE':'Escalante',\n",
    "                'US-UTM':'Matheson',\n",
    "                'US-UTP':'Phrag',\n",
    "                'US-CdM':'Cedar_Mesa',\n",
    "                'US-UTV':'Desert_View_Myton',\n",
    "                'US-UTL':'Pelican_Lake',\n",
    "                }\n",
    "\n",
    "#stations = ['UTJ','UTV','UTP','UTW','UTM','CdM','UTL','UTE']\n",
    "#compdf = {}\n",
    "\n",
    "def stat_dl_con_ul(site_folders, engine):\n",
    "    for stationid, name in site_folders.items():\n",
    "        station = stationid.split('-')[-1]\n",
    "        for dat in ['eddy','met']:\n",
    "            if dat in config[station].keys():\n",
    "                stationtime, comptime = micromet.get_times(station, config, loggertype=dat)\n",
    "                am_df, pack_size = micromet.get_station_data(station, config, loggertype=dat)\n",
    "\n",
    "                if am_df is not None:\n",
    "                    am_df_filt = micromet.compare_sql_to_station(am_df, station, engine, loggertype=dat)\n",
    "                    mindate = am_df_filt['TIMESTAMP_START'].min()\n",
    "                    maxdate = am_df_filt['TIMESTAMP_START'].min()\n",
    "                    raw_len = len(am_df)\n",
    "                    am_df_len = len(am_df_filt)\n",
    "                    am_df_filt = am_df_filt.rename(columns=str.lower)\n",
    "                    am_df_filt.to_sql(f\"amflux{dat}\",con=engine, if_exists='append', index=False)\n",
    "                    # Define variable names and values\n",
    "                    variables = {'stationid' : stationid,\n",
    "                                 'talbetype' : dat,\n",
    "                                 'mindate' : mindate,\n",
    "                                 'maxdate' : maxdate,\n",
    "                                 'datasize_mb': pack_size,\n",
    "                                 'stationdf_len': raw_len,\n",
    "                                 'uploaddf_len': am_df_len,\n",
    "                                 }\n",
    "\n",
    "                    # Create a single-row dataframe\n",
    "                    df = pd.DataFrame([variables])\n",
    "                    df.to_sql(f\"uploadstats\", con=engine, if_exists='append', index=False)\n",
    "                    # Display the dataframe\n",
    "                else:\n",
    "                    mindate = None\n",
    "                    maxdate = None\n",
    "                    raw_len = None\n",
    "                    am_df_len = None\n",
    "\n",
    "                print(dat)\n",
    "                print(f\"Station {station}\")\n",
    "                print(f\"Mindate {mindate}  Maxdate {maxdate}\")\n",
    "                print(f\"data size = {pack_size}\")\n",
    "                print(f\"{am_df_len} vs {raw_len} rows\")\n",
    "\n",
    "\n",
    "\n",
    "\n"
   ]
  },
  {
   "cell_type": "code",
   "execution_count": null,
   "id": "67a2d6e0bedf0e4e",
   "metadata": {
    "ExecuteTime": {
     "end_time": "2025-01-23T19:45:17.763083Z",
     "start_time": "2025-01-23T19:45:17.757645Z"
    }
   },
   "outputs": [],
   "source": [
    "len(response_1.content)*1E-6"
   ]
  },
  {
   "cell_type": "code",
   "execution_count": null,
   "id": "ba490673bd9fa92e",
   "metadata": {
    "ExecuteTime": {
     "end_time": "2025-01-23T16:02:05.587460Z",
     "start_time": "2025-01-23T16:02:05.582180Z"
    }
   },
   "outputs": [],
   "source": [
    "mindate = am_df['TIMESTAMP_START'].min()\n",
    "maxdate = am_df['TIMESTAMP_START'].min()"
   ]
  },
  {
   "cell_type": "code",
   "execution_count": null,
   "id": "c4935b25369d5040",
   "metadata": {
    "ExecuteTime": {
     "end_time": "2025-01-23T19:25:01.805219Z",
     "start_time": "2025-01-23T19:25:01.497336Z"
    }
   },
   "outputs": [],
   "source": [
    "#http://192.168.4.14/?command=ClockCheck\n",
    "station = 'UTJ'\n",
    "ip = config[station]['ip']\n",
    "clk_url = f\"http://{ip}:{port}/?\"\n",
    "#url = f\"http://{ip}/tables.html?command=DataQuery&mode=since-record&format=toA5&uri=dl:Flux_AmeriFluxFormat&p1=0\"\n",
    "clk_args = {'command':'ClockCheck',\n",
    "        'uri':'dl',\n",
    "        'format':'json',\n",
    "        }\n",
    "clktimeresp = requests.get(clk_url, params=clk_args, auth=HTTPBasicAuth(config['LOGGER']['login'], config['LOGGER']['pw'])).json()\n",
    "if 'time' in clktimeresp.keys():\n",
    "    clktime = clktimeresp['time']\n",
    "else:\n",
    "    clktime = None\n",
    "\n",
    "comptime = f\"{datetime.datetime.now():%Y-%m-%d %H:%M:%S}\""
   ]
  },
  {
   "cell_type": "code",
   "execution_count": null,
   "id": "b9257585fa8e3309",
   "metadata": {
    "ExecuteTime": {
     "end_time": "2025-01-23T19:25:14.149430Z",
     "start_time": "2025-01-23T19:25:14.142432Z"
    }
   },
   "outputs": [],
   "source": [
    "comptime"
   ]
  },
  {
   "cell_type": "code",
   "execution_count": null,
   "id": "27437da798c677dc",
   "metadata": {
    "ExecuteTime": {
     "end_time": "2025-01-23T19:33:14.179687Z",
     "start_time": "2025-01-23T19:32:46.474604Z"
    }
   },
   "outputs": [],
   "source": [
    "station = 'UTE'\n",
    "ip = config[station]['ip']\n",
    "port = config[station]['met']\n",
    "url = f\"http://{ip}:{port}/tables.html?\"\n",
    "params = {'command':'DataQuery',\n",
    "          'mode':'since-record',\n",
    "          'format':'toA5',\n",
    "          'uri':'dl:Statistics_AmeriFlux',\n",
    "          'p1':0,\n",
    "          }\n",
    "response_1 = requests.get(url, params=params ,auth=HTTPBasicAuth(config['LOGGER']['login'], config['LOGGER']['pw']))\n",
    "if response_1.status_code == 200:\n",
    "    headers = pd.read_csv(BytesIO(response_1.content),skiprows=[0]).iloc[0:2,:].T\n",
    "    raw_data = pd.read_csv(BytesIO(response_1.content),skiprows=[0,2,3])\n",
    "\n"
   ]
  }
 ],
 "metadata": {
  "kernelspec": {
   "display_name": "py313",
   "language": "python",
   "name": "python3"
  },
  "language_info": {
   "codemirror_mode": {
    "name": "ipython",
    "version": 3
   },
   "file_extension": ".py",
   "mimetype": "text/x-python",
   "name": "python",
   "nbconvert_exporter": "python",
   "pygments_lexer": "ipython3",
   "version": "3.13.1"
  }
 },
 "nbformat": 4,
 "nbformat_minor": 5
}
