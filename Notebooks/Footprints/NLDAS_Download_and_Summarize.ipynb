{
 "cells": [
  {
   "cell_type": "code",
   "execution_count": null,
   "id": "initial_id",
   "metadata": {
    "collapsed": true
   },
   "outputs": [],
   "source": [
    ""
   ]
  },
  {
   "metadata": {},
   "cell_type": "code",
   "outputs": [],
   "execution_count": null,
   "source": [
    "from pathlib import Path\n",
    "\n",
    "import sys\n",
    "import numpy as np\n",
    "import pandas as pd\n",
    "import rasterio\n",
    "import refet\n",
    "import pyproj as proj\n",
    "import xarray\n",
    "import requests\n",
    "import multiprocessing as mp"
   ],
   "id": "cd9be26297303296"
  },
  {
   "metadata": {},
   "cell_type": "code",
   "outputs": [],
   "execution_count": null,
   "source": [
    "#sys.path.append(\"//\")\n",
    "sys.path.append(\"../../../Micromet\")\n",
    "import micromet\n",
    "from micromet.volk import ffp_climatology as ffp\n",
    "from micromet import AmerifluxDataProcessor"
   ],
   "id": "519882a5fac83fa4"
  },
  {
   "metadata": {},
   "cell_type": "code",
   "outputs": [],
   "execution_count": null,
   "source": [
    "import configparser\n",
    "# load initial flux data\n",
    "station = 'US-UTW'\n",
    "config_path = f'../../station_config/{station}.ini'\n",
    "config = configparser.ConfigParser()\n",
    "config.read(config_path)\n",
    "\n",
    "spath = \"../../secrets/config.ini\"\n",
    "sconfig = configparser.ConfigParser()\n",
    "sconfig.read(spath)\n",
    "\n",
    "ed_pass = sconfig['NLDAS']['pw']\n",
    "ed_user = sconfig['NLDAS']['user']"
   ],
   "id": "89609b26511374eb"
  },
  {
   "metadata": {},
   "cell_type": "code",
   "outputs": [],
   "execution_count": null,
   "source": [
    "import datetime\n",
    "\n",
    "#nldas_out_dir = Path('C:/Users/paulinkenbrandt/Documents/GitHub/MicroMet/Notebooks/Footprints')\n",
    "\n",
    "\n",
    "for date in pd.date_range(start='2022-01-01', end='2025-12-31',freq='h'):\n",
    "    hour = date.hour\n",
    "    if 5 <= hour <= 21:\n",
    "        micromet.download_nldas(date,\n",
    "                           hour,\n",
    "                           ed_user,\n",
    "                           ed_pass,)"
   ],
   "id": "a1d5d82545c26f60"
  },
  {
   "metadata": {},
   "cell_type": "code",
   "outputs": [],
   "execution_count": null,
   "source": "",
   "id": "8aa223f22d0fdbe5"
  }
 ],
 "metadata": {
  "kernelspec": {
   "display_name": "Python 3",
   "language": "python",
   "name": "python3"
  },
  "language_info": {
   "codemirror_mode": {
    "name": "ipython",
    "version": 2
   },
   "file_extension": ".py",
   "mimetype": "text/x-python",
   "name": "python",
   "nbconvert_exporter": "python",
   "pygments_lexer": "ipython2",
   "version": "2.7.6"
  }
 },
 "nbformat": 4,
 "nbformat_minor": 5
}
