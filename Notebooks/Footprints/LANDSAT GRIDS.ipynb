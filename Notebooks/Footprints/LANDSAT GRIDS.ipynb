{
 "cells": [
  {
   "metadata": {
    "ExecuteTime": {
     "end_time": "2025-02-03T13:59:42.731821Z",
     "start_time": "2025-02-03T13:58:42.824722Z"
    }
   },
   "cell_type": "code",
   "source": [
    "import ee\n",
    "ee.Authenticate()\n",
    "# Initialize Earth Engine\n"
   ],
   "id": "ba0060926a0469ab",
   "outputs": [
    {
     "data": {
      "text/plain": [
       "<IPython.core.display.HTML object>"
      ],
      "text/html": [
       "<p>To authorize access needed by Earth Engine, open the following\n",
       "        URL in a web browser and follow the instructions:</p>\n",
       "        <p><a href=https://code.earthengine.google.com/client-auth?scopes=https%3A//www.googleapis.com/auth/earthengine%20https%3A//www.googleapis.com/auth/cloud-platform%20https%3A//www.googleapis.com/auth/devstorage.full_control&request_id=wEZOEl51BA8k4Qzby7XyXheIuDIoysDNaaBhzCbwJQ4&tc=5_yRr_kL1MeoK89wVtJyCj5thRRh3p3O3auOBew7vk8&cc=thrmqKUmfh7GQure2DO-k2QvMPl6Drm1Fhd09o4SUu8>https://code.earthengine.google.com/client-auth?scopes=https%3A//www.googleapis.com/auth/earthengine%20https%3A//www.googleapis.com/auth/cloud-platform%20https%3A//www.googleapis.com/auth/devstorage.full_control&request_id=wEZOEl51BA8k4Qzby7XyXheIuDIoysDNaaBhzCbwJQ4&tc=5_yRr_kL1MeoK89wVtJyCj5thRRh3p3O3auOBew7vk8&cc=thrmqKUmfh7GQure2DO-k2QvMPl6Drm1Fhd09o4SUu8</a></p>\n",
       "        <p>The authorization workflow will generate a code, which you should paste in the box below.</p>\n",
       "        "
      ]
     },
     "metadata": {},
     "output_type": "display_data"
    },
    {
     "name": "stdout",
     "output_type": "stream",
     "text": [
      "\n",
      "Successfully saved authorization token.\n"
     ]
    }
   ],
   "execution_count": 2
  },
  {
   "metadata": {
    "ExecuteTime": {
     "end_time": "2025-02-03T14:01:41.314069Z",
     "start_time": "2025-02-03T14:01:40.720012Z"
    }
   },
   "cell_type": "code",
   "source": "ee.Initialize()",
   "id": "a247b5fa1a8cf7ed",
   "outputs": [],
   "execution_count": 4
  },
  {
   "metadata": {
    "collapsed": true,
    "ExecuteTime": {
     "end_time": "2025-02-03T14:25:47.892510Z",
     "start_time": "2025-02-03T14:25:46.776049Z"
    }
   },
   "cell_type": "code",
   "source": [
    "\n",
    "\n",
    "# Define the Bounding Box (BBOX) as [min_lon, min_lat, max_lon, max_lat]\n",
    "#bbox = ee.Geometry.BBox(-113.5, 38.8, -113.0, 39.2)  # Example for Pahvant Valley\n",
    "\n",
    "# xmin, ymin, xmax, ymax\n",
    "box = [-110.75, 39.43, -110.7, 39.46]\n",
    "\n",
    "bbox = ee.Geometry.BBox(*box)\n",
    "# Load the Landsat 8 image collection\n",
    "# Load Landsat 8 TOA collection\n",
    "landsat = (\n",
    "    ee.ImageCollection(\"LANDSAT/LC08/C02/T1_TOA\")\n",
    "    .filterBounds(bbox)\n",
    "    .filterDate(\"2023-06-01\", \"2023-06-30\")\n",
    "    .sort(\"CLOUD_COVER\")\n",
    "    .first()\n",
    ")\n",
    "\n",
    "# Select only the 30m bands to avoid projection issues\n",
    "bands_30m = ['B1', 'B2', 'B3', 'B4', 'B5', 'B6', 'B7']  # Excludes B8 (15m) & B10/B11 (100m)\n",
    "landsat = landsat.select(bands_30m)\n",
    "\n",
    "# Convert all bands to Float32 to ensure consistency\n",
    "landsat = landsat.toFloat()\n",
    "\n",
    "# Get the original projection and scale\n",
    "orig_proj = landsat.select('B1').projection()\n",
    "orig_scale = orig_proj.nominalScale()\n",
    "\n",
    "# Reproject to preserve the Landsat grid\n",
    "reprojected_image = landsat.reproject(crs=orig_proj, scale=orig_scale)\n",
    "\n",
    "\n",
    "\n",
    "# Define export parameters\n",
    "export_task = ee.batch.Export.image.toDrive(\n",
    "    image=reprojected_image,\n",
    "    description=\"Landsat_Grid_Preserved\",\n",
    "    folder=\"EarthEngineExports\",\n",
    "    fileNamePrefix=\"landsat_grid_sample\",\n",
    "    scale=30,  # Landsat native resolution\n",
    "    region=bbox.bounds().getInfo()[\"coordinates\"],  # Use bounding box\n",
    "    fileFormat=\"GeoTIFF\",\n",
    "    crs=orig_proj.getInfo()[\"crs\"]  # Use original Landsat CRS\n",
    ")\n",
    "\n",
    "# Start the export task\n",
    "export_task.start()\n",
    "\n",
    "print(\"Export started. Check Google Drive for the image.\")\n"
   ],
   "id": "initial_id",
   "outputs": [
    {
     "name": "stdout",
     "output_type": "stream",
     "text": [
      "Export started. Check Google Drive for the image.\n"
     ]
    }
   ],
   "execution_count": 12
  },
  {
   "metadata": {
    "ExecuteTime": {
     "end_time": "2025-02-03T14:26:01.538011Z",
     "start_time": "2025-02-03T14:26:01.164892Z"
    }
   },
   "cell_type": "code",
   "source": "print(export_task.status())\n",
   "id": "d04a588aac7af3d4",
   "outputs": [
    {
     "name": "stdout",
     "output_type": "stream",
     "text": [
      "{'state': 'RUNNING', 'description': 'Landsat_Grid_Preserved', 'priority': 100, 'creation_timestamp_ms': 1738592748000, 'update_timestamp_ms': 1738592750883, 'start_timestamp_ms': 1738592750852, 'task_type': 'EXPORT_IMAGE', 'attempt': 1, 'id': 'L7JJUUL6F7M2WGKMDVX2JOW5', 'name': 'projects/114443260784/operations/L7JJUUL6F7M2WGKMDVX2JOW5'}\n"
     ]
    }
   ],
   "execution_count": 14
  },
  {
   "metadata": {
    "ExecuteTime": {
     "end_time": "2025-02-03T14:23:37.748717Z",
     "start_time": "2025-02-03T14:23:37.742718Z"
    }
   },
   "cell_type": "code",
   "source": "landsat",
   "id": "3d81c82597939f1c",
   "outputs": [
    {
     "data": {
      "text/plain": [
       "<ee.image.Image at 0x27feace5c40>"
      ]
     },
     "execution_count": 10,
     "metadata": {},
     "output_type": "execute_result"
    }
   ],
   "execution_count": 10
  },
  {
   "metadata": {},
   "cell_type": "code",
   "outputs": [],
   "execution_count": null,
   "source": "",
   "id": "8ac8ed9dd5c7118f"
  }
 ],
 "metadata": {
  "kernelspec": {
   "display_name": "Python 3",
   "language": "python",
   "name": "python3"
  },
  "language_info": {
   "codemirror_mode": {
    "name": "ipython",
    "version": 2
   },
   "file_extension": ".py",
   "mimetype": "text/x-python",
   "name": "python",
   "nbconvert_exporter": "python",
   "pygments_lexer": "ipython2",
   "version": "2.7.6"
  }
 },
 "nbformat": 4,
 "nbformat_minor": 5
}
